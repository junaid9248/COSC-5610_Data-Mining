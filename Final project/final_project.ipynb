{
 "cells": [
  {
   "cell_type": "markdown",
   "id": "a6ad0c87",
   "metadata": {},
   "source": [
    "# Final Project\n",
    "\n",
    "Work with a Panic Disorder Detection dataset that contains patient demographic information, symptoms, medical history, lifestyle factors, and mental health assessment results. The goal is to analyze the dataset, preprocess the data, resolve class imbalance, extract meaningful features, and evaluate machine learning models for predicting panic disorder."
   ]
  },
  {
   "cell_type": "code",
   "execution_count": 301,
   "id": "e5a8c754",
   "metadata": {},
   "outputs": [],
   "source": [
    "import pandas as pd\n",
    "import numpy as np\n",
    "import matplotlib.pyplot as plt"
   ]
  },
  {
   "cell_type": "markdown",
   "id": "0e62e2b5",
   "metadata": {},
   "source": [
    "## Step 1: Data Exploration & Understanding"
   ]
  },
  {
   "cell_type": "markdown",
   "id": "a11b8fcb",
   "metadata": {},
   "source": [
    "1.1. Load the dataset using pandas"
   ]
  },
  {
   "cell_type": "code",
   "execution_count": 302,
   "id": "3ce1161b",
   "metadata": {},
   "outputs": [],
   "source": [
    "panic = pd.read_csv('C:/Users/ther3/Marquette/Spring 2025/COSC 5610 - Data Mining/codes/Final project/panic_disorder_detection.csv')"
   ]
  },
  {
   "cell_type": "markdown",
   "id": "edb28697",
   "metadata": {},
   "source": [
    "1.2. Printing out basic information of the dataset"
   ]
  },
  {
   "cell_type": "code",
   "execution_count": 303,
   "id": "96c8111f",
   "metadata": {},
   "outputs": [
    {
     "data": {
      "text/html": [
       "<div>\n",
       "<style scoped>\n",
       "    .dataframe tbody tr th:only-of-type {\n",
       "        vertical-align: middle;\n",
       "    }\n",
       "\n",
       "    .dataframe tbody tr th {\n",
       "        vertical-align: top;\n",
       "    }\n",
       "\n",
       "    .dataframe thead th {\n",
       "        text-align: right;\n",
       "    }\n",
       "</style>\n",
       "<table border=\"1\" class=\"dataframe\">\n",
       "  <thead>\n",
       "    <tr style=\"text-align: right;\">\n",
       "      <th></th>\n",
       "      <th>Participant ID</th>\n",
       "      <th>Age</th>\n",
       "      <th>Gender</th>\n",
       "      <th>Family History</th>\n",
       "      <th>Personal History</th>\n",
       "      <th>Current Stressors</th>\n",
       "      <th>Symptoms</th>\n",
       "      <th>Severity</th>\n",
       "      <th>Impact on Life</th>\n",
       "      <th>Demographics</th>\n",
       "      <th>Medical History</th>\n",
       "      <th>Psychiatric History</th>\n",
       "      <th>Substance Use</th>\n",
       "      <th>Coping Mechanisms</th>\n",
       "      <th>Social Support</th>\n",
       "      <th>Lifestyle Factors</th>\n",
       "      <th>Panic Disorder Diagnosis</th>\n",
       "    </tr>\n",
       "  </thead>\n",
       "  <tbody>\n",
       "    <tr>\n",
       "      <th>0</th>\n",
       "      <td>1</td>\n",
       "      <td>38</td>\n",
       "      <td>Male</td>\n",
       "      <td>No</td>\n",
       "      <td>Yes</td>\n",
       "      <td>Moderate</td>\n",
       "      <td>Shortness of breath</td>\n",
       "      <td>Mild</td>\n",
       "      <td>Mild</td>\n",
       "      <td>Rural</td>\n",
       "      <td>Diabetes</td>\n",
       "      <td>Bipolar disorder</td>\n",
       "      <td>NaN</td>\n",
       "      <td>Socializing</td>\n",
       "      <td>High</td>\n",
       "      <td>Sleep quality</td>\n",
       "      <td>0</td>\n",
       "    </tr>\n",
       "    <tr>\n",
       "      <th>1</th>\n",
       "      <td>2</td>\n",
       "      <td>51</td>\n",
       "      <td>Male</td>\n",
       "      <td>No</td>\n",
       "      <td>No</td>\n",
       "      <td>High</td>\n",
       "      <td>Panic attacks</td>\n",
       "      <td>Mild</td>\n",
       "      <td>Mild</td>\n",
       "      <td>Urban</td>\n",
       "      <td>Asthma</td>\n",
       "      <td>Anxiety disorder</td>\n",
       "      <td>Drugs</td>\n",
       "      <td>Exercise</td>\n",
       "      <td>High</td>\n",
       "      <td>Sleep quality</td>\n",
       "      <td>0</td>\n",
       "    </tr>\n",
       "    <tr>\n",
       "      <th>2</th>\n",
       "      <td>3</td>\n",
       "      <td>32</td>\n",
       "      <td>Female</td>\n",
       "      <td>Yes</td>\n",
       "      <td>No</td>\n",
       "      <td>High</td>\n",
       "      <td>Panic attacks</td>\n",
       "      <td>Mild</td>\n",
       "      <td>Significant</td>\n",
       "      <td>Urban</td>\n",
       "      <td>Diabetes</td>\n",
       "      <td>Depressive disorder</td>\n",
       "      <td>NaN</td>\n",
       "      <td>Seeking therapy</td>\n",
       "      <td>Moderate</td>\n",
       "      <td>Exercise</td>\n",
       "      <td>0</td>\n",
       "    </tr>\n",
       "    <tr>\n",
       "      <th>3</th>\n",
       "      <td>4</td>\n",
       "      <td>64</td>\n",
       "      <td>Female</td>\n",
       "      <td>No</td>\n",
       "      <td>No</td>\n",
       "      <td>Moderate</td>\n",
       "      <td>Chest pain</td>\n",
       "      <td>Moderate</td>\n",
       "      <td>Moderate</td>\n",
       "      <td>Rural</td>\n",
       "      <td>Diabetes</td>\n",
       "      <td>NaN</td>\n",
       "      <td>NaN</td>\n",
       "      <td>Meditation</td>\n",
       "      <td>High</td>\n",
       "      <td>Exercise</td>\n",
       "      <td>0</td>\n",
       "    </tr>\n",
       "    <tr>\n",
       "      <th>4</th>\n",
       "      <td>5</td>\n",
       "      <td>31</td>\n",
       "      <td>Male</td>\n",
       "      <td>Yes</td>\n",
       "      <td>No</td>\n",
       "      <td>Moderate</td>\n",
       "      <td>Panic attacks</td>\n",
       "      <td>Mild</td>\n",
       "      <td>Moderate</td>\n",
       "      <td>Rural</td>\n",
       "      <td>Asthma</td>\n",
       "      <td>NaN</td>\n",
       "      <td>Drugs</td>\n",
       "      <td>Seeking therapy</td>\n",
       "      <td>Low</td>\n",
       "      <td>Sleep quality</td>\n",
       "      <td>0</td>\n",
       "    </tr>\n",
       "  </tbody>\n",
       "</table>\n",
       "</div>"
      ],
      "text/plain": [
       "   Participant ID  Age  Gender Family History Personal History  \\\n",
       "0               1   38    Male             No              Yes   \n",
       "1               2   51    Male             No               No   \n",
       "2               3   32  Female            Yes               No   \n",
       "3               4   64  Female             No               No   \n",
       "4               5   31    Male            Yes               No   \n",
       "\n",
       "  Current Stressors             Symptoms  Severity Impact on Life  \\\n",
       "0          Moderate  Shortness of breath      Mild           Mild   \n",
       "1              High        Panic attacks      Mild           Mild   \n",
       "2              High        Panic attacks      Mild    Significant   \n",
       "3          Moderate           Chest pain  Moderate       Moderate   \n",
       "4          Moderate        Panic attacks      Mild       Moderate   \n",
       "\n",
       "  Demographics Medical History  Psychiatric History Substance Use  \\\n",
       "0        Rural        Diabetes     Bipolar disorder           NaN   \n",
       "1        Urban          Asthma     Anxiety disorder         Drugs   \n",
       "2        Urban        Diabetes  Depressive disorder           NaN   \n",
       "3        Rural        Diabetes                  NaN           NaN   \n",
       "4        Rural          Asthma                  NaN         Drugs   \n",
       "\n",
       "  Coping Mechanisms Social Support Lifestyle Factors  Panic Disorder Diagnosis  \n",
       "0       Socializing           High     Sleep quality                         0  \n",
       "1          Exercise           High     Sleep quality                         0  \n",
       "2   Seeking therapy       Moderate          Exercise                         0  \n",
       "3        Meditation           High          Exercise                         0  \n",
       "4   Seeking therapy            Low     Sleep quality                         0  "
      ]
     },
     "execution_count": 303,
     "metadata": {},
     "output_type": "execute_result"
    }
   ],
   "source": [
    "\n",
    "panic.head(5)"
   ]
  },
  {
   "cell_type": "code",
   "execution_count": 304,
   "id": "b61ff68f",
   "metadata": {},
   "outputs": [
    {
     "name": "stdout",
     "output_type": "stream",
     "text": [
      "<class 'pandas.core.frame.DataFrame'>\n",
      "RangeIndex: 120000 entries, 0 to 119999\n",
      "Data columns (total 17 columns):\n",
      " #   Column                    Non-Null Count   Dtype \n",
      "---  ------                    --------------   ----- \n",
      " 0   Participant ID            120000 non-null  int64 \n",
      " 1   Age                       120000 non-null  int64 \n",
      " 2   Gender                    120000 non-null  object\n",
      " 3   Family History            120000 non-null  object\n",
      " 4   Personal History          120000 non-null  object\n",
      " 5   Current Stressors         120000 non-null  object\n",
      " 6   Symptoms                  120000 non-null  object\n",
      " 7   Severity                  120000 non-null  object\n",
      " 8   Impact on Life            120000 non-null  object\n",
      " 9   Demographics              120000 non-null  object\n",
      " 10  Medical History           89776 non-null   object\n",
      " 11  Psychiatric History       90104 non-null   object\n",
      " 12  Substance Use             79922 non-null   object\n",
      " 13  Coping Mechanisms         120000 non-null  object\n",
      " 14  Social Support            120000 non-null  object\n",
      " 15  Lifestyle Factors         120000 non-null  object\n",
      " 16  Panic Disorder Diagnosis  120000 non-null  int64 \n",
      "dtypes: int64(3), object(14)\n",
      "memory usage: 15.6+ MB\n"
     ]
    }
   ],
   "source": [
    "panic.info()"
   ]
  },
  {
   "cell_type": "code",
   "execution_count": 305,
   "id": "320b4edb",
   "metadata": {},
   "outputs": [
    {
     "data": {
      "text/html": [
       "<div>\n",
       "<style scoped>\n",
       "    .dataframe tbody tr th:only-of-type {\n",
       "        vertical-align: middle;\n",
       "    }\n",
       "\n",
       "    .dataframe tbody tr th {\n",
       "        vertical-align: top;\n",
       "    }\n",
       "\n",
       "    .dataframe thead th {\n",
       "        text-align: right;\n",
       "    }\n",
       "</style>\n",
       "<table border=\"1\" class=\"dataframe\">\n",
       "  <thead>\n",
       "    <tr style=\"text-align: right;\">\n",
       "      <th></th>\n",
       "      <th>Participant ID</th>\n",
       "      <th>Age</th>\n",
       "      <th>Panic Disorder Diagnosis</th>\n",
       "    </tr>\n",
       "  </thead>\n",
       "  <tbody>\n",
       "    <tr>\n",
       "      <th>count</th>\n",
       "      <td>120000.000000</td>\n",
       "      <td>120000.000000</td>\n",
       "      <td>120000.00000</td>\n",
       "    </tr>\n",
       "    <tr>\n",
       "      <th>mean</th>\n",
       "      <td>50005.474075</td>\n",
       "      <td>43.060983</td>\n",
       "      <td>0.04285</td>\n",
       "    </tr>\n",
       "    <tr>\n",
       "      <th>std</th>\n",
       "      <td>28859.937508</td>\n",
       "      <td>28.226396</td>\n",
       "      <td>0.20252</td>\n",
       "    </tr>\n",
       "    <tr>\n",
       "      <th>min</th>\n",
       "      <td>1.000000</td>\n",
       "      <td>-10.000000</td>\n",
       "      <td>0.00000</td>\n",
       "    </tr>\n",
       "    <tr>\n",
       "      <th>25%</th>\n",
       "      <td>24997.750000</td>\n",
       "      <td>29.000000</td>\n",
       "      <td>0.00000</td>\n",
       "    </tr>\n",
       "    <tr>\n",
       "      <th>50%</th>\n",
       "      <td>49999.500000</td>\n",
       "      <td>42.000000</td>\n",
       "      <td>0.00000</td>\n",
       "    </tr>\n",
       "    <tr>\n",
       "      <th>75%</th>\n",
       "      <td>74980.000000</td>\n",
       "      <td>54.000000</td>\n",
       "      <td>0.00000</td>\n",
       "    </tr>\n",
       "    <tr>\n",
       "      <th>max</th>\n",
       "      <td>100000.000000</td>\n",
       "      <td>500.000000</td>\n",
       "      <td>1.00000</td>\n",
       "    </tr>\n",
       "  </tbody>\n",
       "</table>\n",
       "</div>"
      ],
      "text/plain": [
       "       Participant ID            Age  Panic Disorder Diagnosis\n",
       "count   120000.000000  120000.000000              120000.00000\n",
       "mean     50005.474075      43.060983                   0.04285\n",
       "std      28859.937508      28.226396                   0.20252\n",
       "min          1.000000     -10.000000                   0.00000\n",
       "25%      24997.750000      29.000000                   0.00000\n",
       "50%      49999.500000      42.000000                   0.00000\n",
       "75%      74980.000000      54.000000                   0.00000\n",
       "max     100000.000000     500.000000                   1.00000"
      ]
     },
     "execution_count": 305,
     "metadata": {},
     "output_type": "execute_result"
    }
   ],
   "source": [
    "panic.describe()"
   ]
  },
  {
   "cell_type": "markdown",
   "id": "77043279",
   "metadata": {},
   "source": [
    "1.3. Check for missing values and duplicate entries "
   ]
  },
  {
   "cell_type": "code",
   "execution_count": 306,
   "id": "d6516cc9",
   "metadata": {},
   "outputs": [
    {
     "name": "stdout",
     "output_type": "stream",
     "text": [
      "The Medical History column has 30224 empty values\n",
      "\n",
      "The Psychiatric History column has 29896 empty values\n",
      "\n",
      "The Substance Use column has 40078 empty values\n",
      "\n"
     ]
    }
   ],
   "source": [
    "from collections import defaultdict\n",
    "\n",
    "target_column = 'Panic Disorder Diagnosis'\n",
    "\n",
    "panic_null = panic.isnull()\n",
    "\n",
    "null_counts = panic.isnull().sum()\n",
    "\n",
    "#defining a dict to store empty values\n",
    "panic_null_dict = defaultdict(list)\n",
    "\n",
    "for index in range(len(panic_null.columns)):\n",
    "\n",
    "    #Skipping the target column\n",
    "    if(index == target_column):\n",
    "        continue\n",
    "\n",
    "    null_index = panic_null.loc[panic_null[panic_null.columns[index]]==True]\n",
    "    \n",
    "    if(len(null_index.index) == 0):\n",
    "        continue\n",
    "    else:\n",
    "        #Adding these empty value indexes to a dictionary\n",
    "        panic_null_dict[panic_null.columns[index]] = null_index.index\n",
    "        print(f'The {null_index.columns[index]} column has {len(null_index.index)} empty values\\n')\n",
    "\n"
   ]
  },
  {
   "cell_type": "code",
   "execution_count": 307,
   "id": "4d9e92b3",
   "metadata": {},
   "outputs": [
    {
     "name": "stdout",
     "output_type": "stream",
     "text": [
      "Yes, the dataset has total number of 19601 duplicate values\n"
     ]
    }
   ],
   "source": [
    "panic_dupes = panic.duplicated()\n",
    "\n",
    "target_column = 'Panic Disorder Diagnosis'\n",
    "dupe_mask = panic.duplicated(subset=panic.columns.difference([target_column]))\n",
    "num_dupes = dupe_mask.sum()\n",
    "\n",
    "if(dupe_mask.any()):\n",
    "    print(f'Yes, the dataset has total number of {num_dupes} duplicate values')\n",
    "else:\n",
    "    print('No dupes found')\n"
   ]
  },
  {
   "cell_type": "markdown",
   "id": "c52b91ab",
   "metadata": {},
   "source": [
    "(1.4) Perform an initial visualization of categorical variables (Gender, Symptoms, Social Support,\n",
    "etc.). Use plotting library to use (e.g., matplotlib, seaborn)\n"
   ]
  },
  {
   "cell_type": "code",
   "execution_count": 308,
   "id": "820efd4b",
   "metadata": {},
   "outputs": [],
   "source": [
    "import seaborn as sns\n",
    "import matplotlib.pyplot as plt"
   ]
  },
  {
   "cell_type": "code",
   "execution_count": 309,
   "id": "7dbc0450",
   "metadata": {},
   "outputs": [
    {
     "data": {
      "image/png": "[encoded data removed]",
      "text/plain": [
       "<Figure size 1800x2500 with 6 Axes>"
      ]
     },
     "metadata": {},
     "output_type": "display_data"
    }
   ],
   "source": [
    "sns.set_style('whitegrid')\n",
    "\n",
    "categorical_vars = [panic.columns[2], panic.columns[6], panic.columns[9],panic.columns[13],panic.columns[14], panic.columns[15]]\n",
    "#categorical_vars\n",
    "\n",
    "plot, axes = plt.subplots(ncols=1, nrows=len(categorical_vars), figsize = (18,25))\n",
    "plot.tight_layout(pad=4.0)\n",
    "\n",
    "for index, variable in enumerate(categorical_vars):\n",
    "    sns.countplot(x=categorical_vars[index],data= panic, hue='Panic Disorder Diagnosis', palette='bright',ax= axes[index])\n",
    "    axes[index].set_title(f'Distribution of {categorical_vars[index]} by Diagnosis')\n",
    "    axes[0].set_ylabel('Count')\n",
    "    axes[0].set_xlabel(categorical_vars[index])\n",
    "\n",
    "plt.show()"
   ]
  },
  {
   "cell_type": "markdown",
   "id": "80f83cf6",
   "metadata": {},
   "source": [
    "(1.5) Identify class imbalance in the target variable (Panic Disorder Diagnosis)"
   ]
  },
  {
   "cell_type": "code",
   "execution_count": 310,
   "id": "c441a2dc",
   "metadata": {},
   "outputs": [],
   "source": [
    "#pandas series containing the diagnosis [0, 1] with counts of how many times they occured\n",
    "classes = panic['Panic Disorder Diagnosis'].value_counts().sort_index()\n",
    "\n",
    "#Getting the sum so that we can find percentage distribution\n",
    "total = classes.sum()\n",
    "\n",
    "#Getting the ckasses as index for representation \n",
    "class_indexes = classes.index\n",
    "\n",
    "#Calculating percentage distribution\n",
    "percentages = []\n",
    "\n",
    "for index in class_indexes:\n",
    "    percentage = round((classes[index]/total)*100, 2)\n",
    "    percentages.append(percentage)\n",
    "\n",
    "#Creating a dataframe that shows us class distribution statistics\n",
    "class_distribution = pd.DataFrame(data=classes)\n",
    "\n",
    "class_distribution['Percentage Distribution'] = percentages\n"
   ]
  },
  {
   "cell_type": "code",
   "execution_count": 311,
   "id": "bb60a34b",
   "metadata": {},
   "outputs": [
    {
     "data": {
      "image/png": "[encoded data removed]",
      "text/plain": [
       "<Figure size 640x480 with 1 Axes>"
      ]
     },
     "metadata": {},
     "output_type": "display_data"
    }
   ],
   "source": [
    "distirbution = sns.barplot(x= class_distribution.index,y='Percentage Distribution' ,data=class_distribution, hue='Panic Disorder Diagnosis', palette='bright')\n",
    "\n",
    "for i in range(len(class_distribution.index)):\n",
    "    distirbution.bar_label(distirbution.containers[i])\n",
    "\n",
    "plt.show()"
   ]
  },
  {
   "cell_type": "markdown",
   "id": "b061b5ec",
   "metadata": {},
   "source": [
    "## Step 2: Data Cleaning & Transformation"
   ]
  },
  {
   "cell_type": "markdown",
   "id": "ffbb7bf0",
   "metadata": {},
   "source": [
    "(2.1) Handle missing values (either drop or impute them appropriately like mean/mode)"
   ]
  },
  {
   "cell_type": "code",
   "execution_count": 312,
   "id": "6d2b0c92",
   "metadata": {},
   "outputs": [
    {
     "name": "stdout",
     "output_type": "stream",
     "text": [
      "For the Medical History column, 25.19% entries are missing/non-null \n",
      "\n",
      "For the Psychiatric History column, 24.91% entries are missing/non-null \n",
      "\n",
      "For the Substance Use column, 33.4% entries are missing/non-null \n",
      "\n"
     ]
    }
   ],
   "source": [
    "missing_vars = ['Medical History', 'Psychiatric History', 'Substance Use']\n",
    "\n",
    "#panic_null_dict\n",
    "for var in missing_vars:\n",
    "    missing = round((len(panic_null_dict[var])/120000)* 100,2) \n",
    "    print(f\"For the {var} column, {missing}% entries are missing/non-null \\n\")"
   ]
  },
  {
   "cell_type": "markdown",
   "id": "bf9697f5",
   "metadata": {},
   "source": [
    "This is why it would be a bad option to drop the rows, rather imputation by mean (most frequent occurence) is the better option"
   ]
  },
  {
   "cell_type": "code",
   "execution_count": 313,
   "id": "48174fea",
   "metadata": {},
   "outputs": [
    {
     "name": "stdout",
     "output_type": "stream",
     "text": [
      "<class 'pandas.core.frame.DataFrame'>\n",
      "RangeIndex: 120000 entries, 0 to 119999\n",
      "Data columns (total 17 columns):\n",
      " #   Column                    Non-Null Count   Dtype \n",
      "---  ------                    --------------   ----- \n",
      " 0   Participant ID            120000 non-null  int64 \n",
      " 1   Age                       120000 non-null  int64 \n",
      " 2   Gender                    120000 non-null  object\n",
      " 3   Family History            120000 non-null  object\n",
      " 4   Personal History          120000 non-null  object\n",
      " 5   Current Stressors         120000 non-null  object\n",
      " 6   Symptoms                  120000 non-null  object\n",
      " 7   Severity                  120000 non-null  object\n",
      " 8   Impact on Life            120000 non-null  object\n",
      " 9   Demographics              120000 non-null  object\n",
      " 10  Medical History           120000 non-null  object\n",
      " 11  Psychiatric History       120000 non-null  object\n",
      " 12  Substance Use             120000 non-null  object\n",
      " 13  Coping Mechanisms         120000 non-null  object\n",
      " 14  Social Support            120000 non-null  object\n",
      " 15  Lifestyle Factors         120000 non-null  object\n",
      " 16  Panic Disorder Diagnosis  120000 non-null  int64 \n",
      "dtypes: int64(3), object(14)\n",
      "memory usage: 15.6+ MB\n"
     ]
    }
   ],
   "source": [
    "for col in missing_vars:\n",
    "    mode = panic[col].mode()[0]\n",
    "    panic.fillna({col: mode}, inplace= True )\n",
    "\n",
    "panic.info()\n"
   ]
  },
  {
   "cell_type": "code",
   "execution_count": 314,
   "id": "f0e8480f",
   "metadata": {},
   "outputs": [
    {
     "name": "stdout",
     "output_type": "stream",
     "text": [
      "Class distribution before droping dupes: \n",
      "\n"
     ]
    },
    {
     "data": {
      "text/html": [
       "<div>\n",
       "<style scoped>\n",
       "    .dataframe tbody tr th:only-of-type {\n",
       "        vertical-align: middle;\n",
       "    }\n",
       "\n",
       "    .dataframe tbody tr th {\n",
       "        vertical-align: top;\n",
       "    }\n",
       "\n",
       "    .dataframe thead th {\n",
       "        text-align: right;\n",
       "    }\n",
       "</style>\n",
       "<table border=\"1\" class=\"dataframe\">\n",
       "  <thead>\n",
       "    <tr style=\"text-align: right;\">\n",
       "      <th></th>\n",
       "      <th>count</th>\n",
       "      <th>Percentage Distribution</th>\n",
       "    </tr>\n",
       "    <tr>\n",
       "      <th>Panic Disorder Diagnosis</th>\n",
       "      <th></th>\n",
       "      <th></th>\n",
       "    </tr>\n",
       "  </thead>\n",
       "  <tbody>\n",
       "    <tr>\n",
       "      <th>0</th>\n",
       "      <td>114858</td>\n",
       "      <td>95.71</td>\n",
       "    </tr>\n",
       "    <tr>\n",
       "      <th>1</th>\n",
       "      <td>5142</td>\n",
       "      <td>4.28</td>\n",
       "    </tr>\n",
       "  </tbody>\n",
       "</table>\n",
       "</div>"
      ],
      "text/plain": [
       "                           count  Percentage Distribution\n",
       "Panic Disorder Diagnosis                                 \n",
       "0                         114858                    95.71\n",
       "1                           5142                     4.28"
      ]
     },
     "execution_count": 314,
     "metadata": {},
     "output_type": "execute_result"
    }
   ],
   "source": [
    "print(\"Class distribution before droping dupes: \\n\")\n",
    "class_distribution"
   ]
  },
  {
   "cell_type": "code",
   "execution_count": 315,
   "id": "c0a56b62",
   "metadata": {},
   "outputs": [],
   "source": [
    "panic_cleaned = panic.drop_duplicates(subset=panic.columns.difference(['Panic Disorder Diagnosis']))"
   ]
  },
  {
   "cell_type": "code",
   "execution_count": 316,
   "id": "2ca3327e",
   "metadata": {},
   "outputs": [
    {
     "data": {
      "text/html": [
       "<div>\n",
       "<style scoped>\n",
       "    .dataframe tbody tr th:only-of-type {\n",
       "        vertical-align: middle;\n",
       "    }\n",
       "\n",
       "    .dataframe tbody tr th {\n",
       "        vertical-align: top;\n",
       "    }\n",
       "\n",
       "    .dataframe thead th {\n",
       "        text-align: right;\n",
       "    }\n",
       "</style>\n",
       "<table border=\"1\" class=\"dataframe\">\n",
       "  <thead>\n",
       "    <tr style=\"text-align: right;\">\n",
       "      <th></th>\n",
       "      <th>count</th>\n",
       "      <th>Percentage Distribution</th>\n",
       "    </tr>\n",
       "    <tr>\n",
       "      <th>Panic Disorder Diagnosis</th>\n",
       "      <th></th>\n",
       "      <th></th>\n",
       "    </tr>\n",
       "  </thead>\n",
       "  <tbody>\n",
       "    <tr>\n",
       "      <th>0</th>\n",
       "      <td>96087</td>\n",
       "      <td>95.71</td>\n",
       "    </tr>\n",
       "    <tr>\n",
       "      <th>1</th>\n",
       "      <td>4312</td>\n",
       "      <td>4.29</td>\n",
       "    </tr>\n",
       "  </tbody>\n",
       "</table>\n",
       "</div>"
      ],
      "text/plain": [
       "                          count  Percentage Distribution\n",
       "Panic Disorder Diagnosis                                \n",
       "0                         96087                    95.71\n",
       "1                          4312                     4.29"
      ]
     },
     "execution_count": 316,
     "metadata": {},
     "output_type": "execute_result"
    }
   ],
   "source": [
    "#pandas series containing the diagnosis [0, 1] with counts of how many times they occured for cleaned panic data set\n",
    "classes = panic_cleaned['Panic Disorder Diagnosis'].value_counts().sort_index()\n",
    "total = classes.sum()\n",
    "class_indexes = classes.index\n",
    "percentages = []\n",
    "\n",
    "for index in class_indexes:\n",
    "    percentage = round((classes[index]/total)*100, 2)\n",
    "    percentages.append(percentage)\n",
    "\n",
    "#Creating a dataframe that shows us class distribution statistics\n",
    "class_distribution_cleaned = pd.DataFrame(data=classes)\n",
    "class_distribution_cleaned['Percentage Distribution'] = percentages\n",
    "class_distribution_cleaned\n"
   ]
  },
  {
   "cell_type": "markdown",
   "id": "c6adb81c",
   "metadata": {},
   "source": [
    "As there was no significant change in the distribution of the class variables, we now have a cleaned data set free of null values and dupes"
   ]
  },
  {
   "cell_type": "markdown",
   "id": "517b1d86",
   "metadata": {},
   "source": [
    "(2.3) Convert categorical columns into consistent format (fix typos, lowercase, remove extra\n",
    "spaces)"
   ]
  },
  {
   "cell_type": "code",
   "execution_count": 317,
   "id": "fbcce27f",
   "metadata": {},
   "outputs": [
    {
     "name": "stdout",
     "output_type": "stream",
     "text": [
      "The unique values for Gender columns are: \n",
      "\n",
      "['male' 'female']\n",
      "*--------------------------------------------------*\n",
      "\n",
      "The unique values for Family History columns are: \n",
      "\n",
      "['no' 'yes']\n",
      "*--------------------------------------------------*\n",
      "\n",
      "The unique values for Personal History columns are: \n",
      "\n",
      "['yes' 'no']\n",
      "*--------------------------------------------------*\n",
      "\n",
      "The unique values for Current Stressors columns are: \n",
      "\n",
      "['moderate' 'high' 'low']\n",
      "*--------------------------------------------------*\n",
      "\n",
      "The unique values for Symptoms columns are: \n",
      "\n",
      "['shortness of breath' 'panic attacks' 'chest pain' 'dizziness'\n",
      " 'fear of losing control' 'dizzines' 'panic attack']\n",
      "*--------------------------------------------------*\n",
      "\n",
      "The unique values for Severity columns are: \n",
      "\n",
      "['mild' 'moderate' 'severe']\n",
      "*--------------------------------------------------*\n",
      "\n",
      "The unique values for Impact on Life columns are: \n",
      "\n",
      "['mild' 'significant' 'moderate']\n",
      "*--------------------------------------------------*\n",
      "\n",
      "The unique values for Demographics columns are: \n",
      "\n",
      "['rural' 'urban']\n",
      "*--------------------------------------------------*\n",
      "\n",
      "The unique values for Medical History columns are: \n",
      "\n",
      "['diabetes' 'asthma' 'heart disease' 'diabetic']\n",
      "*--------------------------------------------------*\n",
      "\n",
      "The unique values for Psychiatric History columns are: \n",
      "\n",
      "['bipolar disorder' 'anxiety disorder' 'depressive disorder']\n",
      "*--------------------------------------------------*\n",
      "\n",
      "The unique values for Substance Use columns are: \n",
      "\n",
      "['alcohol' 'drugs']\n",
      "*--------------------------------------------------*\n",
      "\n",
      "The unique values for Coping Mechanisms columns are: \n",
      "\n",
      "['socializing' 'exercise' 'seeking therapy' 'meditation' 'socialize'\n",
      " 'meditate']\n",
      "*--------------------------------------------------*\n",
      "\n",
      "The unique values for Social Support columns are: \n",
      "\n",
      "['high' 'moderate' 'low']\n",
      "*--------------------------------------------------*\n",
      "\n",
      "The unique values for Lifestyle Factors columns are: \n",
      "\n",
      "['sleep quality' 'exercise' 'diet']\n",
      "*--------------------------------------------------*\n",
      "\n"
     ]
    }
   ],
   "source": [
    "cat_cols = panic_cleaned.select_dtypes(include= object).columns\n",
    "cat_cols\n",
    "\n",
    "for col in cat_cols:\n",
    "\n",
    "    #Converting to lower case\n",
    "    panic_cleaned.loc[:, col] = (panic_cleaned[col].astype(str).str.lower().str.strip().str.replace(r'\\s+', ' ', regex=True))\n",
    "\n",
    "    print(f'The unique values for {col} columns are: \\n')\n",
    "    print(panic_cleaned[col].unique())\n",
    "    print('*' + '-'*50 + '*' +'\\n')\n"
   ]
  },
  {
   "cell_type": "code",
   "execution_count": 318,
   "id": "796d857d",
   "metadata": {},
   "outputs": [
    {
     "name": "stdout",
     "output_type": "stream",
     "text": [
      "The unique values for Gender columns are: \n",
      "\n",
      "['male' 'female']\n",
      "*--------------------------------------------------*\n",
      "\n",
      "The unique values for Family History columns are: \n",
      "\n",
      "['no' 'yes']\n",
      "*--------------------------------------------------*\n",
      "\n",
      "The unique values for Personal History columns are: \n",
      "\n",
      "['yes' 'no']\n",
      "*--------------------------------------------------*\n",
      "\n",
      "The unique values for Current Stressors columns are: \n",
      "\n",
      "['moderate' 'high' 'low']\n",
      "*--------------------------------------------------*\n",
      "\n",
      "The unique values for Symptoms columns are: \n",
      "\n",
      "['shortness of breath' 'panic attack' 'chest pain' 'dizziness'\n",
      " 'fear of losing control']\n",
      "*--------------------------------------------------*\n",
      "\n",
      "The unique values for Severity columns are: \n",
      "\n",
      "['mild' 'moderate' 'severe']\n",
      "*--------------------------------------------------*\n",
      "\n",
      "The unique values for Impact on Life columns are: \n",
      "\n",
      "['mild' 'significant' 'moderate']\n",
      "*--------------------------------------------------*\n",
      "\n",
      "The unique values for Demographics columns are: \n",
      "\n",
      "['rural' 'urban']\n",
      "*--------------------------------------------------*\n",
      "\n",
      "The unique values for Medical History columns are: \n",
      "\n",
      "['diabetes' 'asthma' 'heart disease']\n",
      "*--------------------------------------------------*\n",
      "\n",
      "The unique values for Psychiatric History columns are: \n",
      "\n",
      "['bipolar disorder' 'anxiety disorder' 'depressive disorder']\n",
      "*--------------------------------------------------*\n",
      "\n",
      "The unique values for Substance Use columns are: \n",
      "\n",
      "['alcohol' 'drugs']\n",
      "*--------------------------------------------------*\n",
      "\n",
      "The unique values for Coping Mechanisms columns are: \n",
      "\n",
      "['socializing' 'exercise' 'seeking therapy' 'meditation' 'socialize'\n",
      " 'meditate']\n",
      "*--------------------------------------------------*\n",
      "\n",
      "The unique values for Social Support columns are: \n",
      "\n",
      "['high' 'moderate' 'low']\n",
      "*--------------------------------------------------*\n",
      "\n",
      "The unique values for Lifestyle Factors columns are: \n",
      "\n",
      "['sleep quality' 'exercise' 'diet']\n",
      "*--------------------------------------------------*\n",
      "\n"
     ]
    },
    {
     "name": "stderr",
     "output_type": "stream",
     "text": [
      "C:\\Users\\ther3\\AppData\\Local\\Temp\\ipykernel_24264\\295461590.py:4: FutureWarning: A value is trying to be set on a copy of a DataFrame or Series through chained assignment using an inplace method.\n",
      "The behavior will change in pandas 3.0. This inplace method will never work because the intermediate object on which we are setting values always behaves as a copy.\n",
      "\n",
      "For example, when doing 'df[col].method(value, inplace=True)', try using 'df.method({col: value}, inplace=True)' or df[col] = df[col].method(value) instead, to perform the operation inplace on the original object.\n",
      "\n",
      "\n",
      "  panic_cleaned[cat_cols[4]].replace(to_replace=['dizzines','panic attacks'], value=['dizziness', 'panic attack'], inplace=True)\n",
      "C:\\Users\\ther3\\AppData\\Local\\Temp\\ipykernel_24264\\295461590.py:4: SettingWithCopyWarning: \n",
      "A value is trying to be set on a copy of a slice from a DataFrame\n",
      "\n",
      "See the caveats in the documentation: https://pandas.pydata.org/pandas-docs/stable/user_guide/indexing.html#returning-a-view-versus-a-copy\n",
      "  panic_cleaned[cat_cols[4]].replace(to_replace=['dizzines','panic attacks'], value=['dizziness', 'panic attack'], inplace=True)\n",
      "C:\\Users\\ther3\\AppData\\Local\\Temp\\ipykernel_24264\\295461590.py:5: FutureWarning: A value is trying to be set on a copy of a DataFrame or Series through chained assignment using an inplace method.\n",
      "The behavior will change in pandas 3.0. This inplace method will never work because the intermediate object on which we are setting values always behaves as a copy.\n",
      "\n",
      "For example, when doing 'df[col].method(value, inplace=True)', try using 'df.method({col: value}, inplace=True)' or df[col] = df[col].method(value) instead, to perform the operation inplace on the original object.\n",
      "\n",
      "\n",
      "  panic_cleaned[cat_cols[8]].replace(to_replace=['diabetic'], value=['diabetes'], inplace=True)\n",
      "C:\\Users\\ther3\\AppData\\Local\\Temp\\ipykernel_24264\\295461590.py:5: SettingWithCopyWarning: \n",
      "A value is trying to be set on a copy of a slice from a DataFrame\n",
      "\n",
      "See the caveats in the documentation: https://pandas.pydata.org/pandas-docs/stable/user_guide/indexing.html#returning-a-view-versus-a-copy\n",
      "  panic_cleaned[cat_cols[8]].replace(to_replace=['diabetic'], value=['diabetes'], inplace=True)\n"
     ]
    }
   ],
   "source": [
    "#Cleaning up symptoms and medical history column\n",
    "\n",
    "#df.method({col: value}, inplace=True)\n",
    "panic_cleaned[cat_cols[4]].replace(to_replace=['dizzines','panic attacks'], value=['dizziness', 'panic attack'], inplace=True)\n",
    "panic_cleaned[cat_cols[8]].replace(to_replace=['diabetic'], value=['diabetes'], inplace=True)\n",
    "\n",
    "for col in (cat_cols):\n",
    "    print(f'The unique values for {col} columns are: \\n')\n",
    "    print(panic_cleaned[col].unique())\n",
    "    print('*' + '-'*50 + '*' +'\\n')"
   ]
  },
  {
   "cell_type": "markdown",
   "id": "c6cf0bed",
   "metadata": {},
   "source": [
    "(2.4) Convert date-related fields (if any) into proper datetime format\n"
   ]
  },
  {
   "cell_type": "code",
   "execution_count": 319,
   "id": "745f78a9",
   "metadata": {},
   "outputs": [
    {
     "name": "stdout",
     "output_type": "stream",
     "text": [
      "There no date-related fields in this dataset\n"
     ]
    }
   ],
   "source": [
    "panic_cleaned_date = panic_cleaned.select_dtypes(include= ['datetime', 'datetime64'])\n",
    "\n",
    "if ( not panic_cleaned_date.empty):\n",
    "    print('There is at least one datetime column:')\n",
    "    print(list(panic_cleaned_date.columns))\n",
    "else:\n",
    "    print('There no date-related fields in this dataset')"
   ]
  },
  {
   "cell_type": "markdown",
   "id": "d45ff60f",
   "metadata": {},
   "source": [
    "(2.5) Handle outliers in numerical columns (Age, Severity, etc.). Visualize distributions first (e.g.,\n",
    "boxplots or histograms) and possibly remove or cap/floor extreme values."
   ]
  },
  {
   "cell_type": "code",
   "execution_count": 320,
   "id": "8f0c75d0",
   "metadata": {},
   "outputs": [
    {
     "name": "stdout",
     "output_type": "stream",
     "text": [
      "Index(['Participant ID', 'Age', 'Panic Disorder Diagnosis'], dtype='object')\n"
     ]
    }
   ],
   "source": [
    "numericals= panic_cleaned.select_dtypes(exclude='object')\n",
    "numerical_cols = numericals.columns\n",
    "print((numerical_cols))"
   ]
  },
  {
   "cell_type": "code",
   "execution_count": 321,
   "id": "6d43a4df",
   "metadata": {},
   "outputs": [
    {
     "name": "stdout",
     "output_type": "stream",
     "text": [
      "The q1 value is: 29.0\n",
      "The median value is: 0    54\n",
      "Name: Age, dtype: int64\n",
      "The q3 value is: 54.0\n",
      "The lower bound value is: -8.5\n",
      "The upper bound value is: 91.5\n"
     ]
    }
   ],
   "source": [
    "#Creating a five-point summary of the age column\n",
    "ages = panic_cleaned[numerical_cols[1]].sort_values(ascending=True)\n",
    "\n",
    "q1 = np.percentile(ages, 25)\n",
    "q3 = np.percentile(ages, 75)\n",
    "\n",
    "inter_quartile_range = q3-q1\n",
    "\n",
    "lower = q1 - (1.5*inter_quartile_range)\n",
    "upper = q3 + (1.5*inter_quartile_range)\n",
    "\n",
    "print(f\"The q1 value is: {q1}\")\n",
    "print(f\"The median value is: {ages.mode()}\")\n",
    "print(f\"The q3 value is: {q3}\")\n",
    "\n",
    "print(f\"The lower bound value is: {lower}\")\n",
    "print(f\"The upper bound value is: {upper}\")\n",
    "\n",
    "#Listing all outliers\n",
    "outliers = []\n",
    "for age in ages:\n",
    "    if(age< lower or age>upper):\n",
    "        outliers.append(int(age))\n",
    "\n",
    "#print('The outliers are: {}'.format(outliers))"
   ]
  },
  {
   "cell_type": "code",
   "execution_count": 322,
   "id": "719645af",
   "metadata": {},
   "outputs": [
    {
     "data": {
      "text/plain": [
       "<matplotlib.lines.Line2D at 0x25bb2f4f0b0>"
      ]
     },
     "execution_count": 322,
     "metadata": {},
     "output_type": "execute_result"
    },
    {
     "data": {
      "image/png": "[encoded data removed]",
      "text/plain": [
       "<Figure size 1000x200 with 1 Axes>"
      ]
     },
     "metadata": {},
     "output_type": "display_data"
    }
   ],
   "source": [
    "# Visualizing boxplots to show distribution of outliers\n",
    "plt.figure(figsize=(10,2))\n",
    "sns.boxplot(x= panic_cleaned['Age'])\n",
    "plt.title('Boxplot of Age before capping')\n",
    "\n",
    "plt.axvline(q1, color='orange', linestyle='--', label=f'Q1 = {q1:.1f}')\n",
    "plt.axvline(q3, color='green', linestyle='--', label=f'Q3 = {q3:.1f}')\n",
    "\n",
    "plt.axvline(lower, color='red', linestyle=':', label=f'Lower whisker = {lower:.1f}')\n",
    "plt.axvline(upper, color='purple', linestyle=':', label=f'Upper whisker = {upper:.1f}')"
   ]
  },
  {
   "cell_type": "code",
   "execution_count": 323,
   "id": "c6e2d89d",
   "metadata": {},
   "outputs": [
    {
     "name": "stdout",
     "output_type": "stream",
     "text": [
      "The actual possible minimum age is : 18 \n",
      "\n"
     ]
    },
    {
     "name": "stderr",
     "output_type": "stream",
     "text": [
      "C:\\Users\\ther3\\AppData\\Local\\Temp\\ipykernel_24264\\708080190.py:5: SettingWithCopyWarning: \n",
      "A value is trying to be set on a copy of a slice from a DataFrame.\n",
      "Try using .loc[row_indexer,col_indexer] = value instead\n",
      "\n",
      "See the caveats in the documentation: https://pandas.pydata.org/pandas-docs/stable/user_guide/indexing.html#returning-a-view-versus-a-copy\n",
      "  panic_cleaned['Age'] = np.clip(panic_cleaned['Age'], a_min=min_age_actual[37], a_max=round(upper))\n"
     ]
    }
   ],
   "source": [
    "#Cleaning the age column to remove all extreme outliers by using lower and upper bounds as clipping\n",
    "min_age_actual = panic_cleaned['Age'][(panic_cleaned['Age'] > 0) & (panic_cleaned['Age'] <= 18) ]\n",
    "print(f'The actual possible minimum age is : {min_age_actual[37]} \\n')\n",
    "\n",
    "panic_cleaned['Age'] = np.clip(panic_cleaned['Age'], a_min=min_age_actual[37], a_max=round(upper))\n"
   ]
  },
  {
   "cell_type": "code",
   "execution_count": 324,
   "id": "75da661e",
   "metadata": {},
   "outputs": [
    {
     "name": "stdout",
     "output_type": "stream",
     "text": [
      "The q1 value is: 29.0\n",
      "The median value is: 0    18\n",
      "Name: Age, dtype: int64\n",
      "The q3 value is: 54.0\n",
      "The lower bound value is: -8.5\n",
      "The upper bound value is: 91.5\n"
     ]
    },
    {
     "data": {
      "text/plain": [
       "<matplotlib.lines.Line2D at 0x25c095c21b0>"
      ]
     },
     "execution_count": 324,
     "metadata": {},
     "output_type": "execute_result"
    },
    {
     "data": {
      "image/png": "[encoded data removed]",
      "text/plain": [
       "<Figure size 1000x200 with 1 Axes>"
      ]
     },
     "metadata": {},
     "output_type": "display_data"
    }
   ],
   "source": [
    "#Creating a five-point summary of the age column after clipping and generating a boxplot\n",
    "ages = panic_cleaned[numerical_cols[1]].sort_values(ascending=True)\n",
    "\n",
    "q1 = np.percentile(ages, 25)\n",
    "q3 = np.percentile(ages, 75)\n",
    "\n",
    "inter_quartile_range = q3-q1\n",
    "\n",
    "lower = q1 - (1.5*inter_quartile_range)\n",
    "upper = q3 + (1.5*inter_quartile_range)\n",
    "\n",
    "print(f\"The q1 value is: {q1}\")\n",
    "print(f\"The median value is: {ages.mode()}\")\n",
    "print(f\"The q3 value is: {q3}\")\n",
    "\n",
    "print(f\"The lower bound value is: {lower}\")\n",
    "print(f\"The upper bound value is: {upper}\")\n",
    "\n",
    "# Visualizing boxplots to show distribution of outliers\n",
    "plt.figure(figsize=(10,2))\n",
    "sns.boxplot(x= panic_cleaned['Age'])\n",
    "plt.title('Boxplot of Age after capping')\n",
    "\n",
    "plt.axvline(q1, color='orange', linestyle='--', label=f'Q1 = {q1:.1f}')\n",
    "plt.axvline(q3, color='green', linestyle='--', label=f'Q3 = {q3:.1f}')\n",
    "\n",
    "plt.axvline(lower, color='red', linestyle=':', label=f'Lower whisker = {lower:.1f}')\n",
    "plt.axvline(upper, color='purple', linestyle=':', label=f'Upper whisker = {upper:.1f}')"
   ]
  },
  {
   "cell_type": "markdown",
   "id": "4672747f",
   "metadata": {},
   "source": [
    "## Step 3: Handling Class Imbalance"
   ]
  },
  {
   "cell_type": "markdown",
   "id": "84882b39",
   "metadata": {},
   "source": [
    "(3.1) Analyze the imbalance ratio in Panic Disorder Diagnosis"
   ]
  },
  {
   "cell_type": "code",
   "execution_count": 325,
   "id": "68755f25",
   "metadata": {},
   "outputs": [
    {
     "name": "stdout",
     "output_type": "stream",
     "text": [
      "This is the class distribution before SMOTE: \n"
     ]
    },
    {
     "data": {
      "text/html": [
       "<div>\n",
       "<style scoped>\n",
       "    .dataframe tbody tr th:only-of-type {\n",
       "        vertical-align: middle;\n",
       "    }\n",
       "\n",
       "    .dataframe tbody tr th {\n",
       "        vertical-align: top;\n",
       "    }\n",
       "\n",
       "    .dataframe thead th {\n",
       "        text-align: right;\n",
       "    }\n",
       "</style>\n",
       "<table border=\"1\" class=\"dataframe\">\n",
       "  <thead>\n",
       "    <tr style=\"text-align: right;\">\n",
       "      <th></th>\n",
       "      <th>count</th>\n",
       "      <th>Percentage Distribution</th>\n",
       "    </tr>\n",
       "    <tr>\n",
       "      <th>Panic Disorder Diagnosis</th>\n",
       "      <th></th>\n",
       "      <th></th>\n",
       "    </tr>\n",
       "  </thead>\n",
       "  <tbody>\n",
       "    <tr>\n",
       "      <th>0</th>\n",
       "      <td>96087</td>\n",
       "      <td>95.71</td>\n",
       "    </tr>\n",
       "    <tr>\n",
       "      <th>1</th>\n",
       "      <td>4312</td>\n",
       "      <td>4.29</td>\n",
       "    </tr>\n",
       "  </tbody>\n",
       "</table>\n",
       "</div>"
      ],
      "text/plain": [
       "                          count  Percentage Distribution\n",
       "Panic Disorder Diagnosis                                \n",
       "0                         96087                    95.71\n",
       "1                          4312                     4.29"
      ]
     },
     "execution_count": 325,
     "metadata": {},
     "output_type": "execute_result"
    }
   ],
   "source": [
    "print('This is the class distribution before SMOTE: ')\n",
    "class_distribution_cleaned"
   ]
  },
  {
   "cell_type": "markdown",
   "id": "2b281fbb",
   "metadata": {},
   "source": [
    "(3.2.1) Oversampling using SMOTE (Synthetic Minority Oversampling Technique)"
   ]
  },
  {
   "cell_type": "code",
   "execution_count": 326,
   "id": "02c47535",
   "metadata": {},
   "outputs": [],
   "source": [
    "from imblearn.over_sampling import SMOTE\n",
    "from sklearn.preprocessing import LabelEncoder"
   ]
  },
  {
   "cell_type": "code",
   "execution_count": 327,
   "id": "b82c8a0a",
   "metadata": {},
   "outputs": [],
   "source": [
    "#Encoding categorical features\n",
    "X= panic_cleaned.drop('Panic Disorder Diagnosis',axis=1)\n",
    "\n",
    "X_labelled = X.copy()\n",
    "\n",
    "X_labelled_categorical = X_labelled.select_dtypes(include='object')\n",
    "\n",
    "for column in X_labelled_categorical.columns:\n",
    "    lenc= LabelEncoder()\n",
    "    X_labelled[column]= lenc.fit_transform(X_labelled[column].astype(str))\n",
    "\n"
   ]
  },
  {
   "cell_type": "code",
   "execution_count": 328,
   "id": "28eac626",
   "metadata": {},
   "outputs": [],
   "source": [
    "smote = SMOTE(random_state=45)\n",
    "\n",
    "y= panic_cleaned['Panic Disorder Diagnosis']\n",
    "\n",
    "resampled_X, resampled_y = smote.fit_resample(X_labelled, y)\n",
    "\n",
    "panic_smote = pd.DataFrame(data= resampled_X)\n",
    "panic_smote['Panic Disorder Diagnosis']= resampled_y"
   ]
  },
  {
   "cell_type": "code",
   "execution_count": 329,
   "id": "298cdd19",
   "metadata": {},
   "outputs": [
    {
     "name": "stdout",
     "output_type": "stream",
     "text": [
      "The class distribution after SMOTE is: \n",
      "\n"
     ]
    },
    {
     "data": {
      "text/html": [
       "<div>\n",
       "<style scoped>\n",
       "    .dataframe tbody tr th:only-of-type {\n",
       "        vertical-align: middle;\n",
       "    }\n",
       "\n",
       "    .dataframe tbody tr th {\n",
       "        vertical-align: top;\n",
       "    }\n",
       "\n",
       "    .dataframe thead th {\n",
       "        text-align: right;\n",
       "    }\n",
       "</style>\n",
       "<table border=\"1\" class=\"dataframe\">\n",
       "  <thead>\n",
       "    <tr style=\"text-align: right;\">\n",
       "      <th></th>\n",
       "      <th>count</th>\n",
       "      <th>Percentage Distribution</th>\n",
       "    </tr>\n",
       "    <tr>\n",
       "      <th>Panic Disorder Diagnosis</th>\n",
       "      <th></th>\n",
       "      <th></th>\n",
       "    </tr>\n",
       "  </thead>\n",
       "  <tbody>\n",
       "    <tr>\n",
       "      <th>0</th>\n",
       "      <td>96087</td>\n",
       "      <td>50.0</td>\n",
       "    </tr>\n",
       "    <tr>\n",
       "      <th>1</th>\n",
       "      <td>96087</td>\n",
       "      <td>50.0</td>\n",
       "    </tr>\n",
       "  </tbody>\n",
       "</table>\n",
       "</div>"
      ],
      "text/plain": [
       "                          count  Percentage Distribution\n",
       "Panic Disorder Diagnosis                                \n",
       "0                         96087                     50.0\n",
       "1                         96087                     50.0"
      ]
     },
     "execution_count": 329,
     "metadata": {},
     "output_type": "execute_result"
    }
   ],
   "source": [
    "classes_smote = panic_smote['Panic Disorder Diagnosis'].value_counts().sort_index()\n",
    "total = classes_smote.sum()\n",
    "class_indexes = classes_smote.index\n",
    "percentages = []\n",
    "\n",
    "for index in class_indexes:\n",
    "    percentage = round((classes_smote[index]/total)*100, 2)\n",
    "    percentages.append(percentage)\n",
    "\n",
    "#Creating a dataframe that shows us class distribution statistics\n",
    "class_distribution_smote = pd.DataFrame(data=classes_smote)\n",
    "class_distribution_smote['Percentage Distribution'] = percentages\n",
    "print('The class distribution after SMOTE is: \\n')\n",
    "class_distribution_smote"
   ]
  },
  {
   "cell_type": "markdown",
   "id": "f1e56051",
   "metadata": {},
   "source": [
    "(3.2.2) Random undersampling of the majority class"
   ]
  },
  {
   "cell_type": "code",
   "execution_count": 330,
   "id": "6f651326",
   "metadata": {},
   "outputs": [],
   "source": [
    "from imblearn.under_sampling import RandomUnderSampler"
   ]
  },
  {
   "cell_type": "code",
   "execution_count": 331,
   "id": "d35a16f5",
   "metadata": {},
   "outputs": [],
   "source": [
    "rusampler = RandomUnderSampler(random_state= 40)\n",
    "\n",
    "X_rus, y_rus = rusampler.fit_resample(X_labelled, y)\n",
    "\n",
    "panic_rus = pd.DataFrame(data= X_rus)\n",
    "panic_rus['Panic Disorder Diagnosis']= y_rus"
   ]
  },
  {
   "cell_type": "code",
   "execution_count": 332,
   "id": "3f86ac02",
   "metadata": {},
   "outputs": [
    {
     "name": "stdout",
     "output_type": "stream",
     "text": [
      "The class distribution after random undersampling of majority class is: \n",
      "\n"
     ]
    },
    {
     "data": {
      "text/html": [
       "<div>\n",
       "<style scoped>\n",
       "    .dataframe tbody tr th:only-of-type {\n",
       "        vertical-align: middle;\n",
       "    }\n",
       "\n",
       "    .dataframe tbody tr th {\n",
       "        vertical-align: top;\n",
       "    }\n",
       "\n",
       "    .dataframe thead th {\n",
       "        text-align: right;\n",
       "    }\n",
       "</style>\n",
       "<table border=\"1\" class=\"dataframe\">\n",
       "  <thead>\n",
       "    <tr style=\"text-align: right;\">\n",
       "      <th></th>\n",
       "      <th>count</th>\n",
       "      <th>Percentage Distribution</th>\n",
       "    </tr>\n",
       "    <tr>\n",
       "      <th>Panic Disorder Diagnosis</th>\n",
       "      <th></th>\n",
       "      <th></th>\n",
       "    </tr>\n",
       "  </thead>\n",
       "  <tbody>\n",
       "    <tr>\n",
       "      <th>0</th>\n",
       "      <td>96087</td>\n",
       "      <td>50.0</td>\n",
       "    </tr>\n",
       "    <tr>\n",
       "      <th>1</th>\n",
       "      <td>96087</td>\n",
       "      <td>50.0</td>\n",
       "    </tr>\n",
       "  </tbody>\n",
       "</table>\n",
       "</div>"
      ],
      "text/plain": [
       "                          count  Percentage Distribution\n",
       "Panic Disorder Diagnosis                                \n",
       "0                         96087                     50.0\n",
       "1                         96087                     50.0"
      ]
     },
     "execution_count": 332,
     "metadata": {},
     "output_type": "execute_result"
    }
   ],
   "source": [
    "classes_rus = panic_rus['Panic Disorder Diagnosis'].value_counts().sort_index()\n",
    "total = classes_rus.sum()\n",
    "class_indexes = classes_rus.index\n",
    "percentages_rus = []\n",
    "\n",
    "for index in class_indexes:\n",
    "    percentage = round((classes_rus[index]/total)*100, 2)\n",
    "    percentages_rus.append(percentage)\n",
    "\n",
    "#Creating a dataframe that shows us class distribution statistics\n",
    "class_distribution_rus = pd.DataFrame(data=classes_smote)\n",
    "class_distribution_rus['Percentage Distribution'] = percentages_rus\n",
    "print('The class distribution after random undersampling of majority class is: \\n')\n",
    "class_distribution_rus"
   ]
  },
  {
   "cell_type": "markdown",
   "id": "8551ee6a",
   "metadata": {},
   "source": [
    "## Step 4: Feature Engineering"
   ]
  },
  {
   "cell_type": "markdown",
   "id": "dd500d9f",
   "metadata": {},
   "source": [
    "4.1 Feature Engineering on Structured Data  \n",
    "(4.1.1) Encode categorical variables using one-hot encoding or label encoding"
   ]
  },
  {
   "cell_type": "code",
   "execution_count": 333,
   "id": "5d4802bd",
   "metadata": {},
   "outputs": [
    {
     "data": {
      "text/plain": [
       "Index(['Gender', 'Family History', 'Personal History', 'Current Stressors',\n",
       "       'Symptoms', 'Severity', 'Impact on Life', 'Demographics',\n",
       "       'Medical History', 'Psychiatric History', 'Substance Use',\n",
       "       'Coping Mechanisms', 'Social Support', 'Lifestyle Factors'],\n",
       "      dtype='object')"
      ]
     },
     "execution_count": 333,
     "metadata": {},
     "output_type": "execute_result"
    }
   ],
   "source": [
    "panic_cleaned_non_int = panic_cleaned.select_dtypes(exclude='int64')\n",
    "non_int_columns = panic_cleaned_non_int.columns\n",
    "\n",
    "non_int_columns"
   ]
  },
  {
   "cell_type": "markdown",
   "id": "098e9290",
   "metadata": {},
   "source": [
    "#### Label encoding for ordinal feaures : Severity, Impact on Life, Social Support"
   ]
  },
  {
   "cell_type": "code",
   "execution_count": 334,
   "id": "8e443373",
   "metadata": {},
   "outputs": [
    {
     "name": "stdout",
     "output_type": "stream",
     "text": [
      "Unique values of Severity column are: ['mild' 'moderate' 'severe'] \n",
      "\n",
      "Unique values of Impact of life column are: ['mild' 'significant' 'moderate'] \n",
      "\n",
      "Unique values of Social Support column are: ['high' 'moderate' 'low'] \n",
      "\n"
     ]
    }
   ],
   "source": [
    "#For the ordinal variable values, we can find the unique values first\n",
    "print(f\"Unique values of Severity column are: {panic_cleaned_non_int['Severity'].unique()} \\n\")\n",
    "print(f\"Unique values of Impact of life column are: {panic_cleaned_non_int['Impact on Life'].unique()} \\n\")\n",
    "print(f\"Unique values of Social Support column are: {panic_cleaned_non_int['Social Support'].unique()} \\n\")"
   ]
  },
  {
   "cell_type": "code",
   "execution_count": 335,
   "id": "c0fe7baf",
   "metadata": {},
   "outputs": [],
   "source": [
    "from sklearn.preprocessing import OrdinalEncoder as oe"
   ]
  },
  {
   "cell_type": "code",
   "execution_count": 336,
   "id": "5ecec951",
   "metadata": {},
   "outputs": [
    {
     "name": "stderr",
     "output_type": "stream",
     "text": [
      "C:\\Users\\ther3\\AppData\\Local\\Temp\\ipykernel_24264\\3981579715.py:8: SettingWithCopyWarning: \n",
      "A value is trying to be set on a copy of a slice from a DataFrame.\n",
      "Try using .loc[row_indexer,col_indexer] = value instead\n",
      "\n",
      "See the caveats in the documentation: https://pandas.pydata.org/pandas-docs/stable/user_guide/indexing.html#returning-a-view-versus-a-copy\n",
      "  panic_cleaned[ordinal_cols] = encoder.fit_transform(panic_cleaned[ordinal_cols])\n"
     ]
    }
   ],
   "source": [
    "ordinal_cols = ['Severity', 'Impact on Life','Social Support' ]\n",
    "ordinal_ordered=[['mild', 'moderate', 'severe'], ['mild', 'moderate', 'significant'], ['low' ,'moderate' ,'high']]\n",
    "\n",
    "#Initialize a encoder\n",
    "encoder = oe(categories=ordinal_ordered)\n",
    "\n",
    "#Fitting values in specified order into the ordinal value columns\n",
    "panic_cleaned[ordinal_cols] = encoder.fit_transform(panic_cleaned[ordinal_cols])\n"
   ]
  },
  {
   "cell_type": "code",
   "execution_count": 337,
   "id": "faef2609",
   "metadata": {},
   "outputs": [
    {
     "data": {
      "text/html": [
       "<div>\n",
       "<style scoped>\n",
       "    .dataframe tbody tr th:only-of-type {\n",
       "        vertical-align: middle;\n",
       "    }\n",
       "\n",
       "    .dataframe tbody tr th {\n",
       "        vertical-align: top;\n",
       "    }\n",
       "\n",
       "    .dataframe thead th {\n",
       "        text-align: right;\n",
       "    }\n",
       "</style>\n",
       "<table border=\"1\" class=\"dataframe\">\n",
       "  <thead>\n",
       "    <tr style=\"text-align: right;\">\n",
       "      <th></th>\n",
       "      <th>Participant ID</th>\n",
       "      <th>Age</th>\n",
       "      <th>Gender</th>\n",
       "      <th>Family History</th>\n",
       "      <th>Personal History</th>\n",
       "      <th>Current Stressors</th>\n",
       "      <th>Symptoms</th>\n",
       "      <th>Severity</th>\n",
       "      <th>Impact on Life</th>\n",
       "      <th>Demographics</th>\n",
       "      <th>Medical History</th>\n",
       "      <th>Psychiatric History</th>\n",
       "      <th>Substance Use</th>\n",
       "      <th>Coping Mechanisms</th>\n",
       "      <th>Social Support</th>\n",
       "      <th>Lifestyle Factors</th>\n",
       "      <th>Panic Disorder Diagnosis</th>\n",
       "    </tr>\n",
       "  </thead>\n",
       "  <tbody>\n",
       "    <tr>\n",
       "      <th>0</th>\n",
       "      <td>1</td>\n",
       "      <td>38</td>\n",
       "      <td>male</td>\n",
       "      <td>no</td>\n",
       "      <td>yes</td>\n",
       "      <td>moderate</td>\n",
       "      <td>shortness of breath</td>\n",
       "      <td>0.0</td>\n",
       "      <td>0.0</td>\n",
       "      <td>rural</td>\n",
       "      <td>diabetes</td>\n",
       "      <td>bipolar disorder</td>\n",
       "      <td>alcohol</td>\n",
       "      <td>socializing</td>\n",
       "      <td>2.0</td>\n",
       "      <td>sleep quality</td>\n",
       "      <td>0</td>\n",
       "    </tr>\n",
       "    <tr>\n",
       "      <th>1</th>\n",
       "      <td>2</td>\n",
       "      <td>51</td>\n",
       "      <td>male</td>\n",
       "      <td>no</td>\n",
       "      <td>no</td>\n",
       "      <td>high</td>\n",
       "      <td>panic attack</td>\n",
       "      <td>0.0</td>\n",
       "      <td>0.0</td>\n",
       "      <td>urban</td>\n",
       "      <td>asthma</td>\n",
       "      <td>anxiety disorder</td>\n",
       "      <td>drugs</td>\n",
       "      <td>exercise</td>\n",
       "      <td>2.0</td>\n",
       "      <td>sleep quality</td>\n",
       "      <td>0</td>\n",
       "    </tr>\n",
       "    <tr>\n",
       "      <th>2</th>\n",
       "      <td>3</td>\n",
       "      <td>32</td>\n",
       "      <td>female</td>\n",
       "      <td>yes</td>\n",
       "      <td>no</td>\n",
       "      <td>high</td>\n",
       "      <td>panic attack</td>\n",
       "      <td>0.0</td>\n",
       "      <td>2.0</td>\n",
       "      <td>urban</td>\n",
       "      <td>diabetes</td>\n",
       "      <td>depressive disorder</td>\n",
       "      <td>alcohol</td>\n",
       "      <td>seeking therapy</td>\n",
       "      <td>1.0</td>\n",
       "      <td>exercise</td>\n",
       "      <td>0</td>\n",
       "    </tr>\n",
       "    <tr>\n",
       "      <th>3</th>\n",
       "      <td>4</td>\n",
       "      <td>64</td>\n",
       "      <td>female</td>\n",
       "      <td>no</td>\n",
       "      <td>no</td>\n",
       "      <td>moderate</td>\n",
       "      <td>chest pain</td>\n",
       "      <td>1.0</td>\n",
       "      <td>1.0</td>\n",
       "      <td>rural</td>\n",
       "      <td>diabetes</td>\n",
       "      <td>anxiety disorder</td>\n",
       "      <td>alcohol</td>\n",
       "      <td>meditation</td>\n",
       "      <td>2.0</td>\n",
       "      <td>exercise</td>\n",
       "      <td>0</td>\n",
       "    </tr>\n",
       "    <tr>\n",
       "      <th>4</th>\n",
       "      <td>5</td>\n",
       "      <td>31</td>\n",
       "      <td>male</td>\n",
       "      <td>yes</td>\n",
       "      <td>no</td>\n",
       "      <td>moderate</td>\n",
       "      <td>panic attack</td>\n",
       "      <td>0.0</td>\n",
       "      <td>1.0</td>\n",
       "      <td>rural</td>\n",
       "      <td>asthma</td>\n",
       "      <td>anxiety disorder</td>\n",
       "      <td>drugs</td>\n",
       "      <td>seeking therapy</td>\n",
       "      <td>0.0</td>\n",
       "      <td>sleep quality</td>\n",
       "      <td>0</td>\n",
       "    </tr>\n",
       "  </tbody>\n",
       "</table>\n",
       "</div>"
      ],
      "text/plain": [
       "   Participant ID  Age  Gender Family History Personal History  \\\n",
       "0               1   38    male             no              yes   \n",
       "1               2   51    male             no               no   \n",
       "2               3   32  female            yes               no   \n",
       "3               4   64  female             no               no   \n",
       "4               5   31    male            yes               no   \n",
       "\n",
       "  Current Stressors             Symptoms  Severity  Impact on Life  \\\n",
       "0          moderate  shortness of breath       0.0             0.0   \n",
       "1              high         panic attack       0.0             0.0   \n",
       "2              high         panic attack       0.0             2.0   \n",
       "3          moderate           chest pain       1.0             1.0   \n",
       "4          moderate         panic attack       0.0             1.0   \n",
       "\n",
       "  Demographics Medical History  Psychiatric History Substance Use  \\\n",
       "0        rural        diabetes     bipolar disorder       alcohol   \n",
       "1        urban          asthma     anxiety disorder         drugs   \n",
       "2        urban        diabetes  depressive disorder       alcohol   \n",
       "3        rural        diabetes     anxiety disorder       alcohol   \n",
       "4        rural          asthma     anxiety disorder         drugs   \n",
       "\n",
       "  Coping Mechanisms  Social Support Lifestyle Factors  \\\n",
       "0       socializing             2.0     sleep quality   \n",
       "1          exercise             2.0     sleep quality   \n",
       "2   seeking therapy             1.0          exercise   \n",
       "3        meditation             2.0          exercise   \n",
       "4   seeking therapy             0.0     sleep quality   \n",
       "\n",
       "   Panic Disorder Diagnosis  \n",
       "0                         0  \n",
       "1                         0  \n",
       "2                         0  \n",
       "3                         0  \n",
       "4                         0  "
      ]
     },
     "execution_count": 337,
     "metadata": {},
     "output_type": "execute_result"
    }
   ],
   "source": [
    "panic_cleaned.head(5)"
   ]
  },
  {
   "cell_type": "markdown",
   "id": "2e2fd599",
   "metadata": {},
   "source": [
    "#### One-hot encoding for remaining nominal features\n"
   ]
  },
  {
   "cell_type": "code",
   "execution_count": 338,
   "id": "cb36155d",
   "metadata": {},
   "outputs": [],
   "source": [
    "from sklearn.preprocessing import OneHotEncoder"
   ]
  },
  {
   "cell_type": "code",
   "execution_count": 339,
   "id": "065917d9",
   "metadata": {},
   "outputs": [],
   "source": [
    "#Defining nominal columns \n",
    "nominal_cols = list(filter(lambda column: column not in ordinal_cols ,non_int_columns))\n",
    "#nominal_cols\n",
    "\n",
    "ohe = OneHotEncoder(sparse_output=False)\n",
    "\n",
    "#Encoding only the nominal columns\n",
    "ohe_encoded_nominal_cols = ohe.fit_transform(panic_cleaned[nominal_cols])\n",
    "\n",
    "#Creating df of ohe nominal columns\n",
    "ohencoded_df = pd.DataFrame(data=ohe_encoded_nominal_cols, columns= ohe.get_feature_names_out(nominal_cols), index=panic_cleaned.index)\n",
    "\n",
    "#Drop original columns and concate the new one hot encoded values\n",
    "panic_cleaned=panic_cleaned.drop(columns=nominal_cols)\n",
    "panic_cleaned = pd.concat([panic_cleaned, ohencoded_df], axis=1)\n"
   ]
  },
  {
   "cell_type": "code",
   "execution_count": 343,
   "id": "51ef4f7b",
   "metadata": {},
   "outputs": [
    {
     "data": {
      "text/html": [
       "<div>\n",
       "<style scoped>\n",
       "    .dataframe tbody tr th:only-of-type {\n",
       "        vertical-align: middle;\n",
       "    }\n",
       "\n",
       "    .dataframe tbody tr th {\n",
       "        vertical-align: top;\n",
       "    }\n",
       "\n",
       "    .dataframe thead th {\n",
       "        text-align: right;\n",
       "    }\n",
       "</style>\n",
       "<table border=\"1\" class=\"dataframe\">\n",
       "  <thead>\n",
       "    <tr style=\"text-align: right;\">\n",
       "      <th></th>\n",
       "      <th>Participant ID</th>\n",
       "      <th>Age</th>\n",
       "      <th>Severity</th>\n",
       "      <th>Impact on Life</th>\n",
       "      <th>Social Support</th>\n",
       "      <th>Panic Disorder Diagnosis</th>\n",
       "      <th>Gender_female</th>\n",
       "      <th>Gender_male</th>\n",
       "      <th>Family History_no</th>\n",
       "      <th>Family History_yes</th>\n",
       "      <th>...</th>\n",
       "      <th>Substance Use_drugs</th>\n",
       "      <th>Coping Mechanisms_exercise</th>\n",
       "      <th>Coping Mechanisms_meditate</th>\n",
       "      <th>Coping Mechanisms_meditation</th>\n",
       "      <th>Coping Mechanisms_seeking therapy</th>\n",
       "      <th>Coping Mechanisms_socialize</th>\n",
       "      <th>Coping Mechanisms_socializing</th>\n",
       "      <th>Lifestyle Factors_diet</th>\n",
       "      <th>Lifestyle Factors_exercise</th>\n",
       "      <th>Lifestyle Factors_sleep quality</th>\n",
       "    </tr>\n",
       "  </thead>\n",
       "  <tbody>\n",
       "    <tr>\n",
       "      <th>0</th>\n",
       "      <td>1</td>\n",
       "      <td>38</td>\n",
       "      <td>0.0</td>\n",
       "      <td>0.0</td>\n",
       "      <td>2.0</td>\n",
       "      <td>0</td>\n",
       "      <td>0.0</td>\n",
       "      <td>1.0</td>\n",
       "      <td>1.0</td>\n",
       "      <td>0.0</td>\n",
       "      <td>...</td>\n",
       "      <td>0.0</td>\n",
       "      <td>0.0</td>\n",
       "      <td>0.0</td>\n",
       "      <td>0.0</td>\n",
       "      <td>0.0</td>\n",
       "      <td>0.0</td>\n",
       "      <td>1.0</td>\n",
       "      <td>0.0</td>\n",
       "      <td>0.0</td>\n",
       "      <td>1.0</td>\n",
       "    </tr>\n",
       "    <tr>\n",
       "      <th>1</th>\n",
       "      <td>2</td>\n",
       "      <td>51</td>\n",
       "      <td>0.0</td>\n",
       "      <td>0.0</td>\n",
       "      <td>2.0</td>\n",
       "      <td>0</td>\n",
       "      <td>0.0</td>\n",
       "      <td>1.0</td>\n",
       "      <td>1.0</td>\n",
       "      <td>0.0</td>\n",
       "      <td>...</td>\n",
       "      <td>1.0</td>\n",
       "      <td>1.0</td>\n",
       "      <td>0.0</td>\n",
       "      <td>0.0</td>\n",
       "      <td>0.0</td>\n",
       "      <td>0.0</td>\n",
       "      <td>0.0</td>\n",
       "      <td>0.0</td>\n",
       "      <td>0.0</td>\n",
       "      <td>1.0</td>\n",
       "    </tr>\n",
       "    <tr>\n",
       "      <th>2</th>\n",
       "      <td>3</td>\n",
       "      <td>32</td>\n",
       "      <td>0.0</td>\n",
       "      <td>2.0</td>\n",
       "      <td>1.0</td>\n",
       "      <td>0</td>\n",
       "      <td>1.0</td>\n",
       "      <td>0.0</td>\n",
       "      <td>0.0</td>\n",
       "      <td>1.0</td>\n",
       "      <td>...</td>\n",
       "      <td>0.0</td>\n",
       "      <td>0.0</td>\n",
       "      <td>0.0</td>\n",
       "      <td>0.0</td>\n",
       "      <td>1.0</td>\n",
       "      <td>0.0</td>\n",
       "      <td>0.0</td>\n",
       "      <td>0.0</td>\n",
       "      <td>1.0</td>\n",
       "      <td>0.0</td>\n",
       "    </tr>\n",
       "    <tr>\n",
       "      <th>3</th>\n",
       "      <td>4</td>\n",
       "      <td>64</td>\n",
       "      <td>1.0</td>\n",
       "      <td>1.0</td>\n",
       "      <td>2.0</td>\n",
       "      <td>0</td>\n",
       "      <td>1.0</td>\n",
       "      <td>0.0</td>\n",
       "      <td>1.0</td>\n",
       "      <td>0.0</td>\n",
       "      <td>...</td>\n",
       "      <td>0.0</td>\n",
       "      <td>0.0</td>\n",
       "      <td>0.0</td>\n",
       "      <td>1.0</td>\n",
       "      <td>0.0</td>\n",
       "      <td>0.0</td>\n",
       "      <td>0.0</td>\n",
       "      <td>0.0</td>\n",
       "      <td>1.0</td>\n",
       "      <td>0.0</td>\n",
       "    </tr>\n",
       "    <tr>\n",
       "      <th>4</th>\n",
       "      <td>5</td>\n",
       "      <td>31</td>\n",
       "      <td>0.0</td>\n",
       "      <td>1.0</td>\n",
       "      <td>0.0</td>\n",
       "      <td>0</td>\n",
       "      <td>0.0</td>\n",
       "      <td>1.0</td>\n",
       "      <td>0.0</td>\n",
       "      <td>1.0</td>\n",
       "      <td>...</td>\n",
       "      <td>1.0</td>\n",
       "      <td>0.0</td>\n",
       "      <td>0.0</td>\n",
       "      <td>0.0</td>\n",
       "      <td>1.0</td>\n",
       "      <td>0.0</td>\n",
       "      <td>0.0</td>\n",
       "      <td>0.0</td>\n",
       "      <td>0.0</td>\n",
       "      <td>1.0</td>\n",
       "    </tr>\n",
       "  </tbody>\n",
       "</table>\n",
       "<p>5 rows × 39 columns</p>\n",
       "</div>"
      ],
      "text/plain": [
       "   Participant ID  Age  Severity  Impact on Life  Social Support  \\\n",
       "0               1   38       0.0             0.0             2.0   \n",
       "1               2   51       0.0             0.0             2.0   \n",
       "2               3   32       0.0             2.0             1.0   \n",
       "3               4   64       1.0             1.0             2.0   \n",
       "4               5   31       0.0             1.0             0.0   \n",
       "\n",
       "   Panic Disorder Diagnosis  Gender_female  Gender_male  Family History_no  \\\n",
       "0                         0            0.0          1.0                1.0   \n",
       "1                         0            0.0          1.0                1.0   \n",
       "2                         0            1.0          0.0                0.0   \n",
       "3                         0            1.0          0.0                1.0   \n",
       "4                         0            0.0          1.0                0.0   \n",
       "\n",
       "   Family History_yes  ...  Substance Use_drugs  Coping Mechanisms_exercise  \\\n",
       "0                 0.0  ...                  0.0                         0.0   \n",
       "1                 0.0  ...                  1.0                         1.0   \n",
       "2                 1.0  ...                  0.0                         0.0   \n",
       "3                 0.0  ...                  0.0                         0.0   \n",
       "4                 1.0  ...                  1.0                         0.0   \n",
       "\n",
       "   Coping Mechanisms_meditate  Coping Mechanisms_meditation  \\\n",
       "0                         0.0                           0.0   \n",
       "1                         0.0                           0.0   \n",
       "2                         0.0                           0.0   \n",
       "3                         0.0                           1.0   \n",
       "4                         0.0                           0.0   \n",
       "\n",
       "   Coping Mechanisms_seeking therapy  Coping Mechanisms_socialize  \\\n",
       "0                                0.0                          0.0   \n",
       "1                                0.0                          0.0   \n",
       "2                                1.0                          0.0   \n",
       "3                                0.0                          0.0   \n",
       "4                                1.0                          0.0   \n",
       "\n",
       "   Coping Mechanisms_socializing  Lifestyle Factors_diet  \\\n",
       "0                            1.0                     0.0   \n",
       "1                            0.0                     0.0   \n",
       "2                            0.0                     0.0   \n",
       "3                            0.0                     0.0   \n",
       "4                            0.0                     0.0   \n",
       "\n",
       "   Lifestyle Factors_exercise  Lifestyle Factors_sleep quality  \n",
       "0                         0.0                              1.0  \n",
       "1                         0.0                              1.0  \n",
       "2                         1.0                              0.0  \n",
       "3                         1.0                              0.0  \n",
       "4                         0.0                              1.0  \n",
       "\n",
       "[5 rows x 39 columns]"
      ]
     },
     "execution_count": 343,
     "metadata": {},
     "output_type": "execute_result"
    }
   ],
   "source": [
    "panic_cleaned.head(5)"
   ]
  },
  {
   "cell_type": "markdown",
   "id": "84897273",
   "metadata": {},
   "source": [
    "#### (4.1.2) Scale numerical features (Age, Severity Score, etc.) using techniques like min-max, z-score, etc"
   ]
  },
  {
   "cell_type": "code",
   "execution_count": null,
   "id": "c04bfa6b",
   "metadata": {},
   "outputs": [],
   "source": []
  }
 ],
 "metadata": {
  "kernelspec": {
   "display_name": ".venv",
   "language": "python",
   "name": "python3"
  },
  "language_info": {
   "codemirror_mode": {
    "name": "ipython",
    "version": 3
   },
   "file_extension": ".py",
   "mimetype": "text/x-python",
   "name": "python",
   "nbconvert_exporter": "python",
   "pygments_lexer": "ipython3",
   "version": "3.12.4"
  }
 },
 "nbformat": 4,
 "nbformat_minor": 5
}
