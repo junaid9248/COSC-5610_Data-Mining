{
 "cells": [
  {
   "cell_type": "markdown",
   "id": "a6ad0c87",
   "metadata": {},
   "source": [
    "# Final Project  \n",
    "Work with a Panic Disorder Detection dataset that contains patient demographic information, symptoms, medical history, lifestyle factors, and mental health assessment results. The goal is to analyze the dataset, preprocess the data, resolve class imbalance, extract meaningful features, and evaluate machine learning models for predicting panic disorder."
   ]
  },
  {
   "cell_type": "code",
   "execution_count": 1,
   "id": "e5a8c754",
   "metadata": {},
   "outputs": [],
   "source": [
    "import pandas as pd\n",
    "import numpy as np\n",
    "import matplotlib.pyplot as plt"
   ]
  },
  {
   "cell_type": "markdown",
   "id": "0e62e2b5",
   "metadata": {},
   "source": [
    "## Step 1: Data Exploration & Understanding"
   ]
  },
  {
   "cell_type": "markdown",
   "id": "a11b8fcb",
   "metadata": {},
   "source": [
    "### 1.1. Load the dataset using pandas"
   ]
  },
  {
   "cell_type": "code",
   "execution_count": 2,
   "id": "3ce1161b",
   "metadata": {},
   "outputs": [],
   "source": [
    "panic = pd.read_csv('C:/Users/ther3/Marquette/Spring 2025/COSC 5610 - Data Mining/codes/Final project/panic_disorder_detection.csv')"
   ]
  },
  {
   "cell_type": "markdown",
   "id": "edb28697",
   "metadata": {},
   "source": [
    "### 1.2. Printing out basic information of the dataset"
   ]
  },
  {
   "cell_type": "code",
   "execution_count": 3,
   "id": "96c8111f",
   "metadata": {},
   "outputs": [
    {
     "data": {
      "text/html": [
       "<div>\n",
       "<style scoped>\n",
       "    .dataframe tbody tr th:only-of-type {\n",
       "        vertical-align: middle;\n",
       "    }\n",
       "\n",
       "    .dataframe tbody tr th {\n",
       "        vertical-align: top;\n",
       "    }\n",
       "\n",
       "    .dataframe thead th {\n",
       "        text-align: right;\n",
       "    }\n",
       "</style>\n",
       "<table border=\"1\" class=\"dataframe\">\n",
       "  <thead>\n",
       "    <tr style=\"text-align: right;\">\n",
       "      <th></th>\n",
       "      <th>Participant ID</th>\n",
       "      <th>Age</th>\n",
       "      <th>Gender</th>\n",
       "      <th>Family History</th>\n",
       "      <th>Personal History</th>\n",
       "      <th>Current Stressors</th>\n",
       "      <th>Symptoms</th>\n",
       "      <th>Severity</th>\n",
       "      <th>Impact on Life</th>\n",
       "      <th>Demographics</th>\n",
       "      <th>Medical History</th>\n",
       "      <th>Psychiatric History</th>\n",
       "      <th>Substance Use</th>\n",
       "      <th>Coping Mechanisms</th>\n",
       "      <th>Social Support</th>\n",
       "      <th>Lifestyle Factors</th>\n",
       "      <th>Panic Disorder Diagnosis</th>\n",
       "    </tr>\n",
       "  </thead>\n",
       "  <tbody>\n",
       "    <tr>\n",
       "      <th>0</th>\n",
       "      <td>1</td>\n",
       "      <td>38</td>\n",
       "      <td>Male</td>\n",
       "      <td>No</td>\n",
       "      <td>Yes</td>\n",
       "      <td>Moderate</td>\n",
       "      <td>Shortness of breath</td>\n",
       "      <td>Mild</td>\n",
       "      <td>Mild</td>\n",
       "      <td>Rural</td>\n",
       "      <td>Diabetes</td>\n",
       "      <td>Bipolar disorder</td>\n",
       "      <td>NaN</td>\n",
       "      <td>Socializing</td>\n",
       "      <td>High</td>\n",
       "      <td>Sleep quality</td>\n",
       "      <td>0</td>\n",
       "    </tr>\n",
       "    <tr>\n",
       "      <th>1</th>\n",
       "      <td>2</td>\n",
       "      <td>51</td>\n",
       "      <td>Male</td>\n",
       "      <td>No</td>\n",
       "      <td>No</td>\n",
       "      <td>High</td>\n",
       "      <td>Panic attacks</td>\n",
       "      <td>Mild</td>\n",
       "      <td>Mild</td>\n",
       "      <td>Urban</td>\n",
       "      <td>Asthma</td>\n",
       "      <td>Anxiety disorder</td>\n",
       "      <td>Drugs</td>\n",
       "      <td>Exercise</td>\n",
       "      <td>High</td>\n",
       "      <td>Sleep quality</td>\n",
       "      <td>0</td>\n",
       "    </tr>\n",
       "    <tr>\n",
       "      <th>2</th>\n",
       "      <td>3</td>\n",
       "      <td>32</td>\n",
       "      <td>Female</td>\n",
       "      <td>Yes</td>\n",
       "      <td>No</td>\n",
       "      <td>High</td>\n",
       "      <td>Panic attacks</td>\n",
       "      <td>Mild</td>\n",
       "      <td>Significant</td>\n",
       "      <td>Urban</td>\n",
       "      <td>Diabetes</td>\n",
       "      <td>Depressive disorder</td>\n",
       "      <td>NaN</td>\n",
       "      <td>Seeking therapy</td>\n",
       "      <td>Moderate</td>\n",
       "      <td>Exercise</td>\n",
       "      <td>0</td>\n",
       "    </tr>\n",
       "    <tr>\n",
       "      <th>3</th>\n",
       "      <td>4</td>\n",
       "      <td>64</td>\n",
       "      <td>Female</td>\n",
       "      <td>No</td>\n",
       "      <td>No</td>\n",
       "      <td>Moderate</td>\n",
       "      <td>Chest pain</td>\n",
       "      <td>Moderate</td>\n",
       "      <td>Moderate</td>\n",
       "      <td>Rural</td>\n",
       "      <td>Diabetes</td>\n",
       "      <td>NaN</td>\n",
       "      <td>NaN</td>\n",
       "      <td>Meditation</td>\n",
       "      <td>High</td>\n",
       "      <td>Exercise</td>\n",
       "      <td>0</td>\n",
       "    </tr>\n",
       "    <tr>\n",
       "      <th>4</th>\n",
       "      <td>5</td>\n",
       "      <td>31</td>\n",
       "      <td>Male</td>\n",
       "      <td>Yes</td>\n",
       "      <td>No</td>\n",
       "      <td>Moderate</td>\n",
       "      <td>Panic attacks</td>\n",
       "      <td>Mild</td>\n",
       "      <td>Moderate</td>\n",
       "      <td>Rural</td>\n",
       "      <td>Asthma</td>\n",
       "      <td>NaN</td>\n",
       "      <td>Drugs</td>\n",
       "      <td>Seeking therapy</td>\n",
       "      <td>Low</td>\n",
       "      <td>Sleep quality</td>\n",
       "      <td>0</td>\n",
       "    </tr>\n",
       "  </tbody>\n",
       "</table>\n",
       "</div>"
      ],
      "text/plain": [
       "   Participant ID  Age  Gender Family History Personal History  \\\n",
       "0               1   38    Male             No              Yes   \n",
       "1               2   51    Male             No               No   \n",
       "2               3   32  Female            Yes               No   \n",
       "3               4   64  Female             No               No   \n",
       "4               5   31    Male            Yes               No   \n",
       "\n",
       "  Current Stressors             Symptoms  Severity Impact on Life  \\\n",
       "0          Moderate  Shortness of breath      Mild           Mild   \n",
       "1              High        Panic attacks      Mild           Mild   \n",
       "2              High        Panic attacks      Mild    Significant   \n",
       "3          Moderate           Chest pain  Moderate       Moderate   \n",
       "4          Moderate        Panic attacks      Mild       Moderate   \n",
       "\n",
       "  Demographics Medical History  Psychiatric History Substance Use  \\\n",
       "0        Rural        Diabetes     Bipolar disorder           NaN   \n",
       "1        Urban          Asthma     Anxiety disorder         Drugs   \n",
       "2        Urban        Diabetes  Depressive disorder           NaN   \n",
       "3        Rural        Diabetes                  NaN           NaN   \n",
       "4        Rural          Asthma                  NaN         Drugs   \n",
       "\n",
       "  Coping Mechanisms Social Support Lifestyle Factors  Panic Disorder Diagnosis  \n",
       "0       Socializing           High     Sleep quality                         0  \n",
       "1          Exercise           High     Sleep quality                         0  \n",
       "2   Seeking therapy       Moderate          Exercise                         0  \n",
       "3        Meditation           High          Exercise                         0  \n",
       "4   Seeking therapy            Low     Sleep quality                         0  "
      ]
     },
     "execution_count": 3,
     "metadata": {},
     "output_type": "execute_result"
    }
   ],
   "source": [
    "panic.head(5)"
   ]
  },
  {
   "cell_type": "code",
   "execution_count": 4,
   "id": "b61ff68f",
   "metadata": {},
   "outputs": [
    {
     "name": "stdout",
     "output_type": "stream",
     "text": [
      "<class 'pandas.core.frame.DataFrame'>\n",
      "RangeIndex: 120000 entries, 0 to 119999\n",
      "Data columns (total 17 columns):\n",
      " #   Column                    Non-Null Count   Dtype \n",
      "---  ------                    --------------   ----- \n",
      " 0   Participant ID            120000 non-null  int64 \n",
      " 1   Age                       120000 non-null  int64 \n",
      " 2   Gender                    120000 non-null  object\n",
      " 3   Family History            120000 non-null  object\n",
      " 4   Personal History          120000 non-null  object\n",
      " 5   Current Stressors         120000 non-null  object\n",
      " 6   Symptoms                  120000 non-null  object\n",
      " 7   Severity                  120000 non-null  object\n",
      " 8   Impact on Life            120000 non-null  object\n",
      " 9   Demographics              120000 non-null  object\n",
      " 10  Medical History           89776 non-null   object\n",
      " 11  Psychiatric History       90104 non-null   object\n",
      " 12  Substance Use             79922 non-null   object\n",
      " 13  Coping Mechanisms         120000 non-null  object\n",
      " 14  Social Support            120000 non-null  object\n",
      " 15  Lifestyle Factors         120000 non-null  object\n",
      " 16  Panic Disorder Diagnosis  120000 non-null  int64 \n",
      "dtypes: int64(3), object(14)\n",
      "memory usage: 15.6+ MB\n"
     ]
    }
   ],
   "source": [
    "panic.info()"
   ]
  },
  {
   "cell_type": "code",
   "execution_count": 5,
   "id": "320b4edb",
   "metadata": {},
   "outputs": [
    {
     "data": {
      "text/html": [
       "<div>\n",
       "<style scoped>\n",
       "    .dataframe tbody tr th:only-of-type {\n",
       "        vertical-align: middle;\n",
       "    }\n",
       "\n",
       "    .dataframe tbody tr th {\n",
       "        vertical-align: top;\n",
       "    }\n",
       "\n",
       "    .dataframe thead th {\n",
       "        text-align: right;\n",
       "    }\n",
       "</style>\n",
       "<table border=\"1\" class=\"dataframe\">\n",
       "  <thead>\n",
       "    <tr style=\"text-align: right;\">\n",
       "      <th></th>\n",
       "      <th>Participant ID</th>\n",
       "      <th>Age</th>\n",
       "      <th>Panic Disorder Diagnosis</th>\n",
       "    </tr>\n",
       "  </thead>\n",
       "  <tbody>\n",
       "    <tr>\n",
       "      <th>count</th>\n",
       "      <td>120000.000000</td>\n",
       "      <td>120000.000000</td>\n",
       "      <td>120000.00000</td>\n",
       "    </tr>\n",
       "    <tr>\n",
       "      <th>mean</th>\n",
       "      <td>50005.474075</td>\n",
       "      <td>43.060983</td>\n",
       "      <td>0.04285</td>\n",
       "    </tr>\n",
       "    <tr>\n",
       "      <th>std</th>\n",
       "      <td>28859.937508</td>\n",
       "      <td>28.226396</td>\n",
       "      <td>0.20252</td>\n",
       "    </tr>\n",
       "    <tr>\n",
       "      <th>min</th>\n",
       "      <td>1.000000</td>\n",
       "      <td>-10.000000</td>\n",
       "      <td>0.00000</td>\n",
       "    </tr>\n",
       "    <tr>\n",
       "      <th>25%</th>\n",
       "      <td>24997.750000</td>\n",
       "      <td>29.000000</td>\n",
       "      <td>0.00000</td>\n",
       "    </tr>\n",
       "    <tr>\n",
       "      <th>50%</th>\n",
       "      <td>49999.500000</td>\n",
       "      <td>42.000000</td>\n",
       "      <td>0.00000</td>\n",
       "    </tr>\n",
       "    <tr>\n",
       "      <th>75%</th>\n",
       "      <td>74980.000000</td>\n",
       "      <td>54.000000</td>\n",
       "      <td>0.00000</td>\n",
       "    </tr>\n",
       "    <tr>\n",
       "      <th>max</th>\n",
       "      <td>100000.000000</td>\n",
       "      <td>500.000000</td>\n",
       "      <td>1.00000</td>\n",
       "    </tr>\n",
       "  </tbody>\n",
       "</table>\n",
       "</div>"
      ],
      "text/plain": [
       "       Participant ID            Age  Panic Disorder Diagnosis\n",
       "count   120000.000000  120000.000000              120000.00000\n",
       "mean     50005.474075      43.060983                   0.04285\n",
       "std      28859.937508      28.226396                   0.20252\n",
       "min          1.000000     -10.000000                   0.00000\n",
       "25%      24997.750000      29.000000                   0.00000\n",
       "50%      49999.500000      42.000000                   0.00000\n",
       "75%      74980.000000      54.000000                   0.00000\n",
       "max     100000.000000     500.000000                   1.00000"
      ]
     },
     "execution_count": 5,
     "metadata": {},
     "output_type": "execute_result"
    }
   ],
   "source": [
    "panic.describe()"
   ]
  },
  {
   "cell_type": "markdown",
   "id": "77043279",
   "metadata": {},
   "source": [
    "### 1.3. Check for missing values and duplicate entries "
   ]
  },
  {
   "cell_type": "code",
   "execution_count": 6,
   "id": "d6516cc9",
   "metadata": {},
   "outputs": [
    {
     "name": "stdout",
     "output_type": "stream",
     "text": [
      "The Medical History column has 30224 empty values\n",
      "\n",
      "The Psychiatric History column has 29896 empty values\n",
      "\n",
      "The Substance Use column has 40078 empty values\n",
      "\n"
     ]
    }
   ],
   "source": [
    "from collections import defaultdict\n",
    "\n",
    "target_column = 'Panic Disorder Diagnosis'\n",
    "\n",
    "panic_null = panic.isnull()\n",
    "\n",
    "null_counts = panic.isnull().sum()\n",
    "\n",
    "#defining a dict to store empty values\n",
    "panic_null_dict = defaultdict(list)\n",
    "\n",
    "for index in range(len(panic_null.columns)):\n",
    "\n",
    "    #Skipping the target column\n",
    "    if(index == target_column):\n",
    "        continue\n",
    "\n",
    "    null_index = panic_null.loc[panic_null[panic_null.columns[index]]==True]\n",
    "    \n",
    "    if(len(null_index.index) == 0):\n",
    "        continue\n",
    "    else:\n",
    "        #Adding these empty value indexes to a dictionary\n",
    "        panic_null_dict[panic_null.columns[index]] = null_index.index\n",
    "        print(f'The {null_index.columns[index]} column has {len(null_index.index)} empty values\\n')\n",
    "\n"
   ]
  },
  {
   "cell_type": "code",
   "execution_count": 7,
   "id": "4d9e92b3",
   "metadata": {},
   "outputs": [
    {
     "name": "stdout",
     "output_type": "stream",
     "text": [
      "Yes, the dataset has total number of 19601 duplicate values\n"
     ]
    }
   ],
   "source": [
    "panic_dupes = panic.duplicated()\n",
    "\n",
    "target_column = 'Panic Disorder Diagnosis'\n",
    "dupe_mask = panic.duplicated(subset=panic.columns.difference([target_column]))\n",
    "num_dupes = dupe_mask.sum()\n",
    "\n",
    "if(dupe_mask.any()):\n",
    "    print(f'Yes, the dataset has total number of {num_dupes} duplicate values')\n",
    "else:\n",
    "    print('No dupes found')\n"
   ]
  },
  {
   "cell_type": "markdown",
   "id": "c52b91ab",
   "metadata": {},
   "source": [
    "### (1.4) Perform an initial visualization of categorical variables (Gender, Symptoms, Social Support, etc.). Use plotting library to use (e.g., matplotlib, seaborn)\n"
   ]
  },
  {
   "cell_type": "code",
   "execution_count": 8,
   "id": "820efd4b",
   "metadata": {},
   "outputs": [],
   "source": [
    "import seaborn as sns\n",
    "import matplotlib.pyplot as plt"
   ]
  },
  {
   "cell_type": "code",
   "execution_count": 9,
   "id": "7dbc0450",
   "metadata": {},
   "outputs": [
    {
     "data": {
      "image/png": "[encoded data removed]",
      "text/plain": [
       "<Figure size 1800x2500 with 6 Axes>"
      ]
     },
     "metadata": {},
     "output_type": "display_data"
    }
   ],
   "source": [
    "sns.set_style('whitegrid')\n",
    "\n",
    "categorical_vars = [panic.columns[2], panic.columns[6], panic.columns[9],panic.columns[13],panic.columns[14], panic.columns[15]]\n",
    "#categorical_vars\n",
    "\n",
    "plot, axes = plt.subplots(ncols=1, nrows=len(categorical_vars), figsize = (18,25))\n",
    "plot.tight_layout(pad=4.0)\n",
    "\n",
    "for index, variable in enumerate(categorical_vars):\n",
    "    sns.countplot(x=categorical_vars[index],data= panic, hue='Panic Disorder Diagnosis', palette='bright',ax= axes[index])\n",
    "    axes[index].set_title(f'Distribution of {categorical_vars[index]} by Diagnosis')\n",
    "    axes[0].set_ylabel('Count')\n",
    "    axes[0].set_xlabel(categorical_vars[index])\n",
    "\n",
    "plt.show()"
   ]
  },
  {
   "cell_type": "markdown",
   "id": "80f83cf6",
   "metadata": {},
   "source": [
    "### (1.5) Identify class imbalance in the target variable (Panic Disorder Diagnosis)"
   ]
  },
  {
   "cell_type": "code",
   "execution_count": 10,
   "id": "c441a2dc",
   "metadata": {},
   "outputs": [],
   "source": [
    "#pandas series containing the diagnosis [0, 1] with counts of how many times they occured\n",
    "classes = panic['Panic Disorder Diagnosis'].value_counts().sort_index()\n",
    "\n",
    "#Getting the sum so that we can find percentage distribution\n",
    "total = classes.sum()\n",
    "\n",
    "#Getting the ckasses as index for representation \n",
    "class_indexes = classes.index\n",
    "\n",
    "#Calculating percentage distribution\n",
    "percentages = []\n",
    "\n",
    "for index in class_indexes:\n",
    "    percentage = round((classes[index]/total)*100, 2)\n",
    "    percentages.append(percentage)\n",
    "\n",
    "#Creating a dataframe that shows us class distribution statistics\n",
    "class_distribution = pd.DataFrame(data=classes)\n",
    "\n",
    "class_distribution['Percentage Distribution'] = percentages\n"
   ]
  },
  {
   "cell_type": "code",
   "execution_count": 11,
   "id": "bb60a34b",
   "metadata": {},
   "outputs": [
    {
     "data": {
      "image/png": "[encoded data removed]",
      "text/plain": [
       "<Figure size 640x480 with 1 Axes>"
      ]
     },
     "metadata": {},
     "output_type": "display_data"
    }
   ],
   "source": [
    "distirbution = sns.barplot(x= class_distribution.index,y='Percentage Distribution' ,data=class_distribution, hue='Panic Disorder Diagnosis', palette='bright')\n",
    "\n",
    "for i in range(len(class_distribution.index)):\n",
    "    distirbution.bar_label(distirbution.containers[i])\n",
    "\n",
    "plt.show()"
   ]
  },
  {
   "cell_type": "markdown",
   "id": "b061b5ec",
   "metadata": {},
   "source": [
    "## Step 2: Data Cleaning & Transformation"
   ]
  },
  {
   "cell_type": "markdown",
   "id": "ffbb7bf0",
   "metadata": {},
   "source": [
    "### (2.1) Handle missing values (either drop or impute them appropriately like mean/mode)"
   ]
  },
  {
   "cell_type": "code",
   "execution_count": 12,
   "id": "6d2b0c92",
   "metadata": {},
   "outputs": [
    {
     "name": "stdout",
     "output_type": "stream",
     "text": [
      "For the Medical History column, 25.19% entries are missing/non-null \n",
      "\n",
      "For the Psychiatric History column, 24.91% entries are missing/non-null \n",
      "\n",
      "For the Substance Use column, 33.4% entries are missing/non-null \n",
      "\n"
     ]
    }
   ],
   "source": [
    "missing_vars = ['Medical History', 'Psychiatric History', 'Substance Use']\n",
    "\n",
    "#panic_null_dict\n",
    "for var in missing_vars:\n",
    "    missing = round((len(panic_null_dict[var])/120000)* 100,2) \n",
    "    print(f\"For the {var} column, {missing}% entries are missing/non-null \\n\")"
   ]
  },
  {
   "cell_type": "markdown",
   "id": "bf9697f5",
   "metadata": {},
   "source": [
    "This is why it would be a bad option to drop the rows, rather imputation by mean (most frequent occurence) is the better option"
   ]
  },
  {
   "cell_type": "code",
   "execution_count": 13,
   "id": "48174fea",
   "metadata": {},
   "outputs": [
    {
     "name": "stdout",
     "output_type": "stream",
     "text": [
      "<class 'pandas.core.frame.DataFrame'>\n",
      "RangeIndex: 120000 entries, 0 to 119999\n",
      "Data columns (total 17 columns):\n",
      " #   Column                    Non-Null Count   Dtype \n",
      "---  ------                    --------------   ----- \n",
      " 0   Participant ID            120000 non-null  int64 \n",
      " 1   Age                       120000 non-null  int64 \n",
      " 2   Gender                    120000 non-null  object\n",
      " 3   Family History            120000 non-null  object\n",
      " 4   Personal History          120000 non-null  object\n",
      " 5   Current Stressors         120000 non-null  object\n",
      " 6   Symptoms                  120000 non-null  object\n",
      " 7   Severity                  120000 non-null  object\n",
      " 8   Impact on Life            120000 non-null  object\n",
      " 9   Demographics              120000 non-null  object\n",
      " 10  Medical History           120000 non-null  object\n",
      " 11  Psychiatric History       120000 non-null  object\n",
      " 12  Substance Use             120000 non-null  object\n",
      " 13  Coping Mechanisms         120000 non-null  object\n",
      " 14  Social Support            120000 non-null  object\n",
      " 15  Lifestyle Factors         120000 non-null  object\n",
      " 16  Panic Disorder Diagnosis  120000 non-null  int64 \n",
      "dtypes: int64(3), object(14)\n",
      "memory usage: 15.6+ MB\n"
     ]
    }
   ],
   "source": [
    "for col in missing_vars:\n",
    "    mode = panic[col].mode()[0]\n",
    "    panic.fillna({col: mode}, inplace= True )\n",
    "\n",
    "panic.info()\n"
   ]
  },
  {
   "cell_type": "code",
   "execution_count": 14,
   "id": "f0e8480f",
   "metadata": {},
   "outputs": [
    {
     "name": "stdout",
     "output_type": "stream",
     "text": [
      "Class distribution before droping dupes: \n",
      "\n"
     ]
    },
    {
     "data": {
      "text/html": [
       "<div>\n",
       "<style scoped>\n",
       "    .dataframe tbody tr th:only-of-type {\n",
       "        vertical-align: middle;\n",
       "    }\n",
       "\n",
       "    .dataframe tbody tr th {\n",
       "        vertical-align: top;\n",
       "    }\n",
       "\n",
       "    .dataframe thead th {\n",
       "        text-align: right;\n",
       "    }\n",
       "</style>\n",
       "<table border=\"1\" class=\"dataframe\">\n",
       "  <thead>\n",
       "    <tr style=\"text-align: right;\">\n",
       "      <th></th>\n",
       "      <th>count</th>\n",
       "      <th>Percentage Distribution</th>\n",
       "    </tr>\n",
       "    <tr>\n",
       "      <th>Panic Disorder Diagnosis</th>\n",
       "      <th></th>\n",
       "      <th></th>\n",
       "    </tr>\n",
       "  </thead>\n",
       "  <tbody>\n",
       "    <tr>\n",
       "      <th>0</th>\n",
       "      <td>114858</td>\n",
       "      <td>95.71</td>\n",
       "    </tr>\n",
       "    <tr>\n",
       "      <th>1</th>\n",
       "      <td>5142</td>\n",
       "      <td>4.28</td>\n",
       "    </tr>\n",
       "  </tbody>\n",
       "</table>\n",
       "</div>"
      ],
      "text/plain": [
       "                           count  Percentage Distribution\n",
       "Panic Disorder Diagnosis                                 \n",
       "0                         114858                    95.71\n",
       "1                           5142                     4.28"
      ]
     },
     "execution_count": 14,
     "metadata": {},
     "output_type": "execute_result"
    }
   ],
   "source": [
    "print(\"Class distribution before droping dupes: \\n\")\n",
    "class_distribution"
   ]
  },
  {
   "cell_type": "code",
   "execution_count": 15,
   "id": "c0a56b62",
   "metadata": {},
   "outputs": [],
   "source": [
    "panic_cleaned = panic.drop_duplicates(subset=panic.columns.difference(['Panic Disorder Diagnosis']))"
   ]
  },
  {
   "cell_type": "code",
   "execution_count": 16,
   "id": "2ca3327e",
   "metadata": {},
   "outputs": [
    {
     "data": {
      "text/html": [
       "<div>\n",
       "<style scoped>\n",
       "    .dataframe tbody tr th:only-of-type {\n",
       "        vertical-align: middle;\n",
       "    }\n",
       "\n",
       "    .dataframe tbody tr th {\n",
       "        vertical-align: top;\n",
       "    }\n",
       "\n",
       "    .dataframe thead th {\n",
       "        text-align: right;\n",
       "    }\n",
       "</style>\n",
       "<table border=\"1\" class=\"dataframe\">\n",
       "  <thead>\n",
       "    <tr style=\"text-align: right;\">\n",
       "      <th></th>\n",
       "      <th>count</th>\n",
       "      <th>Percentage Distribution</th>\n",
       "    </tr>\n",
       "    <tr>\n",
       "      <th>Panic Disorder Diagnosis</th>\n",
       "      <th></th>\n",
       "      <th></th>\n",
       "    </tr>\n",
       "  </thead>\n",
       "  <tbody>\n",
       "    <tr>\n",
       "      <th>0</th>\n",
       "      <td>96087</td>\n",
       "      <td>95.71</td>\n",
       "    </tr>\n",
       "    <tr>\n",
       "      <th>1</th>\n",
       "      <td>4312</td>\n",
       "      <td>4.29</td>\n",
       "    </tr>\n",
       "  </tbody>\n",
       "</table>\n",
       "</div>"
      ],
      "text/plain": [
       "                          count  Percentage Distribution\n",
       "Panic Disorder Diagnosis                                \n",
       "0                         96087                    95.71\n",
       "1                          4312                     4.29"
      ]
     },
     "execution_count": 16,
     "metadata": {},
     "output_type": "execute_result"
    }
   ],
   "source": [
    "#pandas series containing the diagnosis [0, 1] with counts of how many times they occured for cleaned panic data set\n",
    "classes = panic_cleaned['Panic Disorder Diagnosis'].value_counts().sort_index()\n",
    "total = classes.sum()\n",
    "class_indexes = classes.index\n",
    "percentages = []\n",
    "\n",
    "for index in class_indexes:\n",
    "    percentage = round((classes[index]/total)*100, 2)\n",
    "    percentages.append(percentage)\n",
    "\n",
    "#Creating a dataframe that shows us class distribution statistics\n",
    "class_distribution_cleaned = pd.DataFrame(data=classes)\n",
    "class_distribution_cleaned['Percentage Distribution'] = percentages\n",
    "class_distribution_cleaned\n"
   ]
  },
  {
   "cell_type": "markdown",
   "id": "c6adb81c",
   "metadata": {},
   "source": [
    "As there was no significant change in the distribution of the class variables, we now have a cleaned data set free of null values and dupes"
   ]
  },
  {
   "cell_type": "markdown",
   "id": "517b1d86",
   "metadata": {},
   "source": [
    "### (2.3) Convert categorical columns into consistent format (fix typos, lowercase, remove extra spaces)"
   ]
  },
  {
   "cell_type": "code",
   "execution_count": 17,
   "id": "fbcce27f",
   "metadata": {},
   "outputs": [
    {
     "name": "stdout",
     "output_type": "stream",
     "text": [
      "The unique values for Gender columns are: \n",
      "\n",
      "['male' 'female']\n",
      "*--------------------------------------------------*\n",
      "\n",
      "The unique values for Family History columns are: \n",
      "\n",
      "['no' 'yes']\n",
      "*--------------------------------------------------*\n",
      "\n",
      "The unique values for Personal History columns are: \n",
      "\n",
      "['yes' 'no']\n",
      "*--------------------------------------------------*\n",
      "\n",
      "The unique values for Current Stressors columns are: \n",
      "\n",
      "['moderate' 'high' 'low']\n",
      "*--------------------------------------------------*\n",
      "\n",
      "The unique values for Symptoms columns are: \n",
      "\n",
      "['shortness of breath' 'panic attacks' 'chest pain' 'dizziness'\n",
      " 'fear of losing control' 'dizzines' 'panic attack']\n",
      "*--------------------------------------------------*\n",
      "\n",
      "The unique values for Severity columns are: \n",
      "\n",
      "['mild' 'moderate' 'severe']\n",
      "*--------------------------------------------------*\n",
      "\n",
      "The unique values for Impact on Life columns are: \n",
      "\n",
      "['mild' 'significant' 'moderate']\n",
      "*--------------------------------------------------*\n",
      "\n",
      "The unique values for Demographics columns are: \n",
      "\n",
      "['rural' 'urban']\n",
      "*--------------------------------------------------*\n",
      "\n",
      "The unique values for Medical History columns are: \n",
      "\n",
      "['diabetes' 'asthma' 'heart disease' 'diabetic']\n",
      "*--------------------------------------------------*\n",
      "\n",
      "The unique values for Psychiatric History columns are: \n",
      "\n",
      "['bipolar disorder' 'anxiety disorder' 'depressive disorder']\n",
      "*--------------------------------------------------*\n",
      "\n",
      "The unique values for Substance Use columns are: \n",
      "\n",
      "['alcohol' 'drugs']\n",
      "*--------------------------------------------------*\n",
      "\n",
      "The unique values for Coping Mechanisms columns are: \n",
      "\n",
      "['socializing' 'exercise' 'seeking therapy' 'meditation' 'socialize'\n",
      " 'meditate']\n",
      "*--------------------------------------------------*\n",
      "\n",
      "The unique values for Social Support columns are: \n",
      "\n",
      "['high' 'moderate' 'low']\n",
      "*--------------------------------------------------*\n",
      "\n",
      "The unique values for Lifestyle Factors columns are: \n",
      "\n",
      "['sleep quality' 'exercise' 'diet']\n",
      "*--------------------------------------------------*\n",
      "\n"
     ]
    }
   ],
   "source": [
    "cat_cols = panic_cleaned.select_dtypes(include= object).columns\n",
    "cat_cols\n",
    "\n",
    "for col in cat_cols:\n",
    "\n",
    "    #Converting to lower case\n",
    "    panic_cleaned.loc[:, col] = (panic_cleaned[col].astype(str).str.lower().str.strip().str.replace(r'\\s+', ' ', regex=True))\n",
    "\n",
    "    print(f'The unique values for {col} columns are: \\n')\n",
    "    print(panic_cleaned[col].unique())\n",
    "    print('*' + '-'*50 + '*' +'\\n')\n"
   ]
  },
  {
   "cell_type": "code",
   "execution_count": 18,
   "id": "796d857d",
   "metadata": {},
   "outputs": [
    {
     "name": "stdout",
     "output_type": "stream",
     "text": [
      "The unique values for Gender columns are: \n",
      "\n",
      "['male' 'female']\n",
      "*--------------------------------------------------*\n",
      "\n",
      "The unique values for Family History columns are: \n",
      "\n",
      "['no' 'yes']\n",
      "*--------------------------------------------------*\n",
      "\n",
      "The unique values for Personal History columns are: \n",
      "\n",
      "['yes' 'no']\n",
      "*--------------------------------------------------*\n",
      "\n",
      "The unique values for Current Stressors columns are: \n",
      "\n",
      "['moderate' 'high' 'low']\n",
      "*--------------------------------------------------*\n",
      "\n",
      "The unique values for Symptoms columns are: \n",
      "\n",
      "['shortness of breath' 'panic attack' 'chest pain' 'dizziness'\n",
      " 'fear of losing control']\n",
      "*--------------------------------------------------*\n",
      "\n",
      "The unique values for Severity columns are: \n",
      "\n",
      "['mild' 'moderate' 'severe']\n",
      "*--------------------------------------------------*\n",
      "\n",
      "The unique values for Impact on Life columns are: \n",
      "\n",
      "['mild' 'significant' 'moderate']\n",
      "*--------------------------------------------------*\n",
      "\n",
      "The unique values for Demographics columns are: \n",
      "\n",
      "['rural' 'urban']\n",
      "*--------------------------------------------------*\n",
      "\n",
      "The unique values for Medical History columns are: \n",
      "\n",
      "['diabetes' 'asthma' 'heart disease']\n",
      "*--------------------------------------------------*\n",
      "\n",
      "The unique values for Psychiatric History columns are: \n",
      "\n",
      "['bipolar disorder' 'anxiety disorder' 'depressive disorder']\n",
      "*--------------------------------------------------*\n",
      "\n",
      "The unique values for Substance Use columns are: \n",
      "\n",
      "['alcohol' 'drugs']\n",
      "*--------------------------------------------------*\n",
      "\n",
      "The unique values for Coping Mechanisms columns are: \n",
      "\n",
      "['socializing' 'exercise' 'seeking therapy' 'meditation' 'socialize'\n",
      " 'meditate']\n",
      "*--------------------------------------------------*\n",
      "\n",
      "The unique values for Social Support columns are: \n",
      "\n",
      "['high' 'moderate' 'low']\n",
      "*--------------------------------------------------*\n",
      "\n",
      "The unique values for Lifestyle Factors columns are: \n",
      "\n",
      "['sleep quality' 'exercise' 'diet']\n",
      "*--------------------------------------------------*\n",
      "\n"
     ]
    },
    {
     "name": "stderr",
     "output_type": "stream",
     "text": [
      "C:\\Users\\ther3\\AppData\\Local\\Temp\\ipykernel_33268\\295461590.py:4: FutureWarning: A value is trying to be set on a copy of a DataFrame or Series through chained assignment using an inplace method.\n",
      "The behavior will change in pandas 3.0. This inplace method will never work because the intermediate object on which we are setting values always behaves as a copy.\n",
      "\n",
      "For example, when doing 'df[col].method(value, inplace=True)', try using 'df.method({col: value}, inplace=True)' or df[col] = df[col].method(value) instead, to perform the operation inplace on the original object.\n",
      "\n",
      "\n",
      "  panic_cleaned[cat_cols[4]].replace(to_replace=['dizzines','panic attacks'], value=['dizziness', 'panic attack'], inplace=True)\n",
      "C:\\Users\\ther3\\AppData\\Local\\Temp\\ipykernel_33268\\295461590.py:4: SettingWithCopyWarning: \n",
      "A value is trying to be set on a copy of a slice from a DataFrame\n",
      "\n",
      "See the caveats in the documentation: https://pandas.pydata.org/pandas-docs/stable/user_guide/indexing.html#returning-a-view-versus-a-copy\n",
      "  panic_cleaned[cat_cols[4]].replace(to_replace=['dizzines','panic attacks'], value=['dizziness', 'panic attack'], inplace=True)\n",
      "C:\\Users\\ther3\\AppData\\Local\\Temp\\ipykernel_33268\\295461590.py:5: FutureWarning: A value is trying to be set on a copy of a DataFrame or Series through chained assignment using an inplace method.\n",
      "The behavior will change in pandas 3.0. This inplace method will never work because the intermediate object on which we are setting values always behaves as a copy.\n",
      "\n",
      "For example, when doing 'df[col].method(value, inplace=True)', try using 'df.method({col: value}, inplace=True)' or df[col] = df[col].method(value) instead, to perform the operation inplace on the original object.\n",
      "\n",
      "\n",
      "  panic_cleaned[cat_cols[8]].replace(to_replace=['diabetic'], value=['diabetes'], inplace=True)\n",
      "C:\\Users\\ther3\\AppData\\Local\\Temp\\ipykernel_33268\\295461590.py:5: SettingWithCopyWarning: \n",
      "A value is trying to be set on a copy of a slice from a DataFrame\n",
      "\n",
      "See the caveats in the documentation: https://pandas.pydata.org/pandas-docs/stable/user_guide/indexing.html#returning-a-view-versus-a-copy\n",
      "  panic_cleaned[cat_cols[8]].replace(to_replace=['diabetic'], value=['diabetes'], inplace=True)\n"
     ]
    }
   ],
   "source": [
    "#Cleaning up symptoms and medical history column\n",
    "\n",
    "#df.method({col: value}, inplace=True)\n",
    "panic_cleaned[cat_cols[4]].replace(to_replace=['dizzines','panic attacks'], value=['dizziness', 'panic attack'], inplace=True)\n",
    "panic_cleaned[cat_cols[8]].replace(to_replace=['diabetic'], value=['diabetes'], inplace=True)\n",
    "\n",
    "for col in (cat_cols):\n",
    "    print(f'The unique values for {col} columns are: \\n')\n",
    "    print(panic_cleaned[col].unique())\n",
    "    print('*' + '-'*50 + '*' +'\\n')"
   ]
  },
  {
   "cell_type": "markdown",
   "id": "c6cf0bed",
   "metadata": {},
   "source": [
    "### (2.4) Convert date-related fields (if any) into proper datetime format\n"
   ]
  },
  {
   "cell_type": "code",
   "execution_count": 19,
   "id": "745f78a9",
   "metadata": {},
   "outputs": [
    {
     "name": "stdout",
     "output_type": "stream",
     "text": [
      "There no date-related fields in this dataset\n"
     ]
    }
   ],
   "source": [
    "panic_cleaned_date = panic_cleaned.select_dtypes(include= ['datetime', 'datetime64'])\n",
    "\n",
    "if ( not panic_cleaned_date.empty):\n",
    "    print('There is at least one datetime column:')\n",
    "    print(list(panic_cleaned_date.columns))\n",
    "else:\n",
    "    print('There no date-related fields in this dataset')"
   ]
  },
  {
   "cell_type": "markdown",
   "id": "d45ff60f",
   "metadata": {},
   "source": [
    "### (2.5) Handle outliers in numerical columns (Age, Severity, etc.). Visualize distributions first (e.g., boxplots or histograms) and possibly remove or cap/floor extreme values."
   ]
  },
  {
   "cell_type": "code",
   "execution_count": 20,
   "id": "8f0c75d0",
   "metadata": {},
   "outputs": [
    {
     "name": "stdout",
     "output_type": "stream",
     "text": [
      "Index(['Participant ID', 'Age', 'Panic Disorder Diagnosis'], dtype='object')\n"
     ]
    }
   ],
   "source": [
    "numericals= panic_cleaned.select_dtypes(exclude='object')\n",
    "numerical_cols = numericals.columns\n",
    "print((numerical_cols))"
   ]
  },
  {
   "cell_type": "code",
   "execution_count": 21,
   "id": "6d43a4df",
   "metadata": {},
   "outputs": [
    {
     "name": "stdout",
     "output_type": "stream",
     "text": [
      "The q1 value is: 29.0\n",
      "The median value is: 0    54\n",
      "Name: Age, dtype: int64\n",
      "The q3 value is: 54.0\n",
      "The lower bound value is: -8.5\n",
      "The upper bound value is: 91.5\n"
     ]
    }
   ],
   "source": [
    "#Creating a five-point summary of the age column\n",
    "ages = panic_cleaned[numerical_cols[1]].sort_values(ascending=True)\n",
    "\n",
    "q1 = np.percentile(ages, 25)\n",
    "q3 = np.percentile(ages, 75)\n",
    "\n",
    "inter_quartile_range = q3-q1\n",
    "\n",
    "lower = q1 - (1.5*inter_quartile_range)\n",
    "upper = q3 + (1.5*inter_quartile_range)\n",
    "\n",
    "print(f\"The q1 value is: {q1}\")\n",
    "print(f\"The median value is: {ages.mode()}\")\n",
    "print(f\"The q3 value is: {q3}\")\n",
    "\n",
    "print(f\"The lower bound value is: {lower}\")\n",
    "print(f\"The upper bound value is: {upper}\")\n",
    "\n",
    "#Listing all outliers\n",
    "outliers = []\n",
    "for age in ages:\n",
    "    if(age< lower or age>upper):\n",
    "        outliers.append(int(age))\n",
    "\n",
    "#print('The outliers are: {}'.format(outliers))"
   ]
  },
  {
   "cell_type": "code",
   "execution_count": 22,
   "id": "719645af",
   "metadata": {},
   "outputs": [
    {
     "data": {
      "text/plain": [
       "<matplotlib.lines.Line2D at 0x187a2e13b60>"
      ]
     },
     "execution_count": 22,
     "metadata": {},
     "output_type": "execute_result"
    },
    {
     "data": {
      "image/png": "[encoded data removed]",
      "text/plain": [
       "<Figure size 1000x200 with 1 Axes>"
      ]
     },
     "metadata": {},
     "output_type": "display_data"
    }
   ],
   "source": [
    "# Visualizing boxplots to show distribution of outliers\n",
    "plt.figure(figsize=(10,2))\n",
    "sns.boxplot(x= panic_cleaned['Age'])\n",
    "plt.title('Boxplot of Age before capping')\n",
    "\n",
    "plt.axvline(q1, color='orange', linestyle='--', label=f'Q1 = {q1:.1f}')\n",
    "plt.axvline(q3, color='green', linestyle='--', label=f'Q3 = {q3:.1f}')\n",
    "\n",
    "plt.axvline(lower, color='red', linestyle=':', label=f'Lower whisker = {lower:.1f}')\n",
    "plt.axvline(upper, color='purple', linestyle=':', label=f'Upper whisker = {upper:.1f}')"
   ]
  },
  {
   "cell_type": "code",
   "execution_count": 23,
   "id": "c6e2d89d",
   "metadata": {},
   "outputs": [
    {
     "name": "stdout",
     "output_type": "stream",
     "text": [
      "The actual possible minimum age is : 18 \n",
      "\n"
     ]
    },
    {
     "name": "stderr",
     "output_type": "stream",
     "text": [
      "C:\\Users\\ther3\\AppData\\Local\\Temp\\ipykernel_33268\\708080190.py:5: SettingWithCopyWarning: \n",
      "A value is trying to be set on a copy of a slice from a DataFrame.\n",
      "Try using .loc[row_indexer,col_indexer] = value instead\n",
      "\n",
      "See the caveats in the documentation: https://pandas.pydata.org/pandas-docs/stable/user_guide/indexing.html#returning-a-view-versus-a-copy\n",
      "  panic_cleaned['Age'] = np.clip(panic_cleaned['Age'], a_min=min_age_actual[37], a_max=round(upper))\n"
     ]
    }
   ],
   "source": [
    "#Cleaning the age column to remove all extreme outliers by using lower and upper bounds as clipping\n",
    "min_age_actual = panic_cleaned['Age'][(panic_cleaned['Age'] > 0) & (panic_cleaned['Age'] <= 18) ]\n",
    "print(f'The actual possible minimum age is : {min_age_actual[37]} \\n')\n",
    "\n",
    "panic_cleaned['Age'] = np.clip(panic_cleaned['Age'], a_min=min_age_actual[37], a_max=round(upper))\n"
   ]
  },
  {
   "cell_type": "code",
   "execution_count": 24,
   "id": "75da661e",
   "metadata": {},
   "outputs": [
    {
     "name": "stdout",
     "output_type": "stream",
     "text": [
      "The q1 value is: 29.0\n",
      "The median value is: 0    18\n",
      "Name: Age, dtype: int64\n",
      "The q3 value is: 54.0\n",
      "The lower bound value is: -8.5\n",
      "The upper bound value is: 91.5\n"
     ]
    },
    {
     "data": {
      "text/plain": [
       "<matplotlib.lines.Line2D at 0x187f00af6e0>"
      ]
     },
     "execution_count": 24,
     "metadata": {},
     "output_type": "execute_result"
    },
    {
     "data": {
      "image/png": "[encoded data removed]",
      "text/plain": [
       "<Figure size 1000x200 with 1 Axes>"
      ]
     },
     "metadata": {},
     "output_type": "display_data"
    }
   ],
   "source": [
    "#Creating a five-point summary of the age column after clipping and generating a boxplot\n",
    "ages = panic_cleaned[numerical_cols[1]].sort_values(ascending=True)\n",
    "\n",
    "q1 = np.percentile(ages, 25)\n",
    "q3 = np.percentile(ages, 75)\n",
    "\n",
    "inter_quartile_range = q3-q1\n",
    "\n",
    "lower = q1 - (1.5*inter_quartile_range)\n",
    "upper = q3 + (1.5*inter_quartile_range)\n",
    "\n",
    "print(f\"The q1 value is: {q1}\")\n",
    "print(f\"The median value is: {ages.mode()}\")\n",
    "print(f\"The q3 value is: {q3}\")\n",
    "\n",
    "print(f\"The lower bound value is: {lower}\")\n",
    "print(f\"The upper bound value is: {upper}\")\n",
    "\n",
    "# Visualizing boxplots to show distribution of outliers\n",
    "plt.figure(figsize=(10,2))\n",
    "sns.boxplot(x= panic_cleaned['Age'])\n",
    "plt.title('Boxplot of Age after capping')\n",
    "\n",
    "plt.axvline(q1, color='orange', linestyle='--', label=f'Q1 = {q1:.1f}')\n",
    "plt.axvline(q3, color='green', linestyle='--', label=f'Q3 = {q3:.1f}')\n",
    "\n",
    "plt.axvline(lower, color='red', linestyle=':', label=f'Lower whisker = {lower:.1f}')\n",
    "plt.axvline(upper, color='purple', linestyle=':', label=f'Upper whisker = {upper:.1f}')"
   ]
  },
  {
   "cell_type": "code",
   "execution_count": 25,
   "id": "f85f67ce",
   "metadata": {},
   "outputs": [],
   "source": [
    "#Copied value for unbalanced but cleaned dataframe\n",
    "panic_cleaned_unbalanced = panic_cleaned.copy()"
   ]
  },
  {
   "cell_type": "markdown",
   "id": "4672747f",
   "metadata": {},
   "source": [
    "## Step 3: Handling Class Imbalance"
   ]
  },
  {
   "cell_type": "markdown",
   "id": "84882b39",
   "metadata": {},
   "source": [
    "### (3.1) Analyze the imbalance ratio in Panic Disorder Diagnosis"
   ]
  },
  {
   "cell_type": "code",
   "execution_count": 26,
   "id": "68755f25",
   "metadata": {},
   "outputs": [
    {
     "name": "stdout",
     "output_type": "stream",
     "text": [
      "This is the class distribution before SMOTE: \n"
     ]
    },
    {
     "data": {
      "text/html": [
       "<div>\n",
       "<style scoped>\n",
       "    .dataframe tbody tr th:only-of-type {\n",
       "        vertical-align: middle;\n",
       "    }\n",
       "\n",
       "    .dataframe tbody tr th {\n",
       "        vertical-align: top;\n",
       "    }\n",
       "\n",
       "    .dataframe thead th {\n",
       "        text-align: right;\n",
       "    }\n",
       "</style>\n",
       "<table border=\"1\" class=\"dataframe\">\n",
       "  <thead>\n",
       "    <tr style=\"text-align: right;\">\n",
       "      <th></th>\n",
       "      <th>count</th>\n",
       "      <th>Percentage Distribution</th>\n",
       "    </tr>\n",
       "    <tr>\n",
       "      <th>Panic Disorder Diagnosis</th>\n",
       "      <th></th>\n",
       "      <th></th>\n",
       "    </tr>\n",
       "  </thead>\n",
       "  <tbody>\n",
       "    <tr>\n",
       "      <th>0</th>\n",
       "      <td>96087</td>\n",
       "      <td>95.71</td>\n",
       "    </tr>\n",
       "    <tr>\n",
       "      <th>1</th>\n",
       "      <td>4312</td>\n",
       "      <td>4.29</td>\n",
       "    </tr>\n",
       "  </tbody>\n",
       "</table>\n",
       "</div>"
      ],
      "text/plain": [
       "                          count  Percentage Distribution\n",
       "Panic Disorder Diagnosis                                \n",
       "0                         96087                    95.71\n",
       "1                          4312                     4.29"
      ]
     },
     "execution_count": 26,
     "metadata": {},
     "output_type": "execute_result"
    }
   ],
   "source": [
    "print('This is the class distribution before SMOTE: ')\n",
    "class_distribution_cleaned"
   ]
  },
  {
   "cell_type": "markdown",
   "id": "104426fd",
   "metadata": {},
   "source": [
    "### (3.2) Apply at least two class imbalance handling techniques"
   ]
  },
  {
   "cell_type": "markdown",
   "id": "2b281fbb",
   "metadata": {},
   "source": [
    "#### (3.2.1) Oversampling using SMOTE (Synthetic Minority Oversampling Technique)"
   ]
  },
  {
   "cell_type": "code",
   "execution_count": 27,
   "id": "02c47535",
   "metadata": {},
   "outputs": [],
   "source": [
    "from imblearn.over_sampling import SMOTE\n",
    "from sklearn.preprocessing import LabelEncoder"
   ]
  },
  {
   "cell_type": "code",
   "execution_count": 28,
   "id": "b82c8a0a",
   "metadata": {},
   "outputs": [],
   "source": [
    "\n",
    "X= panic_cleaned.drop('Panic Disorder Diagnosis',axis=1)\n",
    "#y= panic_cleaned['Panic Disorder Diagnosis']\n",
    "X_labelled = X.copy()\n",
    "\n",
    "X_labelled_categorical = X_labelled.select_dtypes(include='object')\n",
    "\n",
    "for column in X_labelled_categorical.columns:\n",
    "    lenc= LabelEncoder()\n",
    "    X_labelled[column]= lenc.fit_transform(X_labelled[column].astype(str))\n",
    "\n"
   ]
  },
  {
   "cell_type": "code",
   "execution_count": 29,
   "id": "28eac626",
   "metadata": {},
   "outputs": [],
   "source": [
    "smote = SMOTE(random_state=45)\n",
    "\n",
    "y= panic_cleaned['Panic Disorder Diagnosis']\n",
    "\n",
    "resampled_X, resampled_y = smote.fit_resample(X_labelled, y)\n",
    "\n",
    "panic_smote = pd.DataFrame(data= resampled_X)\n",
    "panic_smote['Panic Disorder Diagnosis']= resampled_y"
   ]
  },
  {
   "cell_type": "code",
   "execution_count": 30,
   "id": "298cdd19",
   "metadata": {},
   "outputs": [
    {
     "name": "stdout",
     "output_type": "stream",
     "text": [
      "The class distribution after SMOTE is: \n",
      "\n"
     ]
    },
    {
     "data": {
      "text/html": [
       "<div>\n",
       "<style scoped>\n",
       "    .dataframe tbody tr th:only-of-type {\n",
       "        vertical-align: middle;\n",
       "    }\n",
       "\n",
       "    .dataframe tbody tr th {\n",
       "        vertical-align: top;\n",
       "    }\n",
       "\n",
       "    .dataframe thead th {\n",
       "        text-align: right;\n",
       "    }\n",
       "</style>\n",
       "<table border=\"1\" class=\"dataframe\">\n",
       "  <thead>\n",
       "    <tr style=\"text-align: right;\">\n",
       "      <th></th>\n",
       "      <th>count</th>\n",
       "      <th>Percentage Distribution</th>\n",
       "    </tr>\n",
       "    <tr>\n",
       "      <th>Panic Disorder Diagnosis</th>\n",
       "      <th></th>\n",
       "      <th></th>\n",
       "    </tr>\n",
       "  </thead>\n",
       "  <tbody>\n",
       "    <tr>\n",
       "      <th>0</th>\n",
       "      <td>96087</td>\n",
       "      <td>50.0</td>\n",
       "    </tr>\n",
       "    <tr>\n",
       "      <th>1</th>\n",
       "      <td>96087</td>\n",
       "      <td>50.0</td>\n",
       "    </tr>\n",
       "  </tbody>\n",
       "</table>\n",
       "</div>"
      ],
      "text/plain": [
       "                          count  Percentage Distribution\n",
       "Panic Disorder Diagnosis                                \n",
       "0                         96087                     50.0\n",
       "1                         96087                     50.0"
      ]
     },
     "execution_count": 30,
     "metadata": {},
     "output_type": "execute_result"
    }
   ],
   "source": [
    "classes_smote = panic_smote['Panic Disorder Diagnosis'].value_counts().sort_index()\n",
    "total = classes_smote.sum()\n",
    "class_indexes = classes_smote.index\n",
    "percentages = []\n",
    "\n",
    "for index in class_indexes:\n",
    "    percentage = round((classes_smote[index]/total)*100, 2)\n",
    "    percentages.append(percentage)\n",
    "\n",
    "#Creating a dataframe that shows us class distribution statistics\n",
    "class_distribution_smote = pd.DataFrame(data=classes_smote)\n",
    "class_distribution_smote['Percentage Distribution'] = percentages\n",
    "print('The class distribution after SMOTE is: \\n')\n",
    "class_distribution_smote"
   ]
  },
  {
   "cell_type": "markdown",
   "id": "f1e56051",
   "metadata": {},
   "source": [
    "#### (3.2.2) Random undersampling of the majority class"
   ]
  },
  {
   "cell_type": "code",
   "execution_count": 31,
   "id": "6f651326",
   "metadata": {},
   "outputs": [],
   "source": [
    "from imblearn.under_sampling import RandomUnderSampler"
   ]
  },
  {
   "cell_type": "code",
   "execution_count": 32,
   "id": "d35a16f5",
   "metadata": {},
   "outputs": [],
   "source": [
    "rusampler = RandomUnderSampler(random_state= 40)\n",
    "\n",
    "X_rus, y_rus = rusampler.fit_resample(X_labelled, y)\n",
    "\n",
    "panic_rus = pd.DataFrame(data= X_rus)\n",
    "panic_rus['Panic Disorder Diagnosis']= y_rus"
   ]
  },
  {
   "cell_type": "code",
   "execution_count": 33,
   "id": "3f86ac02",
   "metadata": {},
   "outputs": [
    {
     "name": "stdout",
     "output_type": "stream",
     "text": [
      "The class distribution after random undersampling of majority class is: \n",
      "\n"
     ]
    },
    {
     "data": {
      "text/html": [
       "<div>\n",
       "<style scoped>\n",
       "    .dataframe tbody tr th:only-of-type {\n",
       "        vertical-align: middle;\n",
       "    }\n",
       "\n",
       "    .dataframe tbody tr th {\n",
       "        vertical-align: top;\n",
       "    }\n",
       "\n",
       "    .dataframe thead th {\n",
       "        text-align: right;\n",
       "    }\n",
       "</style>\n",
       "<table border=\"1\" class=\"dataframe\">\n",
       "  <thead>\n",
       "    <tr style=\"text-align: right;\">\n",
       "      <th></th>\n",
       "      <th>count</th>\n",
       "      <th>Percentage Distribution</th>\n",
       "    </tr>\n",
       "    <tr>\n",
       "      <th>Panic Disorder Diagnosis</th>\n",
       "      <th></th>\n",
       "      <th></th>\n",
       "    </tr>\n",
       "  </thead>\n",
       "  <tbody>\n",
       "    <tr>\n",
       "      <th>0</th>\n",
       "      <td>96087</td>\n",
       "      <td>50.0</td>\n",
       "    </tr>\n",
       "    <tr>\n",
       "      <th>1</th>\n",
       "      <td>96087</td>\n",
       "      <td>50.0</td>\n",
       "    </tr>\n",
       "  </tbody>\n",
       "</table>\n",
       "</div>"
      ],
      "text/plain": [
       "                          count  Percentage Distribution\n",
       "Panic Disorder Diagnosis                                \n",
       "0                         96087                     50.0\n",
       "1                         96087                     50.0"
      ]
     },
     "execution_count": 33,
     "metadata": {},
     "output_type": "execute_result"
    }
   ],
   "source": [
    "classes_rus = panic_rus['Panic Disorder Diagnosis'].value_counts().sort_index()\n",
    "total = classes_rus.sum()\n",
    "class_indexes = classes_rus.index\n",
    "percentages_rus = []\n",
    "\n",
    "for index in class_indexes:\n",
    "    percentage = round((classes_rus[index]/total)*100, 2)\n",
    "    percentages_rus.append(percentage)\n",
    "\n",
    "#Creating a dataframe that shows us class distribution statistics\n",
    "class_distribution_rus = pd.DataFrame(data=classes_smote)\n",
    "class_distribution_rus['Percentage Distribution'] = percentages_rus\n",
    "print('The class distribution after random undersampling of majority class is: \\n')\n",
    "class_distribution_rus"
   ]
  },
  {
   "cell_type": "markdown",
   "id": "8551ee6a",
   "metadata": {},
   "source": [
    "## Step 4: Feature Engineering"
   ]
  },
  {
   "cell_type": "markdown",
   "id": "dd500d9f",
   "metadata": {},
   "source": [
    "### 4.1 Feature Engineering on Structured Data  \n"
   ]
  },
  {
   "cell_type": "markdown",
   "id": "073b843a",
   "metadata": {},
   "source": [
    "#### (4.1.1) Encode categorical variables using one-hot encoding or label encoding"
   ]
  },
  {
   "cell_type": "code",
   "execution_count": 34,
   "id": "5d4802bd",
   "metadata": {},
   "outputs": [
    {
     "data": {
      "text/plain": [
       "Index(['Gender', 'Family History', 'Personal History', 'Current Stressors',\n",
       "       'Symptoms', 'Severity', 'Impact on Life', 'Demographics',\n",
       "       'Medical History', 'Psychiatric History', 'Substance Use',\n",
       "       'Coping Mechanisms', 'Social Support', 'Lifestyle Factors'],\n",
       "      dtype='object')"
      ]
     },
     "execution_count": 34,
     "metadata": {},
     "output_type": "execute_result"
    }
   ],
   "source": [
    "panic_cleaned_non_int = panic_cleaned.select_dtypes(exclude='int64')\n",
    "non_int_columns = panic_cleaned_non_int.columns\n",
    "non_int_columns"
   ]
  },
  {
   "cell_type": "markdown",
   "id": "098e9290",
   "metadata": {},
   "source": [
    "Label encoding for ordinal feaures : Severity, Impact on Life, Social Support"
   ]
  },
  {
   "cell_type": "code",
   "execution_count": 35,
   "id": "8e443373",
   "metadata": {},
   "outputs": [
    {
     "name": "stdout",
     "output_type": "stream",
     "text": [
      "Unique values of Severity column are: ['mild' 'moderate' 'severe'] \n",
      "\n",
      "Unique values of Impact of life column are: ['mild' 'significant' 'moderate'] \n",
      "\n",
      "Unique values of Social Support column are: ['high' 'moderate' 'low'] \n",
      "\n"
     ]
    }
   ],
   "source": [
    "#For the ordinal variable values, we can find the unique values first\n",
    "print(f\"Unique values of Severity column are: {panic_cleaned_non_int['Severity'].unique()} \\n\")\n",
    "print(f\"Unique values of Impact of life column are: {panic_cleaned_non_int['Impact on Life'].unique()} \\n\")\n",
    "print(f\"Unique values of Social Support column are: {panic_cleaned_non_int['Social Support'].unique()} \\n\")"
   ]
  },
  {
   "cell_type": "code",
   "execution_count": 36,
   "id": "c0fe7baf",
   "metadata": {},
   "outputs": [],
   "source": [
    "from sklearn.preprocessing import OrdinalEncoder as oe"
   ]
  },
  {
   "cell_type": "code",
   "execution_count": 37,
   "id": "5ecec951",
   "metadata": {},
   "outputs": [
    {
     "name": "stderr",
     "output_type": "stream",
     "text": [
      "C:\\Users\\ther3\\AppData\\Local\\Temp\\ipykernel_33268\\3981579715.py:8: SettingWithCopyWarning: \n",
      "A value is trying to be set on a copy of a slice from a DataFrame.\n",
      "Try using .loc[row_indexer,col_indexer] = value instead\n",
      "\n",
      "See the caveats in the documentation: https://pandas.pydata.org/pandas-docs/stable/user_guide/indexing.html#returning-a-view-versus-a-copy\n",
      "  panic_cleaned[ordinal_cols] = encoder.fit_transform(panic_cleaned[ordinal_cols])\n"
     ]
    }
   ],
   "source": [
    "ordinal_cols = ['Severity', 'Impact on Life','Social Support' ]\n",
    "ordinal_ordered=[['mild', 'moderate', 'severe'], ['mild', 'moderate', 'significant'], ['low' ,'moderate' ,'high']]\n",
    "\n",
    "#Initialize a encoder\n",
    "encoder = oe(categories=ordinal_ordered)\n",
    "\n",
    "#Fitting values in specified order into the ordinal value columns\n",
    "panic_cleaned[ordinal_cols] = encoder.fit_transform(panic_cleaned[ordinal_cols])\n"
   ]
  },
  {
   "cell_type": "markdown",
   "id": "1108bdb2",
   "metadata": {},
   "source": [
    "#### For unbalanced dataframe"
   ]
  },
  {
   "cell_type": "code",
   "execution_count": 38,
   "id": "11932ce8",
   "metadata": {},
   "outputs": [],
   "source": [
    "#Fitting values in specified order into the ordinal value columns\n",
    "panic_cleaned_unbalanced[ordinal_cols] = encoder.fit_transform(panic_cleaned_unbalanced[ordinal_cols])\n"
   ]
  },
  {
   "cell_type": "code",
   "execution_count": 39,
   "id": "faef2609",
   "metadata": {},
   "outputs": [
    {
     "data": {
      "text/html": [
       "<div>\n",
       "<style scoped>\n",
       "    .dataframe tbody tr th:only-of-type {\n",
       "        vertical-align: middle;\n",
       "    }\n",
       "\n",
       "    .dataframe tbody tr th {\n",
       "        vertical-align: top;\n",
       "    }\n",
       "\n",
       "    .dataframe thead th {\n",
       "        text-align: right;\n",
       "    }\n",
       "</style>\n",
       "<table border=\"1\" class=\"dataframe\">\n",
       "  <thead>\n",
       "    <tr style=\"text-align: right;\">\n",
       "      <th></th>\n",
       "      <th>Participant ID</th>\n",
       "      <th>Age</th>\n",
       "      <th>Gender</th>\n",
       "      <th>Family History</th>\n",
       "      <th>Personal History</th>\n",
       "      <th>Current Stressors</th>\n",
       "      <th>Symptoms</th>\n",
       "      <th>Severity</th>\n",
       "      <th>Impact on Life</th>\n",
       "      <th>Demographics</th>\n",
       "      <th>Medical History</th>\n",
       "      <th>Psychiatric History</th>\n",
       "      <th>Substance Use</th>\n",
       "      <th>Coping Mechanisms</th>\n",
       "      <th>Social Support</th>\n",
       "      <th>Lifestyle Factors</th>\n",
       "      <th>Panic Disorder Diagnosis</th>\n",
       "    </tr>\n",
       "  </thead>\n",
       "  <tbody>\n",
       "    <tr>\n",
       "      <th>0</th>\n",
       "      <td>1</td>\n",
       "      <td>38</td>\n",
       "      <td>male</td>\n",
       "      <td>no</td>\n",
       "      <td>yes</td>\n",
       "      <td>moderate</td>\n",
       "      <td>shortness of breath</td>\n",
       "      <td>0.0</td>\n",
       "      <td>0.0</td>\n",
       "      <td>rural</td>\n",
       "      <td>diabetes</td>\n",
       "      <td>bipolar disorder</td>\n",
       "      <td>alcohol</td>\n",
       "      <td>socializing</td>\n",
       "      <td>2.0</td>\n",
       "      <td>sleep quality</td>\n",
       "      <td>0</td>\n",
       "    </tr>\n",
       "    <tr>\n",
       "      <th>1</th>\n",
       "      <td>2</td>\n",
       "      <td>51</td>\n",
       "      <td>male</td>\n",
       "      <td>no</td>\n",
       "      <td>no</td>\n",
       "      <td>high</td>\n",
       "      <td>panic attack</td>\n",
       "      <td>0.0</td>\n",
       "      <td>0.0</td>\n",
       "      <td>urban</td>\n",
       "      <td>asthma</td>\n",
       "      <td>anxiety disorder</td>\n",
       "      <td>drugs</td>\n",
       "      <td>exercise</td>\n",
       "      <td>2.0</td>\n",
       "      <td>sleep quality</td>\n",
       "      <td>0</td>\n",
       "    </tr>\n",
       "    <tr>\n",
       "      <th>2</th>\n",
       "      <td>3</td>\n",
       "      <td>32</td>\n",
       "      <td>female</td>\n",
       "      <td>yes</td>\n",
       "      <td>no</td>\n",
       "      <td>high</td>\n",
       "      <td>panic attack</td>\n",
       "      <td>0.0</td>\n",
       "      <td>2.0</td>\n",
       "      <td>urban</td>\n",
       "      <td>diabetes</td>\n",
       "      <td>depressive disorder</td>\n",
       "      <td>alcohol</td>\n",
       "      <td>seeking therapy</td>\n",
       "      <td>1.0</td>\n",
       "      <td>exercise</td>\n",
       "      <td>0</td>\n",
       "    </tr>\n",
       "    <tr>\n",
       "      <th>3</th>\n",
       "      <td>4</td>\n",
       "      <td>64</td>\n",
       "      <td>female</td>\n",
       "      <td>no</td>\n",
       "      <td>no</td>\n",
       "      <td>moderate</td>\n",
       "      <td>chest pain</td>\n",
       "      <td>1.0</td>\n",
       "      <td>1.0</td>\n",
       "      <td>rural</td>\n",
       "      <td>diabetes</td>\n",
       "      <td>anxiety disorder</td>\n",
       "      <td>alcohol</td>\n",
       "      <td>meditation</td>\n",
       "      <td>2.0</td>\n",
       "      <td>exercise</td>\n",
       "      <td>0</td>\n",
       "    </tr>\n",
       "    <tr>\n",
       "      <th>4</th>\n",
       "      <td>5</td>\n",
       "      <td>31</td>\n",
       "      <td>male</td>\n",
       "      <td>yes</td>\n",
       "      <td>no</td>\n",
       "      <td>moderate</td>\n",
       "      <td>panic attack</td>\n",
       "      <td>0.0</td>\n",
       "      <td>1.0</td>\n",
       "      <td>rural</td>\n",
       "      <td>asthma</td>\n",
       "      <td>anxiety disorder</td>\n",
       "      <td>drugs</td>\n",
       "      <td>seeking therapy</td>\n",
       "      <td>0.0</td>\n",
       "      <td>sleep quality</td>\n",
       "      <td>0</td>\n",
       "    </tr>\n",
       "  </tbody>\n",
       "</table>\n",
       "</div>"
      ],
      "text/plain": [
       "   Participant ID  Age  Gender Family History Personal History  \\\n",
       "0               1   38    male             no              yes   \n",
       "1               2   51    male             no               no   \n",
       "2               3   32  female            yes               no   \n",
       "3               4   64  female             no               no   \n",
       "4               5   31    male            yes               no   \n",
       "\n",
       "  Current Stressors             Symptoms  Severity  Impact on Life  \\\n",
       "0          moderate  shortness of breath       0.0             0.0   \n",
       "1              high         panic attack       0.0             0.0   \n",
       "2              high         panic attack       0.0             2.0   \n",
       "3          moderate           chest pain       1.0             1.0   \n",
       "4          moderate         panic attack       0.0             1.0   \n",
       "\n",
       "  Demographics Medical History  Psychiatric History Substance Use  \\\n",
       "0        rural        diabetes     bipolar disorder       alcohol   \n",
       "1        urban          asthma     anxiety disorder         drugs   \n",
       "2        urban        diabetes  depressive disorder       alcohol   \n",
       "3        rural        diabetes     anxiety disorder       alcohol   \n",
       "4        rural          asthma     anxiety disorder         drugs   \n",
       "\n",
       "  Coping Mechanisms  Social Support Lifestyle Factors  \\\n",
       "0       socializing             2.0     sleep quality   \n",
       "1          exercise             2.0     sleep quality   \n",
       "2   seeking therapy             1.0          exercise   \n",
       "3        meditation             2.0          exercise   \n",
       "4   seeking therapy             0.0     sleep quality   \n",
       "\n",
       "   Panic Disorder Diagnosis  \n",
       "0                         0  \n",
       "1                         0  \n",
       "2                         0  \n",
       "3                         0  \n",
       "4                         0  "
      ]
     },
     "execution_count": 39,
     "metadata": {},
     "output_type": "execute_result"
    }
   ],
   "source": [
    "panic_cleaned.head(5)"
   ]
  },
  {
   "cell_type": "markdown",
   "id": "2e2fd599",
   "metadata": {},
   "source": [
    "One-hot encoding for remaining nominal features\n"
   ]
  },
  {
   "cell_type": "code",
   "execution_count": 40,
   "id": "cb36155d",
   "metadata": {},
   "outputs": [],
   "source": [
    "from sklearn.preprocessing import OneHotEncoder"
   ]
  },
  {
   "cell_type": "code",
   "execution_count": 41,
   "id": "065917d9",
   "metadata": {},
   "outputs": [],
   "source": [
    "#Defining nominal columns \n",
    "nominal_cols = list(filter(lambda column: column not in ordinal_cols ,non_int_columns))\n",
    "#nominal_cols\n",
    "\n",
    "ohe = OneHotEncoder(sparse_output=False)\n",
    "\n",
    "#Encoding only the nominal columns\n",
    "ohe_encoded_nominal_cols = ohe.fit_transform(panic_cleaned[nominal_cols])\n",
    "\n",
    "#Creating df of ohe nominal columns\n",
    "ohencoded_df = pd.DataFrame(data=ohe_encoded_nominal_cols, columns= ohe.get_feature_names_out(nominal_cols), index=panic_cleaned.index)\n",
    "\n",
    "#Drop original columns and concate the new one hot encoded values\n",
    "panic_cleaned=panic_cleaned.drop(columns=nominal_cols)\n",
    "panic_cleaned = pd.concat([panic_cleaned, ohencoded_df], axis=1)\n"
   ]
  },
  {
   "cell_type": "markdown",
   "id": "81903a48",
   "metadata": {},
   "source": [
    "#### For unbalanced dataframe!!!"
   ]
  },
  {
   "cell_type": "code",
   "execution_count": 42,
   "id": "c73f7ccb",
   "metadata": {},
   "outputs": [],
   "source": [
    "#Encoding only the ub nominal columns\n",
    "ohe_encoded_nominal_cols_ub = ohe.fit_transform(panic_cleaned_unbalanced[nominal_cols])\n",
    "\n",
    "#Creating df of ohe ub nominal columns\n",
    "ohencoded_df_ub = pd.DataFrame(data=ohe_encoded_nominal_cols_ub , columns= ohe.get_feature_names_out(nominal_cols), index=panic_cleaned_unbalanced.index)\n",
    "\n",
    "#Drop original columns and concate the new one hot encoded values on ub dat\n",
    "panic_cleaned_unbalanced =panic_cleaned_unbalanced.drop(columns=nominal_cols)\n",
    "panic_cleaned_unbalanced = pd.concat([panic_cleaned_unbalanced, ohencoded_df_ub], axis=1)"
   ]
  },
  {
   "cell_type": "code",
   "execution_count": 43,
   "id": "51ef4f7b",
   "metadata": {},
   "outputs": [
    {
     "data": {
      "text/html": [
       "<div>\n",
       "<style scoped>\n",
       "    .dataframe tbody tr th:only-of-type {\n",
       "        vertical-align: middle;\n",
       "    }\n",
       "\n",
       "    .dataframe tbody tr th {\n",
       "        vertical-align: top;\n",
       "    }\n",
       "\n",
       "    .dataframe thead th {\n",
       "        text-align: right;\n",
       "    }\n",
       "</style>\n",
       "<table border=\"1\" class=\"dataframe\">\n",
       "  <thead>\n",
       "    <tr style=\"text-align: right;\">\n",
       "      <th></th>\n",
       "      <th>Participant ID</th>\n",
       "      <th>Age</th>\n",
       "      <th>Severity</th>\n",
       "      <th>Impact on Life</th>\n",
       "      <th>Social Support</th>\n",
       "      <th>Panic Disorder Diagnosis</th>\n",
       "      <th>Gender_female</th>\n",
       "      <th>Gender_male</th>\n",
       "      <th>Family History_no</th>\n",
       "      <th>Family History_yes</th>\n",
       "      <th>...</th>\n",
       "      <th>Substance Use_drugs</th>\n",
       "      <th>Coping Mechanisms_exercise</th>\n",
       "      <th>Coping Mechanisms_meditate</th>\n",
       "      <th>Coping Mechanisms_meditation</th>\n",
       "      <th>Coping Mechanisms_seeking therapy</th>\n",
       "      <th>Coping Mechanisms_socialize</th>\n",
       "      <th>Coping Mechanisms_socializing</th>\n",
       "      <th>Lifestyle Factors_diet</th>\n",
       "      <th>Lifestyle Factors_exercise</th>\n",
       "      <th>Lifestyle Factors_sleep quality</th>\n",
       "    </tr>\n",
       "  </thead>\n",
       "  <tbody>\n",
       "    <tr>\n",
       "      <th>0</th>\n",
       "      <td>1</td>\n",
       "      <td>38</td>\n",
       "      <td>0.0</td>\n",
       "      <td>0.0</td>\n",
       "      <td>2.0</td>\n",
       "      <td>0</td>\n",
       "      <td>0.0</td>\n",
       "      <td>1.0</td>\n",
       "      <td>1.0</td>\n",
       "      <td>0.0</td>\n",
       "      <td>...</td>\n",
       "      <td>0.0</td>\n",
       "      <td>0.0</td>\n",
       "      <td>0.0</td>\n",
       "      <td>0.0</td>\n",
       "      <td>0.0</td>\n",
       "      <td>0.0</td>\n",
       "      <td>1.0</td>\n",
       "      <td>0.0</td>\n",
       "      <td>0.0</td>\n",
       "      <td>1.0</td>\n",
       "    </tr>\n",
       "    <tr>\n",
       "      <th>1</th>\n",
       "      <td>2</td>\n",
       "      <td>51</td>\n",
       "      <td>0.0</td>\n",
       "      <td>0.0</td>\n",
       "      <td>2.0</td>\n",
       "      <td>0</td>\n",
       "      <td>0.0</td>\n",
       "      <td>1.0</td>\n",
       "      <td>1.0</td>\n",
       "      <td>0.0</td>\n",
       "      <td>...</td>\n",
       "      <td>1.0</td>\n",
       "      <td>1.0</td>\n",
       "      <td>0.0</td>\n",
       "      <td>0.0</td>\n",
       "      <td>0.0</td>\n",
       "      <td>0.0</td>\n",
       "      <td>0.0</td>\n",
       "      <td>0.0</td>\n",
       "      <td>0.0</td>\n",
       "      <td>1.0</td>\n",
       "    </tr>\n",
       "    <tr>\n",
       "      <th>2</th>\n",
       "      <td>3</td>\n",
       "      <td>32</td>\n",
       "      <td>0.0</td>\n",
       "      <td>2.0</td>\n",
       "      <td>1.0</td>\n",
       "      <td>0</td>\n",
       "      <td>1.0</td>\n",
       "      <td>0.0</td>\n",
       "      <td>0.0</td>\n",
       "      <td>1.0</td>\n",
       "      <td>...</td>\n",
       "      <td>0.0</td>\n",
       "      <td>0.0</td>\n",
       "      <td>0.0</td>\n",
       "      <td>0.0</td>\n",
       "      <td>1.0</td>\n",
       "      <td>0.0</td>\n",
       "      <td>0.0</td>\n",
       "      <td>0.0</td>\n",
       "      <td>1.0</td>\n",
       "      <td>0.0</td>\n",
       "    </tr>\n",
       "    <tr>\n",
       "      <th>3</th>\n",
       "      <td>4</td>\n",
       "      <td>64</td>\n",
       "      <td>1.0</td>\n",
       "      <td>1.0</td>\n",
       "      <td>2.0</td>\n",
       "      <td>0</td>\n",
       "      <td>1.0</td>\n",
       "      <td>0.0</td>\n",
       "      <td>1.0</td>\n",
       "      <td>0.0</td>\n",
       "      <td>...</td>\n",
       "      <td>0.0</td>\n",
       "      <td>0.0</td>\n",
       "      <td>0.0</td>\n",
       "      <td>1.0</td>\n",
       "      <td>0.0</td>\n",
       "      <td>0.0</td>\n",
       "      <td>0.0</td>\n",
       "      <td>0.0</td>\n",
       "      <td>1.0</td>\n",
       "      <td>0.0</td>\n",
       "    </tr>\n",
       "    <tr>\n",
       "      <th>4</th>\n",
       "      <td>5</td>\n",
       "      <td>31</td>\n",
       "      <td>0.0</td>\n",
       "      <td>1.0</td>\n",
       "      <td>0.0</td>\n",
       "      <td>0</td>\n",
       "      <td>0.0</td>\n",
       "      <td>1.0</td>\n",
       "      <td>0.0</td>\n",
       "      <td>1.0</td>\n",
       "      <td>...</td>\n",
       "      <td>1.0</td>\n",
       "      <td>0.0</td>\n",
       "      <td>0.0</td>\n",
       "      <td>0.0</td>\n",
       "      <td>1.0</td>\n",
       "      <td>0.0</td>\n",
       "      <td>0.0</td>\n",
       "      <td>0.0</td>\n",
       "      <td>0.0</td>\n",
       "      <td>1.0</td>\n",
       "    </tr>\n",
       "  </tbody>\n",
       "</table>\n",
       "<p>5 rows × 39 columns</p>\n",
       "</div>"
      ],
      "text/plain": [
       "   Participant ID  Age  Severity  Impact on Life  Social Support  \\\n",
       "0               1   38       0.0             0.0             2.0   \n",
       "1               2   51       0.0             0.0             2.0   \n",
       "2               3   32       0.0             2.0             1.0   \n",
       "3               4   64       1.0             1.0             2.0   \n",
       "4               5   31       0.0             1.0             0.0   \n",
       "\n",
       "   Panic Disorder Diagnosis  Gender_female  Gender_male  Family History_no  \\\n",
       "0                         0            0.0          1.0                1.0   \n",
       "1                         0            0.0          1.0                1.0   \n",
       "2                         0            1.0          0.0                0.0   \n",
       "3                         0            1.0          0.0                1.0   \n",
       "4                         0            0.0          1.0                0.0   \n",
       "\n",
       "   Family History_yes  ...  Substance Use_drugs  Coping Mechanisms_exercise  \\\n",
       "0                 0.0  ...                  0.0                         0.0   \n",
       "1                 0.0  ...                  1.0                         1.0   \n",
       "2                 1.0  ...                  0.0                         0.0   \n",
       "3                 0.0  ...                  0.0                         0.0   \n",
       "4                 1.0  ...                  1.0                         0.0   \n",
       "\n",
       "   Coping Mechanisms_meditate  Coping Mechanisms_meditation  \\\n",
       "0                         0.0                           0.0   \n",
       "1                         0.0                           0.0   \n",
       "2                         0.0                           0.0   \n",
       "3                         0.0                           1.0   \n",
       "4                         0.0                           0.0   \n",
       "\n",
       "   Coping Mechanisms_seeking therapy  Coping Mechanisms_socialize  \\\n",
       "0                                0.0                          0.0   \n",
       "1                                0.0                          0.0   \n",
       "2                                1.0                          0.0   \n",
       "3                                0.0                          0.0   \n",
       "4                                1.0                          0.0   \n",
       "\n",
       "   Coping Mechanisms_socializing  Lifestyle Factors_diet  \\\n",
       "0                            1.0                     0.0   \n",
       "1                            0.0                     0.0   \n",
       "2                            0.0                     0.0   \n",
       "3                            0.0                     0.0   \n",
       "4                            0.0                     0.0   \n",
       "\n",
       "   Lifestyle Factors_exercise  Lifestyle Factors_sleep quality  \n",
       "0                         0.0                              1.0  \n",
       "1                         0.0                              1.0  \n",
       "2                         1.0                              0.0  \n",
       "3                         1.0                              0.0  \n",
       "4                         0.0                              1.0  \n",
       "\n",
       "[5 rows x 39 columns]"
      ]
     },
     "execution_count": 43,
     "metadata": {},
     "output_type": "execute_result"
    }
   ],
   "source": [
    "panic_cleaned.head(5)"
   ]
  },
  {
   "cell_type": "markdown",
   "id": "84897273",
   "metadata": {},
   "source": [
    "#### (4.1.2) Scale numerical features (Age, Severity Score, etc.) using techniques like min-max, z-score, etc"
   ]
  },
  {
   "cell_type": "code",
   "execution_count": 44,
   "id": "c04bfa6b",
   "metadata": {},
   "outputs": [],
   "source": [
    "from sklearn.preprocessing import MinMaxScaler"
   ]
  },
  {
   "cell_type": "code",
   "execution_count": 45,
   "id": "6858061f",
   "metadata": {},
   "outputs": [],
   "source": [
    "scaler = MinMaxScaler()\n",
    "panic_cleaned['Age_scaled'] = scaler.fit_transform(panic_cleaned[['Age']]).round(1)"
   ]
  },
  {
   "cell_type": "markdown",
   "id": "94c51f8b",
   "metadata": {},
   "source": [
    "#### For unbalanced data"
   ]
  },
  {
   "cell_type": "code",
   "execution_count": 46,
   "id": "c2504f10",
   "metadata": {},
   "outputs": [],
   "source": [
    "panic_cleaned_unbalanced['Age_scaled'] = scaler.fit_transform(panic_cleaned_unbalanced[['Age']]).round(1)"
   ]
  },
  {
   "cell_type": "code",
   "execution_count": 47,
   "id": "3f5b419e",
   "metadata": {},
   "outputs": [
    {
     "data": {
      "text/html": [
       "<div>\n",
       "<style scoped>\n",
       "    .dataframe tbody tr th:only-of-type {\n",
       "        vertical-align: middle;\n",
       "    }\n",
       "\n",
       "    .dataframe tbody tr th {\n",
       "        vertical-align: top;\n",
       "    }\n",
       "\n",
       "    .dataframe thead th {\n",
       "        text-align: right;\n",
       "    }\n",
       "</style>\n",
       "<table border=\"1\" class=\"dataframe\">\n",
       "  <thead>\n",
       "    <tr style=\"text-align: right;\">\n",
       "      <th></th>\n",
       "      <th>Participant ID</th>\n",
       "      <th>Age</th>\n",
       "      <th>Severity</th>\n",
       "      <th>Impact on Life</th>\n",
       "      <th>Social Support</th>\n",
       "      <th>Panic Disorder Diagnosis</th>\n",
       "      <th>Gender_female</th>\n",
       "      <th>Gender_male</th>\n",
       "      <th>Family History_no</th>\n",
       "      <th>Family History_yes</th>\n",
       "      <th>...</th>\n",
       "      <th>Coping Mechanisms_exercise</th>\n",
       "      <th>Coping Mechanisms_meditate</th>\n",
       "      <th>Coping Mechanisms_meditation</th>\n",
       "      <th>Coping Mechanisms_seeking therapy</th>\n",
       "      <th>Coping Mechanisms_socialize</th>\n",
       "      <th>Coping Mechanisms_socializing</th>\n",
       "      <th>Lifestyle Factors_diet</th>\n",
       "      <th>Lifestyle Factors_exercise</th>\n",
       "      <th>Lifestyle Factors_sleep quality</th>\n",
       "      <th>Age_scaled</th>\n",
       "    </tr>\n",
       "  </thead>\n",
       "  <tbody>\n",
       "    <tr>\n",
       "      <th>0</th>\n",
       "      <td>1</td>\n",
       "      <td>38</td>\n",
       "      <td>0.0</td>\n",
       "      <td>0.0</td>\n",
       "      <td>2.0</td>\n",
       "      <td>0</td>\n",
       "      <td>0.0</td>\n",
       "      <td>1.0</td>\n",
       "      <td>1.0</td>\n",
       "      <td>0.0</td>\n",
       "      <td>...</td>\n",
       "      <td>0.0</td>\n",
       "      <td>0.0</td>\n",
       "      <td>0.0</td>\n",
       "      <td>0.0</td>\n",
       "      <td>0.0</td>\n",
       "      <td>1.0</td>\n",
       "      <td>0.0</td>\n",
       "      <td>0.0</td>\n",
       "      <td>1.0</td>\n",
       "      <td>0.3</td>\n",
       "    </tr>\n",
       "    <tr>\n",
       "      <th>1</th>\n",
       "      <td>2</td>\n",
       "      <td>51</td>\n",
       "      <td>0.0</td>\n",
       "      <td>0.0</td>\n",
       "      <td>2.0</td>\n",
       "      <td>0</td>\n",
       "      <td>0.0</td>\n",
       "      <td>1.0</td>\n",
       "      <td>1.0</td>\n",
       "      <td>0.0</td>\n",
       "      <td>...</td>\n",
       "      <td>1.0</td>\n",
       "      <td>0.0</td>\n",
       "      <td>0.0</td>\n",
       "      <td>0.0</td>\n",
       "      <td>0.0</td>\n",
       "      <td>0.0</td>\n",
       "      <td>0.0</td>\n",
       "      <td>0.0</td>\n",
       "      <td>1.0</td>\n",
       "      <td>0.4</td>\n",
       "    </tr>\n",
       "    <tr>\n",
       "      <th>2</th>\n",
       "      <td>3</td>\n",
       "      <td>32</td>\n",
       "      <td>0.0</td>\n",
       "      <td>2.0</td>\n",
       "      <td>1.0</td>\n",
       "      <td>0</td>\n",
       "      <td>1.0</td>\n",
       "      <td>0.0</td>\n",
       "      <td>0.0</td>\n",
       "      <td>1.0</td>\n",
       "      <td>...</td>\n",
       "      <td>0.0</td>\n",
       "      <td>0.0</td>\n",
       "      <td>0.0</td>\n",
       "      <td>1.0</td>\n",
       "      <td>0.0</td>\n",
       "      <td>0.0</td>\n",
       "      <td>0.0</td>\n",
       "      <td>1.0</td>\n",
       "      <td>0.0</td>\n",
       "      <td>0.2</td>\n",
       "    </tr>\n",
       "    <tr>\n",
       "      <th>3</th>\n",
       "      <td>4</td>\n",
       "      <td>64</td>\n",
       "      <td>1.0</td>\n",
       "      <td>1.0</td>\n",
       "      <td>2.0</td>\n",
       "      <td>0</td>\n",
       "      <td>1.0</td>\n",
       "      <td>0.0</td>\n",
       "      <td>1.0</td>\n",
       "      <td>0.0</td>\n",
       "      <td>...</td>\n",
       "      <td>0.0</td>\n",
       "      <td>0.0</td>\n",
       "      <td>1.0</td>\n",
       "      <td>0.0</td>\n",
       "      <td>0.0</td>\n",
       "      <td>0.0</td>\n",
       "      <td>0.0</td>\n",
       "      <td>1.0</td>\n",
       "      <td>0.0</td>\n",
       "      <td>0.6</td>\n",
       "    </tr>\n",
       "    <tr>\n",
       "      <th>4</th>\n",
       "      <td>5</td>\n",
       "      <td>31</td>\n",
       "      <td>0.0</td>\n",
       "      <td>1.0</td>\n",
       "      <td>0.0</td>\n",
       "      <td>0</td>\n",
       "      <td>0.0</td>\n",
       "      <td>1.0</td>\n",
       "      <td>0.0</td>\n",
       "      <td>1.0</td>\n",
       "      <td>...</td>\n",
       "      <td>0.0</td>\n",
       "      <td>0.0</td>\n",
       "      <td>0.0</td>\n",
       "      <td>1.0</td>\n",
       "      <td>0.0</td>\n",
       "      <td>0.0</td>\n",
       "      <td>0.0</td>\n",
       "      <td>0.0</td>\n",
       "      <td>1.0</td>\n",
       "      <td>0.2</td>\n",
       "    </tr>\n",
       "  </tbody>\n",
       "</table>\n",
       "<p>5 rows × 40 columns</p>\n",
       "</div>"
      ],
      "text/plain": [
       "   Participant ID  Age  Severity  Impact on Life  Social Support  \\\n",
       "0               1   38       0.0             0.0             2.0   \n",
       "1               2   51       0.0             0.0             2.0   \n",
       "2               3   32       0.0             2.0             1.0   \n",
       "3               4   64       1.0             1.0             2.0   \n",
       "4               5   31       0.0             1.0             0.0   \n",
       "\n",
       "   Panic Disorder Diagnosis  Gender_female  Gender_male  Family History_no  \\\n",
       "0                         0            0.0          1.0                1.0   \n",
       "1                         0            0.0          1.0                1.0   \n",
       "2                         0            1.0          0.0                0.0   \n",
       "3                         0            1.0          0.0                1.0   \n",
       "4                         0            0.0          1.0                0.0   \n",
       "\n",
       "   Family History_yes  ...  Coping Mechanisms_exercise  \\\n",
       "0                 0.0  ...                         0.0   \n",
       "1                 0.0  ...                         1.0   \n",
       "2                 1.0  ...                         0.0   \n",
       "3                 0.0  ...                         0.0   \n",
       "4                 1.0  ...                         0.0   \n",
       "\n",
       "   Coping Mechanisms_meditate  Coping Mechanisms_meditation  \\\n",
       "0                         0.0                           0.0   \n",
       "1                         0.0                           0.0   \n",
       "2                         0.0                           0.0   \n",
       "3                         0.0                           1.0   \n",
       "4                         0.0                           0.0   \n",
       "\n",
       "   Coping Mechanisms_seeking therapy  Coping Mechanisms_socialize  \\\n",
       "0                                0.0                          0.0   \n",
       "1                                0.0                          0.0   \n",
       "2                                1.0                          0.0   \n",
       "3                                0.0                          0.0   \n",
       "4                                1.0                          0.0   \n",
       "\n",
       "   Coping Mechanisms_socializing  Lifestyle Factors_diet  \\\n",
       "0                            1.0                     0.0   \n",
       "1                            0.0                     0.0   \n",
       "2                            0.0                     0.0   \n",
       "3                            0.0                     0.0   \n",
       "4                            0.0                     0.0   \n",
       "\n",
       "   Lifestyle Factors_exercise  Lifestyle Factors_sleep quality  Age_scaled  \n",
       "0                         0.0                              1.0         0.3  \n",
       "1                         0.0                              1.0         0.4  \n",
       "2                         1.0                              0.0         0.2  \n",
       "3                         1.0                              0.0         0.6  \n",
       "4                         0.0                              1.0         0.2  \n",
       "\n",
       "[5 rows x 40 columns]"
      ]
     },
     "execution_count": 47,
     "metadata": {},
     "output_type": "execute_result"
    }
   ],
   "source": [
    "panic_cleaned.head()"
   ]
  },
  {
   "cell_type": "code",
   "execution_count": 48,
   "id": "dcbdbff1",
   "metadata": {},
   "outputs": [
    {
     "data": {
      "text/html": [
       "<div>\n",
       "<style scoped>\n",
       "    .dataframe tbody tr th:only-of-type {\n",
       "        vertical-align: middle;\n",
       "    }\n",
       "\n",
       "    .dataframe tbody tr th {\n",
       "        vertical-align: top;\n",
       "    }\n",
       "\n",
       "    .dataframe thead th {\n",
       "        text-align: right;\n",
       "    }\n",
       "</style>\n",
       "<table border=\"1\" class=\"dataframe\">\n",
       "  <thead>\n",
       "    <tr style=\"text-align: right;\">\n",
       "      <th></th>\n",
       "      <th>Participant ID</th>\n",
       "      <th>Age</th>\n",
       "      <th>Severity</th>\n",
       "      <th>Impact on Life</th>\n",
       "      <th>Social Support</th>\n",
       "      <th>Panic Disorder Diagnosis</th>\n",
       "      <th>Gender_female</th>\n",
       "      <th>Gender_male</th>\n",
       "      <th>Family History_no</th>\n",
       "      <th>Family History_yes</th>\n",
       "      <th>...</th>\n",
       "      <th>Coping Mechanisms_exercise</th>\n",
       "      <th>Coping Mechanisms_meditate</th>\n",
       "      <th>Coping Mechanisms_meditation</th>\n",
       "      <th>Coping Mechanisms_seeking therapy</th>\n",
       "      <th>Coping Mechanisms_socialize</th>\n",
       "      <th>Coping Mechanisms_socializing</th>\n",
       "      <th>Lifestyle Factors_diet</th>\n",
       "      <th>Lifestyle Factors_exercise</th>\n",
       "      <th>Lifestyle Factors_sleep quality</th>\n",
       "      <th>Age_scaled</th>\n",
       "    </tr>\n",
       "  </thead>\n",
       "  <tbody>\n",
       "    <tr>\n",
       "      <th>0</th>\n",
       "      <td>1</td>\n",
       "      <td>38</td>\n",
       "      <td>0.0</td>\n",
       "      <td>0.0</td>\n",
       "      <td>2.0</td>\n",
       "      <td>0</td>\n",
       "      <td>0.0</td>\n",
       "      <td>1.0</td>\n",
       "      <td>1.0</td>\n",
       "      <td>0.0</td>\n",
       "      <td>...</td>\n",
       "      <td>0.0</td>\n",
       "      <td>0.0</td>\n",
       "      <td>0.0</td>\n",
       "      <td>0.0</td>\n",
       "      <td>0.0</td>\n",
       "      <td>1.0</td>\n",
       "      <td>0.0</td>\n",
       "      <td>0.0</td>\n",
       "      <td>1.0</td>\n",
       "      <td>0.3</td>\n",
       "    </tr>\n",
       "    <tr>\n",
       "      <th>1</th>\n",
       "      <td>2</td>\n",
       "      <td>51</td>\n",
       "      <td>0.0</td>\n",
       "      <td>0.0</td>\n",
       "      <td>2.0</td>\n",
       "      <td>0</td>\n",
       "      <td>0.0</td>\n",
       "      <td>1.0</td>\n",
       "      <td>1.0</td>\n",
       "      <td>0.0</td>\n",
       "      <td>...</td>\n",
       "      <td>1.0</td>\n",
       "      <td>0.0</td>\n",
       "      <td>0.0</td>\n",
       "      <td>0.0</td>\n",
       "      <td>0.0</td>\n",
       "      <td>0.0</td>\n",
       "      <td>0.0</td>\n",
       "      <td>0.0</td>\n",
       "      <td>1.0</td>\n",
       "      <td>0.4</td>\n",
       "    </tr>\n",
       "    <tr>\n",
       "      <th>2</th>\n",
       "      <td>3</td>\n",
       "      <td>32</td>\n",
       "      <td>0.0</td>\n",
       "      <td>2.0</td>\n",
       "      <td>1.0</td>\n",
       "      <td>0</td>\n",
       "      <td>1.0</td>\n",
       "      <td>0.0</td>\n",
       "      <td>0.0</td>\n",
       "      <td>1.0</td>\n",
       "      <td>...</td>\n",
       "      <td>0.0</td>\n",
       "      <td>0.0</td>\n",
       "      <td>0.0</td>\n",
       "      <td>1.0</td>\n",
       "      <td>0.0</td>\n",
       "      <td>0.0</td>\n",
       "      <td>0.0</td>\n",
       "      <td>1.0</td>\n",
       "      <td>0.0</td>\n",
       "      <td>0.2</td>\n",
       "    </tr>\n",
       "    <tr>\n",
       "      <th>3</th>\n",
       "      <td>4</td>\n",
       "      <td>64</td>\n",
       "      <td>1.0</td>\n",
       "      <td>1.0</td>\n",
       "      <td>2.0</td>\n",
       "      <td>0</td>\n",
       "      <td>1.0</td>\n",
       "      <td>0.0</td>\n",
       "      <td>1.0</td>\n",
       "      <td>0.0</td>\n",
       "      <td>...</td>\n",
       "      <td>0.0</td>\n",
       "      <td>0.0</td>\n",
       "      <td>1.0</td>\n",
       "      <td>0.0</td>\n",
       "      <td>0.0</td>\n",
       "      <td>0.0</td>\n",
       "      <td>0.0</td>\n",
       "      <td>1.0</td>\n",
       "      <td>0.0</td>\n",
       "      <td>0.6</td>\n",
       "    </tr>\n",
       "    <tr>\n",
       "      <th>4</th>\n",
       "      <td>5</td>\n",
       "      <td>31</td>\n",
       "      <td>0.0</td>\n",
       "      <td>1.0</td>\n",
       "      <td>0.0</td>\n",
       "      <td>0</td>\n",
       "      <td>0.0</td>\n",
       "      <td>1.0</td>\n",
       "      <td>0.0</td>\n",
       "      <td>1.0</td>\n",
       "      <td>...</td>\n",
       "      <td>0.0</td>\n",
       "      <td>0.0</td>\n",
       "      <td>0.0</td>\n",
       "      <td>1.0</td>\n",
       "      <td>0.0</td>\n",
       "      <td>0.0</td>\n",
       "      <td>0.0</td>\n",
       "      <td>0.0</td>\n",
       "      <td>1.0</td>\n",
       "      <td>0.2</td>\n",
       "    </tr>\n",
       "  </tbody>\n",
       "</table>\n",
       "<p>5 rows × 40 columns</p>\n",
       "</div>"
      ],
      "text/plain": [
       "   Participant ID  Age  Severity  Impact on Life  Social Support  \\\n",
       "0               1   38       0.0             0.0             2.0   \n",
       "1               2   51       0.0             0.0             2.0   \n",
       "2               3   32       0.0             2.0             1.0   \n",
       "3               4   64       1.0             1.0             2.0   \n",
       "4               5   31       0.0             1.0             0.0   \n",
       "\n",
       "   Panic Disorder Diagnosis  Gender_female  Gender_male  Family History_no  \\\n",
       "0                         0            0.0          1.0                1.0   \n",
       "1                         0            0.0          1.0                1.0   \n",
       "2                         0            1.0          0.0                0.0   \n",
       "3                         0            1.0          0.0                1.0   \n",
       "4                         0            0.0          1.0                0.0   \n",
       "\n",
       "   Family History_yes  ...  Coping Mechanisms_exercise  \\\n",
       "0                 0.0  ...                         0.0   \n",
       "1                 0.0  ...                         1.0   \n",
       "2                 1.0  ...                         0.0   \n",
       "3                 0.0  ...                         0.0   \n",
       "4                 1.0  ...                         0.0   \n",
       "\n",
       "   Coping Mechanisms_meditate  Coping Mechanisms_meditation  \\\n",
       "0                         0.0                           0.0   \n",
       "1                         0.0                           0.0   \n",
       "2                         0.0                           0.0   \n",
       "3                         0.0                           1.0   \n",
       "4                         0.0                           0.0   \n",
       "\n",
       "   Coping Mechanisms_seeking therapy  Coping Mechanisms_socialize  \\\n",
       "0                                0.0                          0.0   \n",
       "1                                0.0                          0.0   \n",
       "2                                1.0                          0.0   \n",
       "3                                0.0                          0.0   \n",
       "4                                1.0                          0.0   \n",
       "\n",
       "   Coping Mechanisms_socializing  Lifestyle Factors_diet  \\\n",
       "0                            1.0                     0.0   \n",
       "1                            0.0                     0.0   \n",
       "2                            0.0                     0.0   \n",
       "3                            0.0                     0.0   \n",
       "4                            0.0                     0.0   \n",
       "\n",
       "   Lifestyle Factors_exercise  Lifestyle Factors_sleep quality  Age_scaled  \n",
       "0                         0.0                              1.0         0.3  \n",
       "1                         0.0                              1.0         0.4  \n",
       "2                         1.0                              0.0         0.2  \n",
       "3                         1.0                              0.0         0.6  \n",
       "4                         0.0                              1.0         0.2  \n",
       "\n",
       "[5 rows x 40 columns]"
      ]
     },
     "execution_count": 48,
     "metadata": {},
     "output_type": "execute_result"
    }
   ],
   "source": [
    "panic_cleaned_unbalanced.head()"
   ]
  },
  {
   "cell_type": "code",
   "execution_count": 49,
   "id": "a4c0298f",
   "metadata": {},
   "outputs": [
    {
     "name": "stdout",
     "output_type": "stream",
     "text": [
      "Columns before dropping:\n",
      "['Participant ID', 'Age', 'Severity', 'Impact on Life', 'Social Support', 'Panic Disorder Diagnosis', 'Gender_female', 'Gender_male', 'Family History_no', 'Family History_yes', 'Personal History_no', 'Personal History_yes', 'Current Stressors_high', 'Current Stressors_low', 'Current Stressors_moderate', 'Symptoms_chest pain', 'Symptoms_dizziness', 'Symptoms_fear of losing control', 'Symptoms_panic attack', 'Symptoms_shortness of breath', 'Demographics_rural', 'Demographics_urban', 'Medical History_asthma', 'Medical History_diabetes', 'Medical History_heart disease', 'Psychiatric History_anxiety disorder', 'Psychiatric History_bipolar disorder', 'Psychiatric History_depressive disorder', 'Substance Use_alcohol', 'Substance Use_drugs', 'Coping Mechanisms_exercise', 'Coping Mechanisms_meditate', 'Coping Mechanisms_meditation', 'Coping Mechanisms_seeking therapy', 'Coping Mechanisms_socialize', 'Coping Mechanisms_socializing', 'Lifestyle Factors_diet', 'Lifestyle Factors_exercise', 'Lifestyle Factors_sleep quality', 'Age_scaled']\n",
      "Columns after dropping:\n",
      "['Panic Disorder Diagnosis', 'Gender_female', 'Gender_male', 'Family History_no', 'Family History_yes', 'Personal History_no', 'Personal History_yes', 'Current Stressors_high', 'Current Stressors_low', 'Current Stressors_moderate', 'Symptoms_chest pain', 'Symptoms_dizziness', 'Symptoms_fear of losing control', 'Symptoms_panic attack', 'Symptoms_shortness of breath', 'Demographics_rural', 'Demographics_urban', 'Medical History_asthma', 'Medical History_diabetes', 'Medical History_heart disease', 'Psychiatric History_anxiety disorder', 'Psychiatric History_bipolar disorder', 'Psychiatric History_depressive disorder', 'Substance Use_alcohol', 'Substance Use_drugs', 'Coping Mechanisms_exercise', 'Coping Mechanisms_meditate', 'Coping Mechanisms_meditation', 'Coping Mechanisms_seeking therapy', 'Coping Mechanisms_socialize', 'Coping Mechanisms_socializing', 'Lifestyle Factors_diet', 'Lifestyle Factors_exercise', 'Lifestyle Factors_sleep quality', 'Age_scaled']\n",
      "Columns before dropping UB:\n",
      "['Participant ID', 'Age', 'Severity', 'Impact on Life', 'Social Support', 'Panic Disorder Diagnosis', 'Gender_female', 'Gender_male', 'Family History_no', 'Family History_yes', 'Personal History_no', 'Personal History_yes', 'Current Stressors_high', 'Current Stressors_low', 'Current Stressors_moderate', 'Symptoms_chest pain', 'Symptoms_dizziness', 'Symptoms_fear of losing control', 'Symptoms_panic attack', 'Symptoms_shortness of breath', 'Demographics_rural', 'Demographics_urban', 'Medical History_asthma', 'Medical History_diabetes', 'Medical History_heart disease', 'Psychiatric History_anxiety disorder', 'Psychiatric History_bipolar disorder', 'Psychiatric History_depressive disorder', 'Substance Use_alcohol', 'Substance Use_drugs', 'Coping Mechanisms_exercise', 'Coping Mechanisms_meditate', 'Coping Mechanisms_meditation', 'Coping Mechanisms_seeking therapy', 'Coping Mechanisms_socialize', 'Coping Mechanisms_socializing', 'Lifestyle Factors_diet', 'Lifestyle Factors_exercise', 'Lifestyle Factors_sleep quality', 'Age_scaled']\n",
      "Columns after dropping UB:\n",
      "['Panic Disorder Diagnosis', 'Gender_female', 'Gender_male', 'Family History_no', 'Family History_yes', 'Personal History_no', 'Personal History_yes', 'Current Stressors_high', 'Current Stressors_low', 'Current Stressors_moderate', 'Symptoms_chest pain', 'Symptoms_dizziness', 'Symptoms_fear of losing control', 'Symptoms_panic attack', 'Symptoms_shortness of breath', 'Demographics_rural', 'Demographics_urban', 'Medical History_asthma', 'Medical History_diabetes', 'Medical History_heart disease', 'Psychiatric History_anxiety disorder', 'Psychiatric History_bipolar disorder', 'Psychiatric History_depressive disorder', 'Substance Use_alcohol', 'Substance Use_drugs', 'Coping Mechanisms_exercise', 'Coping Mechanisms_meditate', 'Coping Mechanisms_meditation', 'Coping Mechanisms_seeking therapy', 'Coping Mechanisms_socialize', 'Coping Mechanisms_socializing', 'Lifestyle Factors_diet', 'Lifestyle Factors_exercise', 'Lifestyle Factors_sleep quality', 'Age_scaled']\n"
     ]
    }
   ],
   "source": [
    "features_to_drop = [\n",
    "    'Participant ID',  'Age', 'Severity', 'Impact on Life','Social Support'\n",
    "]\n",
    "\n",
    "# Print columns before dropping for verification\n",
    "print(\"Columns before dropping:\")\n",
    "print(panic_cleaned.columns.tolist())\n",
    "# Drop these columns if they exist in the unbalanced dataset\n",
    "panic_cleaned= panic_cleaned.drop(['Participant ID',  'Age', 'Severity', 'Impact on Life','Social Support'], axis=1)\n",
    "print(\"Columns after dropping:\")\n",
    "print(panic_cleaned.columns.tolist())\n",
    "\n",
    "# Print columns before dropping for verification\n",
    "print(\"Columns before dropping UB:\")\n",
    "print(panic_cleaned_unbalanced.columns.tolist())\n",
    "# Drop these columns if they exist in the unbalanced dataset\n",
    "panic_cleaned_unbalanced= panic_cleaned_unbalanced.drop(['Participant ID',  'Age', 'Severity', 'Impact on Life','Social Support'], axis=1)\n",
    "print(\"Columns after dropping UB:\")\n",
    "print(panic_cleaned_unbalanced.columns.tolist())"
   ]
  },
  {
   "cell_type": "markdown",
   "id": "a3c183b8",
   "metadata": {},
   "source": [
    "## Step 5: Feature Importance Analysis"
   ]
  },
  {
   "cell_type": "markdown",
   "id": "1bcf1424",
   "metadata": {},
   "source": [
    "### 5.1 Correlation Analysis"
   ]
  },
  {
   "cell_type": "markdown",
   "id": "2816a1f9",
   "metadata": {},
   "source": [
    "#### (5.1.1) Compute the correlation matrix to see relationships between numerical features. Plot a heatmap of the correlation matrix."
   ]
  },
  {
   "cell_type": "markdown",
   "id": "bc8b60ba",
   "metadata": {},
   "source": [
    "Although the only the true numerical column is the Age_scaled column, for correlation matrix and the heatmap generation I will be using the encoded ordinal columns as well for greater insight\n",
    " "
   ]
  },
  {
   "cell_type": "code",
   "execution_count": 50,
   "id": "2c68e93a",
   "metadata": {},
   "outputs": [
    {
     "data": {
      "text/plain": [
       "Index(['Panic Disorder Diagnosis', 'Gender_female', 'Gender_male',\n",
       "       'Family History_no', 'Family History_yes', 'Personal History_no',\n",
       "       'Personal History_yes', 'Current Stressors_high',\n",
       "       'Current Stressors_low', 'Current Stressors_moderate',\n",
       "       'Symptoms_chest pain', 'Symptoms_dizziness',\n",
       "       'Symptoms_fear of losing control', 'Symptoms_panic attack',\n",
       "       'Symptoms_shortness of breath', 'Demographics_rural',\n",
       "       'Demographics_urban', 'Medical History_asthma',\n",
       "       'Medical History_diabetes', 'Medical History_heart disease',\n",
       "       'Psychiatric History_anxiety disorder',\n",
       "       'Psychiatric History_bipolar disorder',\n",
       "       'Psychiatric History_depressive disorder', 'Substance Use_alcohol',\n",
       "       'Substance Use_drugs', 'Coping Mechanisms_exercise',\n",
       "       'Coping Mechanisms_meditate', 'Coping Mechanisms_meditation',\n",
       "       'Coping Mechanisms_seeking therapy', 'Coping Mechanisms_socialize',\n",
       "       'Coping Mechanisms_socializing', 'Lifestyle Factors_diet',\n",
       "       'Lifestyle Factors_exercise', 'Lifestyle Factors_sleep quality',\n",
       "       'Age_scaled'],\n",
       "      dtype='object')"
      ]
     },
     "execution_count": 50,
     "metadata": {},
     "output_type": "execute_result"
    }
   ],
   "source": [
    "panic_cleaned.columns"
   ]
  },
  {
   "cell_type": "markdown",
   "id": "03fa329c",
   "metadata": {},
   "source": [
    "### 5.2 Feature Importance from Models"
   ]
  },
  {
   "cell_type": "code",
   "execution_count": 51,
   "id": "e6efd00c",
   "metadata": {},
   "outputs": [],
   "source": [
    "from sklearn.model_selection import train_test_split\n",
    "from sklearn.ensemble import RandomForestClassifier\n",
    "from sklearn.linear_model import LogisticRegression\n",
    "from sklearn.svm import SVC \n",
    "from sklearn.metrics import accuracy_score, precision_score, recall_score, f1_score, roc_auc_score,classification_report"
   ]
  },
  {
   "cell_type": "markdown",
   "id": "e31f3137",
   "metadata": {},
   "source": [
    "#### (5.2.1) Train a Random Forest model and extract feature importance scores."
   ]
  },
  {
   "cell_type": "code",
   "execution_count": 52,
   "id": "1c6bc4e7",
   "metadata": {},
   "outputs": [],
   "source": [
    "#Splitting the data into test/train split at 80/20 ratio\n",
    "X= panic_cleaned.drop('Panic Disorder Diagnosis', axis=1)\n",
    "y= panic_cleaned['Panic Disorder Diagnosis']\n",
    "\n",
    "X_train, X_test, y_train, y_test = train_test_split(X, y, test_size=0.2, random_state=45)"
   ]
  },
  {
   "cell_type": "code",
   "execution_count": 53,
   "id": "c081c93e",
   "metadata": {},
   "outputs": [],
   "source": [
    "rf = RandomForestClassifier(random_state=45)\n",
    "\n",
    "rf.fit(X_train, y_train)\n",
    "\n",
    "features = X.columns\n",
    "features_importance_rf_model = rf.feature_importances_"
   ]
  },
  {
   "cell_type": "code",
   "execution_count": 54,
   "id": "d75ff95e",
   "metadata": {},
   "outputs": [
    {
     "data": {
      "text/html": [
       "<div>\n",
       "<style scoped>\n",
       "    .dataframe tbody tr th:only-of-type {\n",
       "        vertical-align: middle;\n",
       "    }\n",
       "\n",
       "    .dataframe tbody tr th {\n",
       "        vertical-align: top;\n",
       "    }\n",
       "\n",
       "    .dataframe thead th {\n",
       "        text-align: right;\n",
       "    }\n",
       "</style>\n",
       "<table border=\"1\" class=\"dataframe\">\n",
       "  <thead>\n",
       "    <tr style=\"text-align: right;\">\n",
       "      <th></th>\n",
       "      <th>features</th>\n",
       "      <th>importance</th>\n",
       "    </tr>\n",
       "  </thead>\n",
       "  <tbody>\n",
       "    <tr>\n",
       "      <th>33</th>\n",
       "      <td>Age_scaled</td>\n",
       "      <td>0.197549</td>\n",
       "    </tr>\n",
       "    <tr>\n",
       "      <th>32</th>\n",
       "      <td>Lifestyle Factors_sleep quality</td>\n",
       "      <td>0.098390</td>\n",
       "    </tr>\n",
       "    <tr>\n",
       "      <th>6</th>\n",
       "      <td>Current Stressors_high</td>\n",
       "      <td>0.055073</td>\n",
       "    </tr>\n",
       "    <tr>\n",
       "      <th>12</th>\n",
       "      <td>Symptoms_panic attack</td>\n",
       "      <td>0.050672</td>\n",
       "    </tr>\n",
       "    <tr>\n",
       "      <th>30</th>\n",
       "      <td>Lifestyle Factors_diet</td>\n",
       "      <td>0.038099</td>\n",
       "    </tr>\n",
       "    <tr>\n",
       "      <th>31</th>\n",
       "      <td>Lifestyle Factors_exercise</td>\n",
       "      <td>0.033795</td>\n",
       "    </tr>\n",
       "    <tr>\n",
       "      <th>8</th>\n",
       "      <td>Current Stressors_moderate</td>\n",
       "      <td>0.026022</td>\n",
       "    </tr>\n",
       "    <tr>\n",
       "      <th>24</th>\n",
       "      <td>Coping Mechanisms_exercise</td>\n",
       "      <td>0.025853</td>\n",
       "    </tr>\n",
       "    <tr>\n",
       "      <th>3</th>\n",
       "      <td>Family History_yes</td>\n",
       "      <td>0.025293</td>\n",
       "    </tr>\n",
       "    <tr>\n",
       "      <th>2</th>\n",
       "      <td>Family History_no</td>\n",
       "      <td>0.024550</td>\n",
       "    </tr>\n",
       "  </tbody>\n",
       "</table>\n",
       "</div>"
      ],
      "text/plain": [
       "                           features  importance\n",
       "33                       Age_scaled    0.197549\n",
       "32  Lifestyle Factors_sleep quality    0.098390\n",
       "6            Current Stressors_high    0.055073\n",
       "12            Symptoms_panic attack    0.050672\n",
       "30           Lifestyle Factors_diet    0.038099\n",
       "31       Lifestyle Factors_exercise    0.033795\n",
       "8        Current Stressors_moderate    0.026022\n",
       "24       Coping Mechanisms_exercise    0.025853\n",
       "3                Family History_yes    0.025293\n",
       "2                 Family History_no    0.024550"
      ]
     },
     "execution_count": 54,
     "metadata": {},
     "output_type": "execute_result"
    }
   ],
   "source": [
    "#Creating a model with the features and their extracted importance \n",
    "features_importance_df = pd.DataFrame(data={'features': features, 'importance': features_importance_rf_model}).sort_values(ascending=False, by ='importance')\n",
    "\n",
    "#Top 10 most important features displayed\n",
    "features_importance_df.head(10)"
   ]
  },
  {
   "cell_type": "markdown",
   "id": "a57343aa",
   "metadata": {},
   "source": [
    "#### (5.2.2) Train a Logistic Regression model and analyze coefficients\n"
   ]
  },
  {
   "cell_type": "code",
   "execution_count": 55,
   "id": "a5a6e83e",
   "metadata": {},
   "outputs": [
    {
     "data": {
      "text/html": [
       "<style>#sk-container-id-1 {\n",
       "  /* Definition of color scheme common for light and dark mode */\n",
       "  --sklearn-color-text: #000;\n",
       "  --sklearn-color-text-muted: #666;\n",
       "  --sklearn-color-line: gray;\n",
       "  /* Definition of color scheme for unfitted estimators */\n",
       "  --sklearn-color-unfitted-level-0: #fff5e6;\n",
       "  --sklearn-color-unfitted-level-1: #f6e4d2;\n",
       "  --sklearn-color-unfitted-level-2: #ffe0b3;\n",
       "  --sklearn-color-unfitted-level-3: chocolate;\n",
       "  /* Definition of color scheme for fitted estimators */\n",
       "  --sklearn-color-fitted-level-0: #f0f8ff;\n",
       "  --sklearn-color-fitted-level-1: #d4ebff;\n",
       "  --sklearn-color-fitted-level-2: #b3dbfd;\n",
       "  --sklearn-color-fitted-level-3: cornflowerblue;\n",
       "\n",
       "  /* Specific color for light theme */\n",
       "  --sklearn-color-text-on-default-background: var(--sg-text-color, var(--theme-code-foreground, var(--jp-content-font-color1, black)));\n",
       "  --sklearn-color-background: var(--sg-background-color, var(--theme-background, var(--jp-layout-color0, white)));\n",
       "  --sklearn-color-border-box: var(--sg-text-color, var(--theme-code-foreground, var(--jp-content-font-color1, black)));\n",
       "  --sklearn-color-icon: #696969;\n",
       "\n",
       "  @media (prefers-color-scheme: dark) {\n",
       "    /* Redefinition of color scheme for dark theme */\n",
       "    --sklearn-color-text-on-default-background: var(--sg-text-color, var(--theme-code-foreground, var(--jp-content-font-color1, white)));\n",
       "    --sklearn-color-background: var(--sg-background-color, var(--theme-background, var(--jp-layout-color0, #111)));\n",
       "    --sklearn-color-border-box: var(--sg-text-color, var(--theme-code-foreground, var(--jp-content-font-color1, white)));\n",
       "    --sklearn-color-icon: #878787;\n",
       "  }\n",
       "}\n",
       "\n",
       "#sk-container-id-1 {\n",
       "  color: var(--sklearn-color-text);\n",
       "}\n",
       "\n",
       "#sk-container-id-1 pre {\n",
       "  padding: 0;\n",
       "}\n",
       "\n",
       "#sk-container-id-1 input.sk-hidden--visually {\n",
       "  border: 0;\n",
       "  clip: rect(1px 1px 1px 1px);\n",
       "  clip: rect(1px, 1px, 1px, 1px);\n",
       "  height: 1px;\n",
       "  margin: -1px;\n",
       "  overflow: hidden;\n",
       "  padding: 0;\n",
       "  position: absolute;\n",
       "  width: 1px;\n",
       "}\n",
       "\n",
       "#sk-container-id-1 div.sk-dashed-wrapped {\n",
       "  border: 1px dashed var(--sklearn-color-line);\n",
       "  margin: 0 0.4em 0.5em 0.4em;\n",
       "  box-sizing: border-box;\n",
       "  padding-bottom: 0.4em;\n",
       "  background-color: var(--sklearn-color-background);\n",
       "}\n",
       "\n",
       "#sk-container-id-1 div.sk-container {\n",
       "  /* jupyter's `normalize.less` sets `[hidden] { display: none; }`\n",
       "     but bootstrap.min.css set `[hidden] { display: none !important; }`\n",
       "     so we also need the `!important` here to be able to override the\n",
       "     default hidden behavior on the sphinx rendered scikit-learn.org.\n",
       "     See: https://github.com/scikit-learn/scikit-learn/issues/21755 */\n",
       "  display: inline-block !important;\n",
       "  position: relative;\n",
       "}\n",
       "\n",
       "#sk-container-id-1 div.sk-text-repr-fallback {\n",
       "  display: none;\n",
       "}\n",
       "\n",
       "div.sk-parallel-item,\n",
       "div.sk-serial,\n",
       "div.sk-item {\n",
       "  /* draw centered vertical line to link estimators */\n",
       "  background-image: linear-gradient(var(--sklearn-color-text-on-default-background), var(--sklearn-color-text-on-default-background));\n",
       "  background-size: 2px 100%;\n",
       "  background-repeat: no-repeat;\n",
       "  background-position: center center;\n",
       "}\n",
       "\n",
       "/* Parallel-specific style estimator block */\n",
       "\n",
       "#sk-container-id-1 div.sk-parallel-item::after {\n",
       "  content: \"\";\n",
       "  width: 100%;\n",
       "  border-bottom: 2px solid var(--sklearn-color-text-on-default-background);\n",
       "  flex-grow: 1;\n",
       "}\n",
       "\n",
       "#sk-container-id-1 div.sk-parallel {\n",
       "  display: flex;\n",
       "  align-items: stretch;\n",
       "  justify-content: center;\n",
       "  background-color: var(--sklearn-color-background);\n",
       "  position: relative;\n",
       "}\n",
       "\n",
       "#sk-container-id-1 div.sk-parallel-item {\n",
       "  display: flex;\n",
       "  flex-direction: column;\n",
       "}\n",
       "\n",
       "#sk-container-id-1 div.sk-parallel-item:first-child::after {\n",
       "  align-self: flex-end;\n",
       "  width: 50%;\n",
       "}\n",
       "\n",
       "#sk-container-id-1 div.sk-parallel-item:last-child::after {\n",
       "  align-self: flex-start;\n",
       "  width: 50%;\n",
       "}\n",
       "\n",
       "#sk-container-id-1 div.sk-parallel-item:only-child::after {\n",
       "  width: 0;\n",
       "}\n",
       "\n",
       "/* Serial-specific style estimator block */\n",
       "\n",
       "#sk-container-id-1 div.sk-serial {\n",
       "  display: flex;\n",
       "  flex-direction: column;\n",
       "  align-items: center;\n",
       "  background-color: var(--sklearn-color-background);\n",
       "  padding-right: 1em;\n",
       "  padding-left: 1em;\n",
       "}\n",
       "\n",
       "\n",
       "/* Toggleable style: style used for estimator/Pipeline/ColumnTransformer box that is\n",
       "clickable and can be expanded/collapsed.\n",
       "- Pipeline and ColumnTransformer use this feature and define the default style\n",
       "- Estimators will overwrite some part of the style using the `sk-estimator` class\n",
       "*/\n",
       "\n",
       "/* Pipeline and ColumnTransformer style (default) */\n",
       "\n",
       "#sk-container-id-1 div.sk-toggleable {\n",
       "  /* Default theme specific background. It is overwritten whether we have a\n",
       "  specific estimator or a Pipeline/ColumnTransformer */\n",
       "  background-color: var(--sklearn-color-background);\n",
       "}\n",
       "\n",
       "/* Toggleable label */\n",
       "#sk-container-id-1 label.sk-toggleable__label {\n",
       "  cursor: pointer;\n",
       "  display: flex;\n",
       "  width: 100%;\n",
       "  margin-bottom: 0;\n",
       "  padding: 0.5em;\n",
       "  box-sizing: border-box;\n",
       "  text-align: center;\n",
       "  align-items: start;\n",
       "  justify-content: space-between;\n",
       "  gap: 0.5em;\n",
       "}\n",
       "\n",
       "#sk-container-id-1 label.sk-toggleable__label .caption {\n",
       "  font-size: 0.6rem;\n",
       "  font-weight: lighter;\n",
       "  color: var(--sklearn-color-text-muted);\n",
       "}\n",
       "\n",
       "#sk-container-id-1 label.sk-toggleable__label-arrow:before {\n",
       "  /* Arrow on the left of the label */\n",
       "  content: \"▸\";\n",
       "  float: left;\n",
       "  margin-right: 0.25em;\n",
       "  color: var(--sklearn-color-icon);\n",
       "}\n",
       "\n",
       "#sk-container-id-1 label.sk-toggleable__label-arrow:hover:before {\n",
       "  color: var(--sklearn-color-text);\n",
       "}\n",
       "\n",
       "/* Toggleable content - dropdown */\n",
       "\n",
       "#sk-container-id-1 div.sk-toggleable__content {\n",
       "  max-height: 0;\n",
       "  max-width: 0;\n",
       "  overflow: hidden;\n",
       "  text-align: left;\n",
       "  /* unfitted */\n",
       "  background-color: var(--sklearn-color-unfitted-level-0);\n",
       "}\n",
       "\n",
       "#sk-container-id-1 div.sk-toggleable__content.fitted {\n",
       "  /* fitted */\n",
       "  background-color: var(--sklearn-color-fitted-level-0);\n",
       "}\n",
       "\n",
       "#sk-container-id-1 div.sk-toggleable__content pre {\n",
       "  margin: 0.2em;\n",
       "  border-radius: 0.25em;\n",
       "  color: var(--sklearn-color-text);\n",
       "  /* unfitted */\n",
       "  background-color: var(--sklearn-color-unfitted-level-0);\n",
       "}\n",
       "\n",
       "#sk-container-id-1 div.sk-toggleable__content.fitted pre {\n",
       "  /* unfitted */\n",
       "  background-color: var(--sklearn-color-fitted-level-0);\n",
       "}\n",
       "\n",
       "#sk-container-id-1 input.sk-toggleable__control:checked~div.sk-toggleable__content {\n",
       "  /* Expand drop-down */\n",
       "  max-height: 200px;\n",
       "  max-width: 100%;\n",
       "  overflow: auto;\n",
       "}\n",
       "\n",
       "#sk-container-id-1 input.sk-toggleable__control:checked~label.sk-toggleable__label-arrow:before {\n",
       "  content: \"▾\";\n",
       "}\n",
       "\n",
       "/* Pipeline/ColumnTransformer-specific style */\n",
       "\n",
       "#sk-container-id-1 div.sk-label input.sk-toggleable__control:checked~label.sk-toggleable__label {\n",
       "  color: var(--sklearn-color-text);\n",
       "  background-color: var(--sklearn-color-unfitted-level-2);\n",
       "}\n",
       "\n",
       "#sk-container-id-1 div.sk-label.fitted input.sk-toggleable__control:checked~label.sk-toggleable__label {\n",
       "  background-color: var(--sklearn-color-fitted-level-2);\n",
       "}\n",
       "\n",
       "/* Estimator-specific style */\n",
       "\n",
       "/* Colorize estimator box */\n",
       "#sk-container-id-1 div.sk-estimator input.sk-toggleable__control:checked~label.sk-toggleable__label {\n",
       "  /* unfitted */\n",
       "  background-color: var(--sklearn-color-unfitted-level-2);\n",
       "}\n",
       "\n",
       "#sk-container-id-1 div.sk-estimator.fitted input.sk-toggleable__control:checked~label.sk-toggleable__label {\n",
       "  /* fitted */\n",
       "  background-color: var(--sklearn-color-fitted-level-2);\n",
       "}\n",
       "\n",
       "#sk-container-id-1 div.sk-label label.sk-toggleable__label,\n",
       "#sk-container-id-1 div.sk-label label {\n",
       "  /* The background is the default theme color */\n",
       "  color: var(--sklearn-color-text-on-default-background);\n",
       "}\n",
       "\n",
       "/* On hover, darken the color of the background */\n",
       "#sk-container-id-1 div.sk-label:hover label.sk-toggleable__label {\n",
       "  color: var(--sklearn-color-text);\n",
       "  background-color: var(--sklearn-color-unfitted-level-2);\n",
       "}\n",
       "\n",
       "/* Label box, darken color on hover, fitted */\n",
       "#sk-container-id-1 div.sk-label.fitted:hover label.sk-toggleable__label.fitted {\n",
       "  color: var(--sklearn-color-text);\n",
       "  background-color: var(--sklearn-color-fitted-level-2);\n",
       "}\n",
       "\n",
       "/* Estimator label */\n",
       "\n",
       "#sk-container-id-1 div.sk-label label {\n",
       "  font-family: monospace;\n",
       "  font-weight: bold;\n",
       "  display: inline-block;\n",
       "  line-height: 1.2em;\n",
       "}\n",
       "\n",
       "#sk-container-id-1 div.sk-label-container {\n",
       "  text-align: center;\n",
       "}\n",
       "\n",
       "/* Estimator-specific */\n",
       "#sk-container-id-1 div.sk-estimator {\n",
       "  font-family: monospace;\n",
       "  border: 1px dotted var(--sklearn-color-border-box);\n",
       "  border-radius: 0.25em;\n",
       "  box-sizing: border-box;\n",
       "  margin-bottom: 0.5em;\n",
       "  /* unfitted */\n",
       "  background-color: var(--sklearn-color-unfitted-level-0);\n",
       "}\n",
       "\n",
       "#sk-container-id-1 div.sk-estimator.fitted {\n",
       "  /* fitted */\n",
       "  background-color: var(--sklearn-color-fitted-level-0);\n",
       "}\n",
       "\n",
       "/* on hover */\n",
       "#sk-container-id-1 div.sk-estimator:hover {\n",
       "  /* unfitted */\n",
       "  background-color: var(--sklearn-color-unfitted-level-2);\n",
       "}\n",
       "\n",
       "#sk-container-id-1 div.sk-estimator.fitted:hover {\n",
       "  /* fitted */\n",
       "  background-color: var(--sklearn-color-fitted-level-2);\n",
       "}\n",
       "\n",
       "/* Specification for estimator info (e.g. \"i\" and \"?\") */\n",
       "\n",
       "/* Common style for \"i\" and \"?\" */\n",
       "\n",
       ".sk-estimator-doc-link,\n",
       "a:link.sk-estimator-doc-link,\n",
       "a:visited.sk-estimator-doc-link {\n",
       "  float: right;\n",
       "  font-size: smaller;\n",
       "  line-height: 1em;\n",
       "  font-family: monospace;\n",
       "  background-color: var(--sklearn-color-background);\n",
       "  border-radius: 1em;\n",
       "  height: 1em;\n",
       "  width: 1em;\n",
       "  text-decoration: none !important;\n",
       "  margin-left: 0.5em;\n",
       "  text-align: center;\n",
       "  /* unfitted */\n",
       "  border: var(--sklearn-color-unfitted-level-1) 1pt solid;\n",
       "  color: var(--sklearn-color-unfitted-level-1);\n",
       "}\n",
       "\n",
       ".sk-estimator-doc-link.fitted,\n",
       "a:link.sk-estimator-doc-link.fitted,\n",
       "a:visited.sk-estimator-doc-link.fitted {\n",
       "  /* fitted */\n",
       "  border: var(--sklearn-color-fitted-level-1) 1pt solid;\n",
       "  color: var(--sklearn-color-fitted-level-1);\n",
       "}\n",
       "\n",
       "/* On hover */\n",
       "div.sk-estimator:hover .sk-estimator-doc-link:hover,\n",
       ".sk-estimator-doc-link:hover,\n",
       "div.sk-label-container:hover .sk-estimator-doc-link:hover,\n",
       ".sk-estimator-doc-link:hover {\n",
       "  /* unfitted */\n",
       "  background-color: var(--sklearn-color-unfitted-level-3);\n",
       "  color: var(--sklearn-color-background);\n",
       "  text-decoration: none;\n",
       "}\n",
       "\n",
       "div.sk-estimator.fitted:hover .sk-estimator-doc-link.fitted:hover,\n",
       ".sk-estimator-doc-link.fitted:hover,\n",
       "div.sk-label-container:hover .sk-estimator-doc-link.fitted:hover,\n",
       ".sk-estimator-doc-link.fitted:hover {\n",
       "  /* fitted */\n",
       "  background-color: var(--sklearn-color-fitted-level-3);\n",
       "  color: var(--sklearn-color-background);\n",
       "  text-decoration: none;\n",
       "}\n",
       "\n",
       "/* Span, style for the box shown on hovering the info icon */\n",
       ".sk-estimator-doc-link span {\n",
       "  display: none;\n",
       "  z-index: 9999;\n",
       "  position: relative;\n",
       "  font-weight: normal;\n",
       "  right: .2ex;\n",
       "  padding: .5ex;\n",
       "  margin: .5ex;\n",
       "  width: min-content;\n",
       "  min-width: 20ex;\n",
       "  max-width: 50ex;\n",
       "  color: var(--sklearn-color-text);\n",
       "  box-shadow: 2pt 2pt 4pt #999;\n",
       "  /* unfitted */\n",
       "  background: var(--sklearn-color-unfitted-level-0);\n",
       "  border: .5pt solid var(--sklearn-color-unfitted-level-3);\n",
       "}\n",
       "\n",
       ".sk-estimator-doc-link.fitted span {\n",
       "  /* fitted */\n",
       "  background: var(--sklearn-color-fitted-level-0);\n",
       "  border: var(--sklearn-color-fitted-level-3);\n",
       "}\n",
       "\n",
       ".sk-estimator-doc-link:hover span {\n",
       "  display: block;\n",
       "}\n",
       "\n",
       "/* \"?\"-specific style due to the `<a>` HTML tag */\n",
       "\n",
       "#sk-container-id-1 a.estimator_doc_link {\n",
       "  float: right;\n",
       "  font-size: 1rem;\n",
       "  line-height: 1em;\n",
       "  font-family: monospace;\n",
       "  background-color: var(--sklearn-color-background);\n",
       "  border-radius: 1rem;\n",
       "  height: 1rem;\n",
       "  width: 1rem;\n",
       "  text-decoration: none;\n",
       "  /* unfitted */\n",
       "  color: var(--sklearn-color-unfitted-level-1);\n",
       "  border: var(--sklearn-color-unfitted-level-1) 1pt solid;\n",
       "}\n",
       "\n",
       "#sk-container-id-1 a.estimator_doc_link.fitted {\n",
       "  /* fitted */\n",
       "  border: var(--sklearn-color-fitted-level-1) 1pt solid;\n",
       "  color: var(--sklearn-color-fitted-level-1);\n",
       "}\n",
       "\n",
       "/* On hover */\n",
       "#sk-container-id-1 a.estimator_doc_link:hover {\n",
       "  /* unfitted */\n",
       "  background-color: var(--sklearn-color-unfitted-level-3);\n",
       "  color: var(--sklearn-color-background);\n",
       "  text-decoration: none;\n",
       "}\n",
       "\n",
       "#sk-container-id-1 a.estimator_doc_link.fitted:hover {\n",
       "  /* fitted */\n",
       "  background-color: var(--sklearn-color-fitted-level-3);\n",
       "}\n",
       "</style><div id=\"sk-container-id-1\" class=\"sk-top-container\"><div class=\"sk-text-repr-fallback\"><pre>LogisticRegression(max_iter=10000, random_state=45)</pre><b>In a Jupyter environment, please rerun this cell to show the HTML representation or trust the notebook. <br />On GitHub, the HTML representation is unable to render, please try loading this page with nbviewer.org.</b></div><div class=\"sk-container\" hidden><div class=\"sk-item\"><div class=\"sk-estimator fitted sk-toggleable\"><input class=\"sk-toggleable__control sk-hidden--visually\" id=\"sk-estimator-id-1\" type=\"checkbox\" checked><label for=\"sk-estimator-id-1\" class=\"sk-toggleable__label fitted sk-toggleable__label-arrow\"><div><div>LogisticRegression</div></div><div><a class=\"sk-estimator-doc-link fitted\" rel=\"noreferrer\" target=\"_blank\" href=\"https://scikit-learn.org/1.6/modules/generated/sklearn.linear_model.LogisticRegression.html\">?<span>Documentation for LogisticRegression</span></a><span class=\"sk-estimator-doc-link fitted\">i<span>Fitted</span></span></div></label><div class=\"sk-toggleable__content fitted\"><pre>LogisticRegression(max_iter=10000, random_state=45)</pre></div> </div></div></div></div>"
      ],
      "text/plain": [
       "LogisticRegression(max_iter=10000, random_state=45)"
      ]
     },
     "execution_count": 55,
     "metadata": {},
     "output_type": "execute_result"
    }
   ],
   "source": [
    "logreg = LogisticRegression(max_iter= 10000,random_state=45)\n",
    "logreg.fit(X_train, y_train)"
   ]
  },
  {
   "cell_type": "code",
   "execution_count": 56,
   "id": "d2ff0d23",
   "metadata": {},
   "outputs": [],
   "source": [
    "coeff = logreg.coef_[0]\n",
    "absolute_coeff = np.abs(coeff)\n",
    "\n",
    "logreg_coeff_df = pd.DataFrame(data={'features': features, 'coeffiecient value': coeff, 'Absolute Coeffiecient value': absolute_coeff}).sort_values(by= 'Absolute Coeffiecient value', ascending=False)\n"
   ]
  },
  {
   "cell_type": "markdown",
   "id": "066f33a8",
   "metadata": {},
   "source": [
    "#### (5.2.3) Visualize feature importance using a bar chart\n"
   ]
  },
  {
   "cell_type": "code",
   "execution_count": 57,
   "id": "34c70e9f",
   "metadata": {},
   "outputs": [
    {
     "data": {
      "image/png": "[encoded data removed]",
      "text/plain": [
       "<Figure size 1600x1000 with 1 Axes>"
      ]
     },
     "metadata": {},
     "output_type": "display_data"
    }
   ],
   "source": [
    "plt.figure(figsize=(16,10))\n",
    "logreg_coeff_df_top10 = logreg_coeff_df.iloc[:10]\n",
    "logreg_coeff_chart = sns.barplot(x= logreg_coeff_df_top10['features'],y=logreg_coeff_df_top10['Absolute Coeffiecient value'] ,data=logreg_coeff_df_top10, hue='features', palette='bright')\n",
    "\n",
    "plt.title('Feature vs. Absolute coefficient barplot of Logistic Regression Model')\n",
    "\n",
    "for i in range(len(logreg_coeff_df_top10)):\n",
    "    logreg_coeff_chart.bar_label(logreg_coeff_chart.containers[i])\n",
    "\n",
    "plt.show()"
   ]
  },
  {
   "cell_type": "code",
   "execution_count": 58,
   "id": "880cb849",
   "metadata": {},
   "outputs": [
    {
     "data": {
      "image/png": "[encoded data removed]",
      "text/plain": [
       "<Figure size 1600x1000 with 1 Axes>"
      ]
     },
     "metadata": {},
     "output_type": "display_data"
    }
   ],
   "source": [
    "plt.figure(figsize=(16,10))\n",
    "features_important_top_10 = features_importance_df.iloc[:10]\n",
    "feature_importance_chart = sns.barplot(x= features_important_top_10['features'],y=features_important_top_10['importance'] ,data=features_important_top_10, hue='features', palette='bright')\n",
    "plt.title('Feature vs. Importance chart extracted from Random Forest Classifier model')\n",
    "\n",
    "for i in range(len(features_important_top_10)):\n",
    "    feature_importance_chart.bar_label(feature_importance_chart.containers[i])\n",
    "\n",
    "plt.show()"
   ]
  },
  {
   "cell_type": "markdown",
   "id": "c494cc9a",
   "metadata": {},
   "source": [
    "## Step 6: Model Training & Evaluation"
   ]
  },
  {
   "cell_type": "markdown",
   "id": "45fae58e",
   "metadata": {},
   "source": [
    "### 6.1 Model Selection & Training"
   ]
  },
  {
   "cell_type": "markdown",
   "id": "67e86382",
   "metadata": {},
   "source": [
    "#### (6.1.1) Split the dataset into training and test sets (70-30 split)"
   ]
  },
  {
   "cell_type": "markdown",
   "id": "429620eb",
   "metadata": {},
   "source": [
    "##### FOR BALANCED"
   ]
  },
  {
   "cell_type": "code",
   "execution_count": 59,
   "id": "12cda74a",
   "metadata": {},
   "outputs": [],
   "source": [
    "#Splitting the data into test/train split at 70/30 ratio\n",
    "X= panic_cleaned.drop('Panic Disorder Diagnosis', axis=1)\n",
    "y= panic_cleaned['Panic Disorder Diagnosis']\n",
    "\n",
    "X_train, X_test, y_train, y_test = train_test_split(X, y, test_size=0.3, random_state=45)"
   ]
  },
  {
   "cell_type": "markdown",
   "id": "522d01ec",
   "metadata": {},
   "source": [
    "##### FOR UNBALANCED"
   ]
  },
  {
   "cell_type": "code",
   "execution_count": 60,
   "id": "13a0bf0d",
   "metadata": {},
   "outputs": [],
   "source": [
    "#Splitting the data into test/train split at 70/30 ratio\n",
    "X_ub= panic_cleaned_unbalanced.drop('Panic Disorder Diagnosis', axis=1)\n",
    "y_ub= panic_cleaned_unbalanced['Panic Disorder Diagnosis']\n",
    "\n",
    "X_train_ub, X_test_ub, y_train_ub, y_test_ub = train_test_split(X_ub, y_ub, test_size=0.3, random_state=45)"
   ]
  },
  {
   "cell_type": "markdown",
   "id": "b06f9035",
   "metadata": {},
   "source": [
    "#### (6.1.2) Train at least three different classification models"
   ]
  },
  {
   "cell_type": "markdown",
   "id": "4efd3c02",
   "metadata": {},
   "source": [
    "##### Training on on balanced data"
   ]
  },
  {
   "cell_type": "markdown",
   "id": "09d809d5",
   "metadata": {},
   "source": [
    "###### Training logistic regression model to predict value of Panic Order Diagnosis on balanced data\n"
   ]
  },
  {
   "cell_type": "code",
   "execution_count": 61,
   "id": "c946b9c0",
   "metadata": {},
   "outputs": [],
   "source": [
    "logreg= LogisticRegression(max_iter= 10000, random_state=45)\n",
    "logreg_model = logreg.fit(X_train, y_train)\n",
    "\n",
    "y_predict = logreg_model.predict(X_test)\n",
    "y_probability = logreg.predict_proba(X_test)[:, 1]"
   ]
  },
  {
   "cell_type": "markdown",
   "id": "c7be7c74",
   "metadata": {},
   "source": [
    "###### Training a Random Forest classifier model"
   ]
  },
  {
   "cell_type": "code",
   "execution_count": 62,
   "id": "2ff497e0",
   "metadata": {},
   "outputs": [],
   "source": [
    "rf = RandomForestClassifier(n_estimators=100, random_state=45)\n",
    "rf_model = rf.fit(X_train, y_train)\n",
    "\n",
    "y_predict_rf = rf_model.predict(X_test)\n",
    "y_probability_rf = rf.predict_proba(X_test)[:, 1]"
   ]
  },
  {
   "cell_type": "markdown",
   "id": "e3a2a05b",
   "metadata": {},
   "source": [
    "###### Training a Support Vector Machine model"
   ]
  },
  {
   "cell_type": "code",
   "execution_count": 63,
   "id": "fdf2e3c1",
   "metadata": {},
   "outputs": [],
   "source": [
    "svm = SVC(probability=True, random_state=45)\n",
    "svm_model = svm.fit(X_train, y_train)\n",
    "\n",
    "y_predict_svm = svm.predict(X_test)\n",
    "y_probability_svm = svm.predict_proba(X_test)[:, 1]"
   ]
  },
  {
   "cell_type": "markdown",
   "id": "aa48152d",
   "metadata": {},
   "source": [
    "##### Training UNBALANCED data\n"
   ]
  },
  {
   "cell_type": "code",
   "execution_count": 64,
   "id": "0ff0b7dc",
   "metadata": {},
   "outputs": [],
   "source": [
    "\n",
    "logreg_ub = LogisticRegression(max_iter=10000, random_state=45)\n",
    "logreg_ub.fit(X_train_ub, y_train_ub)\n",
    "\n",
    "y_pred_logreg_ub = logreg_ub.predict(X_test_ub)\n",
    "y_proba_logreg_ub = logreg_ub.predict_proba(X_test_ub)[:, 1]"
   ]
  },
  {
   "cell_type": "code",
   "execution_count": 65,
   "id": "a0f69fca",
   "metadata": {},
   "outputs": [],
   "source": [
    "\n",
    "rf_ub = RandomForestClassifier(n_estimators=100, random_state=45)\n",
    "rf_ub.fit(X_train_ub, y_train_ub)\n",
    "\n",
    "y_pred_rf_ub = rf_ub.predict(X_test_ub)\n",
    "y_proba_rf_ub = rf_ub.predict_proba(X_test_ub)[:, 1]"
   ]
  },
  {
   "cell_type": "code",
   "execution_count": 66,
   "id": "0d66d724",
   "metadata": {},
   "outputs": [],
   "source": [
    "\n",
    "svm_ub = SVC( probability=True,random_state=45)\n",
    "svm_ub.fit(X_train_ub, y_train_ub)\n",
    "\n",
    "y_pred_svm_ub = svm_ub.predict(X_test_ub)\n",
    "y_proba_svm_ub = svm_ub.predict_proba(X_test_ub)[:, 1]"
   ]
  },
  {
   "cell_type": "markdown",
   "id": "5a21a09b",
   "metadata": {},
   "source": [
    "#### (6.1.3) Use cross-validation to tune hyperparameters\n"
   ]
  },
  {
   "cell_type": "markdown",
   "id": "163b1363",
   "metadata": {},
   "source": [
    "##### For Linear regression model"
   ]
  },
  {
   "cell_type": "code",
   "execution_count": 67,
   "id": "e7bbd305",
   "metadata": {},
   "outputs": [
    {
     "data": {
      "text/plain": [
       "'from sklearn.model_selection import GridSearchCV\\n\\nparam_grid_logreg = {\\n    \\'C\\': [0.01, 0.1, 1, 10],\\n    \\'penalty\\': [\\'l2\\'],\\n    \\'solver\\': [\\'lbfgs\\', \\'liblinear\\']\\n}\\n\\nlogreg = LogisticRegression(class_weight=\\'balanced\\', max_iter=10000, random_state=42)\\ngrid_logreg = GridSearchCV(logreg, param_grid_logreg, cv=5, scoring=\\'f1\\', n_jobs=-1)\\ngrid_logreg.fit(X_train, y_train)\\n\\nprint(\"Best Logistic Regression params:\", grid_logreg.best_params_)\\nprint(\"Best Logistic Regression CV F1:\", grid_logreg.best_score_)'"
      ]
     },
     "execution_count": 67,
     "metadata": {},
     "output_type": "execute_result"
    }
   ],
   "source": [
    "\"\"\"from sklearn.model_selection import GridSearchCV\n",
    "\n",
    "param_grid_logreg = {\n",
    "    'C': [0.01, 0.1, 1, 10],\n",
    "    'penalty': ['l2'],\n",
    "    'solver': ['lbfgs', 'liblinear']\n",
    "}\n",
    "\n",
    "logreg = LogisticRegression(class_weight='balanced', max_iter=10000, random_state=42)\n",
    "grid_logreg = GridSearchCV(logreg, param_grid_logreg, cv=5, scoring='f1', n_jobs=-1)\n",
    "grid_logreg.fit(X_train, y_train)\n",
    "\n",
    "print(\"Best Logistic Regression params:\", grid_logreg.best_params_)\n",
    "print(\"Best Logistic Regression CV F1:\", grid_logreg.best_score_)\"\"\""
   ]
  },
  {
   "cell_type": "markdown",
   "id": "4847dfa6",
   "metadata": {},
   "source": [
    "##### For random forest classifier"
   ]
  },
  {
   "cell_type": "code",
   "execution_count": 68,
   "id": "5f4a028b",
   "metadata": {},
   "outputs": [
    {
     "data": {
      "text/plain": [
       "'param_grid_rf = {\\n    \\'n_estimators\\': [100, 200],\\n    \\'max_depth\\': [None, 10, 20],\\n    \\'min_samples_split\\': [2, 5],\\n    \\'min_samples_leaf\\': [1, 2],\\n    \\'class_weight\\': [\\'balanced\\']\\n}\\n\\nrf = RandomForestClassifier(random_state=42)\\ngrid_rf = GridSearchCV(rf, param_grid_rf, cv=5, scoring=\\'f1\\', n_jobs=-1)\\ngrid_rf.fit(X_train, y_train)\\n\\nprint(\"Best Random Forest params:\", grid_rf.best_params_)\\nprint(\"Best Random Forest CV F1:\", grid_rf.best_score_)'"
      ]
     },
     "execution_count": 68,
     "metadata": {},
     "output_type": "execute_result"
    }
   ],
   "source": [
    "\"\"\"param_grid_rf = {\n",
    "    'n_estimators': [100, 200],\n",
    "    'max_depth': [None, 10, 20],\n",
    "    'min_samples_split': [2, 5],\n",
    "    'min_samples_leaf': [1, 2],\n",
    "    'class_weight': ['balanced']\n",
    "}\n",
    "\n",
    "rf = RandomForestClassifier(random_state=42)\n",
    "grid_rf = GridSearchCV(rf, param_grid_rf, cv=5, scoring='f1', n_jobs=-1)\n",
    "grid_rf.fit(X_train, y_train)\n",
    "\n",
    "print(\"Best Random Forest params:\", grid_rf.best_params_)\n",
    "print(\"Best Random Forest CV F1:\", grid_rf.best_score_)\"\"\""
   ]
  },
  {
   "cell_type": "markdown",
   "id": "3364e9e6",
   "metadata": {},
   "source": [
    "##### For SVM model"
   ]
  },
  {
   "cell_type": "code",
   "execution_count": 69,
   "id": "e2cd674c",
   "metadata": {},
   "outputs": [
    {
     "data": {
      "text/plain": [
       "'param_grid_svm = {\\n    \\'C\\': [0.1, 1, 10],\\n    \\'kernel\\': [\\'linear\\', \\'rbf\\'],\\n    \\'gamma\\': [\\'scale\\', \\'auto\\'],\\n    \\'class_weight\\': [\\'balanced\\']\\n}\\n\\nsvm = SVC(probability=True, random_state=42)\\ngrid_svm = GridSearchCV(svm, param_grid_svm, cv=5, scoring=\\'f1\\', n_jobs=-1)\\ngrid_svm.fit(X_train, y_train)\\n\\nprint(\"Best SVM params:\", grid_svm.best_params_)\\nprint(\"Best SVM CV F1:\", grid_svm.best_score_)'"
      ]
     },
     "execution_count": 69,
     "metadata": {},
     "output_type": "execute_result"
    }
   ],
   "source": [
    "\"\"\"param_grid_svm = {\n",
    "    'C': [0.1, 1, 10],\n",
    "    'kernel': ['linear', 'rbf'],\n",
    "    'gamma': ['scale', 'auto'],\n",
    "    'class_weight': ['balanced']\n",
    "}\n",
    "\n",
    "svm = SVC(probability=True, random_state=42)\n",
    "grid_svm = GridSearchCV(svm, param_grid_svm, cv=5, scoring='f1', n_jobs=-1)\n",
    "grid_svm.fit(X_train, y_train)\n",
    "\n",
    "print(\"Best SVM params:\", grid_svm.best_params_)\n",
    "print(\"Best SVM CV F1:\", grid_svm.best_score_)\"\"\""
   ]
  },
  {
   "cell_type": "markdown",
   "id": "0ba4aaeb",
   "metadata": {},
   "source": [
    "### 6.2 Model Evaluation & Comparison"
   ]
  },
  {
   "cell_type": "markdown",
   "id": "4920ee8a",
   "metadata": {},
   "source": [
    "#### (6.2.1) Compute evaluation metrics: Accuracy, Precision, Recall, F1-score, ROC Curve & AUC Score"
   ]
  },
  {
   "cell_type": "markdown",
   "id": "e4caafb6",
   "metadata": {},
   "source": [
    "##### FOR BALANCED DATA"
   ]
  },
  {
   "cell_type": "code",
   "execution_count": 70,
   "id": "3ebca641",
   "metadata": {},
   "outputs": [
    {
     "data": {
      "text/html": [
       "<div>\n",
       "<style scoped>\n",
       "    .dataframe tbody tr th:only-of-type {\n",
       "        vertical-align: middle;\n",
       "    }\n",
       "\n",
       "    .dataframe tbody tr th {\n",
       "        vertical-align: top;\n",
       "    }\n",
       "\n",
       "    .dataframe thead th {\n",
       "        text-align: right;\n",
       "    }\n",
       "</style>\n",
       "<table border=\"1\" class=\"dataframe\">\n",
       "  <thead>\n",
       "    <tr style=\"text-align: right;\">\n",
       "      <th></th>\n",
       "      <th>Accuracy</th>\n",
       "      <th>Precision</th>\n",
       "      <th>Recall</th>\n",
       "      <th>F1 Score</th>\n",
       "      <th>ROC AUC</th>\n",
       "    </tr>\n",
       "  </thead>\n",
       "  <tbody>\n",
       "    <tr>\n",
       "      <th>Logistic Regression model</th>\n",
       "      <td>0.954947</td>\n",
       "      <td>0.492727</td>\n",
       "      <td>0.200890</td>\n",
       "      <td>0.285413</td>\n",
       "      <td>0.965031</td>\n",
       "    </tr>\n",
       "    <tr>\n",
       "      <th>Random forest classifier model</th>\n",
       "      <td>0.955013</td>\n",
       "      <td>0.497110</td>\n",
       "      <td>0.382506</td>\n",
       "      <td>0.432342</td>\n",
       "      <td>0.971912</td>\n",
       "    </tr>\n",
       "    <tr>\n",
       "      <th>Support Vector Machine Model</th>\n",
       "      <td>0.959728</td>\n",
       "      <td>0.571429</td>\n",
       "      <td>0.403262</td>\n",
       "      <td>0.472838</td>\n",
       "      <td>0.972516</td>\n",
       "    </tr>\n",
       "  </tbody>\n",
       "</table>\n",
       "</div>"
      ],
      "text/plain": [
       "                                Accuracy  Precision    Recall  F1 Score  \\\n",
       "Logistic Regression model       0.954947   0.492727  0.200890  0.285413   \n",
       "Random forest classifier model  0.955013   0.497110  0.382506  0.432342   \n",
       "Support Vector Machine Model    0.959728   0.571429  0.403262  0.472838   \n",
       "\n",
       "                                 ROC AUC  \n",
       "Logistic Regression model       0.965031  \n",
       "Random forest classifier model  0.971912  \n",
       "Support Vector Machine Model    0.972516  "
      ]
     },
     "execution_count": 70,
     "metadata": {},
     "output_type": "execute_result"
    }
   ],
   "source": [
    "\n",
    "accuracy_scores = [accuracy_score(y_test, y_predict), accuracy_score(y_test, y_predict_rf), accuracy_score(y_test, y_predict_svm)]\n",
    "precision_scores = [precision_score(y_test, y_predict), precision_score(y_test, y_predict_rf), precision_score(y_test, y_predict_svm) ]\n",
    "recall_scores = [recall_score(y_test, y_predict),recall_score(y_test, y_predict_rf), recall_score(y_test, y_predict_svm) ]\n",
    "f1_scores = [f1_score(y_test, y_predict), f1_score(y_test, y_predict_rf), f1_score(y_test, y_predict_svm)]\n",
    "roc_auc_scores = [roc_auc_score(y_test, y_probability), roc_auc_score(y_test, y_probability_rf), roc_auc_score(y_test, y_probability_svm) ]\n",
    "\n",
    "model_names = ['Logistic Regression model', 'Random forest classifier model', 'Support Vector Machine Model']\n",
    "\n",
    "classification_report_balanced_df = pd.DataFrame(data={ \n",
    "    'Accuracy': accuracy_scores,\n",
    "    'Precision': precision_scores,\n",
    "    'Recall': recall_scores,\n",
    "    'F1 Score': f1_scores,\n",
    "    'ROC AUC': roc_auc_scores \n",
    "}, index= model_names)\n",
    "\n",
    "classification_report_balanced_df\n"
   ]
  },
  {
   "cell_type": "markdown",
   "id": "8c35d356",
   "metadata": {},
   "source": [
    "##### FOR UNBALANCED\n"
   ]
  },
  {
   "cell_type": "code",
   "execution_count": 71,
   "id": "7d2fa0d0",
   "metadata": {},
   "outputs": [
    {
     "data": {
      "text/html": [
       "<div>\n",
       "<style scoped>\n",
       "    .dataframe tbody tr th:only-of-type {\n",
       "        vertical-align: middle;\n",
       "    }\n",
       "\n",
       "    .dataframe tbody tr th {\n",
       "        vertical-align: top;\n",
       "    }\n",
       "\n",
       "    .dataframe thead th {\n",
       "        text-align: right;\n",
       "    }\n",
       "</style>\n",
       "<table border=\"1\" class=\"dataframe\">\n",
       "  <thead>\n",
       "    <tr style=\"text-align: right;\">\n",
       "      <th></th>\n",
       "      <th>Accuracy</th>\n",
       "      <th>Precision</th>\n",
       "      <th>Recall</th>\n",
       "      <th>F1 Score</th>\n",
       "      <th>ROC AUC</th>\n",
       "    </tr>\n",
       "  </thead>\n",
       "  <tbody>\n",
       "    <tr>\n",
       "      <th>Logistic Regression (Unbalanced)</th>\n",
       "      <td>0.954947</td>\n",
       "      <td>0.492727</td>\n",
       "      <td>0.200890</td>\n",
       "      <td>0.285413</td>\n",
       "      <td>0.965031</td>\n",
       "    </tr>\n",
       "    <tr>\n",
       "      <th>Random Forest (Unbalanced)</th>\n",
       "      <td>0.955013</td>\n",
       "      <td>0.497110</td>\n",
       "      <td>0.382506</td>\n",
       "      <td>0.432342</td>\n",
       "      <td>0.971912</td>\n",
       "    </tr>\n",
       "    <tr>\n",
       "      <th>Support Vector Machine (Unbalanced)</th>\n",
       "      <td>0.959728</td>\n",
       "      <td>0.571429</td>\n",
       "      <td>0.403262</td>\n",
       "      <td>0.472838</td>\n",
       "      <td>0.972516</td>\n",
       "    </tr>\n",
       "  </tbody>\n",
       "</table>\n",
       "</div>"
      ],
      "text/plain": [
       "                                     Accuracy  Precision    Recall  F1 Score  \\\n",
       "Logistic Regression (Unbalanced)     0.954947   0.492727  0.200890  0.285413   \n",
       "Random Forest (Unbalanced)           0.955013   0.497110  0.382506  0.432342   \n",
       "Support Vector Machine (Unbalanced)  0.959728   0.571429  0.403262  0.472838   \n",
       "\n",
       "                                      ROC AUC  \n",
       "Logistic Regression (Unbalanced)     0.965031  \n",
       "Random Forest (Unbalanced)           0.971912  \n",
       "Support Vector Machine (Unbalanced)  0.972516  "
      ]
     },
     "execution_count": 71,
     "metadata": {},
     "output_type": "execute_result"
    }
   ],
   "source": [
    "accuracy_scores_ub = [\n",
    "    accuracy_score(y_test_ub, y_pred_logreg_ub),\n",
    "    accuracy_score(y_test_ub, y_pred_rf_ub),\n",
    "    accuracy_score(y_test_ub, y_pred_svm_ub)\n",
    "]\n",
    "\n",
    "precision_scores_ub = [\n",
    "    precision_score(y_test_ub, y_pred_logreg_ub),\n",
    "    precision_score(y_test_ub, y_pred_rf_ub),\n",
    "    precision_score(y_test_ub, y_pred_svm_ub)\n",
    "]\n",
    "\n",
    "recall_scores_ub = [\n",
    "    recall_score(y_test_ub, y_pred_logreg_ub),\n",
    "    recall_score(y_test_ub, y_pred_rf_ub),\n",
    "    recall_score(y_test_ub, y_pred_svm_ub)\n",
    "]\n",
    "\n",
    "f1_scores_ub = [\n",
    "    f1_score(y_test_ub, y_pred_logreg_ub),\n",
    "    f1_score(y_test_ub, y_pred_rf_ub),\n",
    "    f1_score(y_test_ub, y_pred_svm_ub)\n",
    "]\n",
    "\n",
    "roc_auc_scores_ub = [\n",
    "    roc_auc_score(y_test_ub, y_proba_logreg_ub),\n",
    "    roc_auc_score(y_test_ub, y_proba_rf_ub),\n",
    "    roc_auc_score(y_test_ub, y_proba_svm_ub)\n",
    "]\n",
    "\n",
    "model_names_ub = [\n",
    "    \"Logistic Regression (Unbalanced)\",\n",
    "    \"Random Forest (Unbalanced)\",\n",
    "    \"Support Vector Machine (Unbalanced)\"\n",
    "]\n",
    "\n",
    "# Create the DataFrame\n",
    "classification_report_UNbalanced_df = pd.DataFrame({\n",
    "    'Accuracy': accuracy_scores_ub,\n",
    "    'Precision': precision_scores_ub,\n",
    "    'Recall': recall_scores_ub,\n",
    "    'F1 Score': f1_scores_ub,\n",
    "    'ROC AUC': roc_auc_scores_ub\n",
    "}, index=model_names_ub)\n",
    "\n",
    "classification_report_UNbalanced_df"
   ]
  },
  {
   "cell_type": "markdown",
   "id": "3eb38b80",
   "metadata": {},
   "source": [
    "#### (6.2.2) Compare all models before and after handling class imbalance"
   ]
  },
  {
   "cell_type": "code",
   "execution_count": null,
   "id": "2dd016b9",
   "metadata": {},
   "outputs": [
    {
     "data": {
      "text/html": [
       "<div>\n",
       "<style scoped>\n",
       "    .dataframe tbody tr th:only-of-type {\n",
       "        vertical-align: middle;\n",
       "    }\n",
       "\n",
       "    .dataframe tbody tr th {\n",
       "        vertical-align: top;\n",
       "    }\n",
       "\n",
       "    .dataframe thead th {\n",
       "        text-align: right;\n",
       "    }\n",
       "</style>\n",
       "<table border=\"1\" class=\"dataframe\">\n",
       "  <thead>\n",
       "    <tr style=\"text-align: right;\">\n",
       "      <th></th>\n",
       "      <th>Accuracy</th>\n",
       "      <th>Precision</th>\n",
       "      <th>Recall</th>\n",
       "      <th>F1 Score</th>\n",
       "      <th>ROC AUC</th>\n",
       "    </tr>\n",
       "  </thead>\n",
       "  <tbody>\n",
       "    <tr>\n",
       "      <th>Logistic Regression model</th>\n",
       "      <td>0.954947</td>\n",
       "      <td>0.492727</td>\n",
       "      <td>0.200890</td>\n",
       "      <td>0.285413</td>\n",
       "      <td>0.965031</td>\n",
       "    </tr>\n",
       "    <tr>\n",
       "      <th>Random forest classifier model</th>\n",
       "      <td>0.955013</td>\n",
       "      <td>0.497110</td>\n",
       "      <td>0.382506</td>\n",
       "      <td>0.432342</td>\n",
       "      <td>0.971912</td>\n",
       "    </tr>\n",
       "    <tr>\n",
       "      <th>Support Vector Machine Model</th>\n",
       "      <td>0.959728</td>\n",
       "      <td>0.571429</td>\n",
       "      <td>0.403262</td>\n",
       "      <td>0.472838</td>\n",
       "      <td>0.972516</td>\n",
       "    </tr>\n",
       "    <tr>\n",
       "      <th>Logistic Regression (Unbalanced)</th>\n",
       "      <td>0.954947</td>\n",
       "      <td>0.492727</td>\n",
       "      <td>0.200890</td>\n",
       "      <td>0.285413</td>\n",
       "      <td>0.965031</td>\n",
       "    </tr>\n",
       "    <tr>\n",
       "      <th>Random Forest (Unbalanced)</th>\n",
       "      <td>0.955013</td>\n",
       "      <td>0.497110</td>\n",
       "      <td>0.382506</td>\n",
       "      <td>0.432342</td>\n",
       "      <td>0.971912</td>\n",
       "    </tr>\n",
       "    <tr>\n",
       "      <th>Support Vector Machine (Unbalanced)</th>\n",
       "      <td>0.959728</td>\n",
       "      <td>0.571429</td>\n",
       "      <td>0.403262</td>\n",
       "      <td>0.472838</td>\n",
       "      <td>0.972516</td>\n",
       "    </tr>\n",
       "  </tbody>\n",
       "</table>\n",
       "</div>"
      ],
      "text/plain": [
       "                                     Accuracy  Precision    Recall  F1 Score  \\\n",
       "Logistic Regression model            0.954947   0.492727  0.200890  0.285413   \n",
       "Random forest classifier model       0.955013   0.497110  0.382506  0.432342   \n",
       "Support Vector Machine Model         0.959728   0.571429  0.403262  0.472838   \n",
       "Logistic Regression (Unbalanced)     0.954947   0.492727  0.200890  0.285413   \n",
       "Random Forest (Unbalanced)           0.955013   0.497110  0.382506  0.432342   \n",
       "Support Vector Machine (Unbalanced)  0.959728   0.571429  0.403262  0.472838   \n",
       "\n",
       "                                      ROC AUC  \n",
       "Logistic Regression model            0.965031  \n",
       "Random forest classifier model       0.971912  \n",
       "Support Vector Machine Model         0.972516  \n",
       "Logistic Regression (Unbalanced)     0.965031  \n",
       "Random Forest (Unbalanced)           0.971912  \n",
       "Support Vector Machine (Unbalanced)  0.972516  "
      ]
     },
     "execution_count": 72,
     "metadata": {},
     "output_type": "execute_result"
    }
   ],
   "source": [
    "comparison_df = pd.concat([classification_report_balanced_df,classification_report_UNbalanced_df], axis= 0)\n",
    "comparison_df"
   ]
  },
  {
   "cell_type": "markdown",
   "id": "6add729e",
   "metadata": {},
   "source": [
    "#### (6.2.3) Visualize and compare results of different models using bar plots "
   ]
  },
  {
   "cell_type": "code",
   "execution_count": 73,
   "id": "935e90e9",
   "metadata": {},
   "outputs": [
    {
     "data": {
      "image/png": "[encoded data removed]",
      "text/plain": [
       "<Figure size 1200x600 with 1 Axes>"
      ]
     },
     "metadata": {},
     "output_type": "display_data"
    }
   ],
   "source": [
    "\n",
    "results_long = classification_report_balanced_df.reset_index().melt(id_vars='index', var_name='Metric', value_name='Score')\n",
    "results_long = results_long.rename(columns={'index': 'Model'})\n",
    "\n",
    "plt.figure(figsize=(12, 6))\n",
    "sns.barplot(data=results_long, x='Model', y='Score', hue='Metric')\n",
    "plt.title('Untuned Model Evaluation Metrics for balanced data')\n",
    "plt.ylabel('Score')\n",
    "plt.xlabel('Model')\n",
    "plt.ylim(0, 1)\n",
    "plt.legend(title='Metric', loc='lower right')\n",
    "plt.tight_layout()\n",
    "plt.show()"
   ]
  },
  {
   "cell_type": "code",
   "execution_count": 74,
   "id": "95b309cf",
   "metadata": {},
   "outputs": [
    {
     "data": {
      "image/png": "[encoded data removed]",
      "text/plain": [
       "<Figure size 1200x600 with 1 Axes>"
      ]
     },
     "metadata": {},
     "output_type": "display_data"
    }
   ],
   "source": [
    "results_long = classification_report_UNbalanced_df.reset_index().melt(id_vars='index', var_name='Metric', value_name='Score')\n",
    "results_long = results_long.rename(columns={'index': 'Model'})\n",
    "\n",
    "plt.figure(figsize=(12, 6))\n",
    "sns.barplot(data=results_long, x='Model', y='Score', hue='Metric')\n",
    "plt.title('Untuned Model Evaluation Metrics for unbalanced data')\n",
    "plt.ylabel('Score')\n",
    "plt.xlabel('Model')\n",
    "plt.ylim(0, 1)\n",
    "plt.legend(title='Metric', loc='lower right')\n",
    "plt.tight_layout()\n",
    "plt.show()"
   ]
  },
  {
   "cell_type": "markdown",
   "id": "238bf3b5",
   "metadata": {},
   "source": [
    "## Step 7: Ethical Considerations"
   ]
  },
  {
   "cell_type": "markdown",
   "id": "0de8616f",
   "metadata": {},
   "source": [
    "### (7.1) Discuss bias and fairness in mental health predictions."
   ]
  },
  {
   "cell_type": "markdown",
   "id": "5b528693",
   "metadata": {},
   "source": [
    "The inheritance and amplification of bias in AI models used for mental health predecitions is a real and serious issue. Due to underrepresentation of certain genders, ethnicities, or age groups in already collected training data, a model trained on the biased data will be inaccurate as it alienates a large population of people that have in fact shown high rates of mental health issues. This can result in unequal access to care and more often misdiagnosis, both of which can prove to be fatal. In order to ensure that fairness is maintained, there has to be an active effort by researchers to collect more data from underrepresented classes and also acknowledge the bias that exists in legacy data. Education is the most key step when it comes to eliminating bias in data, the more people are aware of this phenomenon, the higher the chance that it is caught..."
   ]
  },
  {
   "cell_type": "markdown",
   "id": "89f7c645",
   "metadata": {},
   "source": [
    "### (7.2) Explain potential ethical concerns when using AI for mental health assessments"
   ]
  },
  {
   "cell_type": "markdown",
   "id": "e7cb8f45",
   "metadata": {},
   "source": [
    "Using AI for mental health assessment raises valid ethical concerns. As mental health data is highly sensitive, patient privacy and data security must be priority above all else. There is also a risk of overreliance on automated decisions, which may lack the nuance and empathy of human clinicians and also amplify biases as discussed in the previous question. Inaccurate predictions could lead to stigma or inappropriate treatment. Therefore, AI tools should be in supplement to and not replace, clinical judgment, and their use must be guided by ethical and fair use...."
   ]
  }
 ],
 "metadata": {
  "kernelspec": {
   "display_name": ".venv",
   "language": "python",
   "name": "python3"
  },
  "language_info": {
   "codemirror_mode": {
    "name": "ipython",
    "version": 3
   },
   "file_extension": ".py",
   "mimetype": "text/x-python",
   "name": "python",
   "nbconvert_exporter": "python",
   "pygments_lexer": "ipython3",
   "version": "3.12.4"
  }
 },
 "nbformat": 4,
 "nbformat_minor": 5
}
