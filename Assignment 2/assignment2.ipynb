{
 "cells": [
  {
   "cell_type": "code",
   "execution_count": 24,
   "metadata": {},
   "outputs": [],
   "source": [
    "import pandas as pd\n",
    "import numpy as np\n",
    "import matplotlib.pyplot as plt"
   ]
  },
  {
   "cell_type": "code",
   "execution_count": 5,
   "metadata": {},
   "outputs": [
    {
     "data": {
      "text/html": [
       "<div>\n",
       "<style scoped>\n",
       "    .dataframe tbody tr th:only-of-type {\n",
       "        vertical-align: middle;\n",
       "    }\n",
       "\n",
       "    .dataframe tbody tr th {\n",
       "        vertical-align: top;\n",
       "    }\n",
       "\n",
       "    .dataframe thead th {\n",
       "        text-align: right;\n",
       "    }\n",
       "</style>\n",
       "<table border=\"1\" class=\"dataframe\">\n",
       "  <thead>\n",
       "    <tr style=\"text-align: right;\">\n",
       "      <th></th>\n",
       "      <th>Age</th>\n",
       "      <th>Fat%</th>\n",
       "    </tr>\n",
       "  </thead>\n",
       "  <tbody>\n",
       "    <tr>\n",
       "      <th>0</th>\n",
       "      <td>23</td>\n",
       "      <td>9.5</td>\n",
       "    </tr>\n",
       "    <tr>\n",
       "      <th>1</th>\n",
       "      <td>23</td>\n",
       "      <td>26.5</td>\n",
       "    </tr>\n",
       "    <tr>\n",
       "      <th>2</th>\n",
       "      <td>27</td>\n",
       "      <td>7.8</td>\n",
       "    </tr>\n",
       "    <tr>\n",
       "      <th>3</th>\n",
       "      <td>27</td>\n",
       "      <td>17.8</td>\n",
       "    </tr>\n",
       "    <tr>\n",
       "      <th>4</th>\n",
       "      <td>39</td>\n",
       "      <td>31.4</td>\n",
       "    </tr>\n",
       "    <tr>\n",
       "      <th>5</th>\n",
       "      <td>41</td>\n",
       "      <td>25.9</td>\n",
       "    </tr>\n",
       "    <tr>\n",
       "      <th>6</th>\n",
       "      <td>47</td>\n",
       "      <td>27.4</td>\n",
       "    </tr>\n",
       "    <tr>\n",
       "      <th>7</th>\n",
       "      <td>49</td>\n",
       "      <td>27.2</td>\n",
       "    </tr>\n",
       "    <tr>\n",
       "      <th>8</th>\n",
       "      <td>50</td>\n",
       "      <td>31.2</td>\n",
       "    </tr>\n",
       "    <tr>\n",
       "      <th>9</th>\n",
       "      <td>52</td>\n",
       "      <td>34.6</td>\n",
       "    </tr>\n",
       "    <tr>\n",
       "      <th>10</th>\n",
       "      <td>54</td>\n",
       "      <td>42.5</td>\n",
       "    </tr>\n",
       "    <tr>\n",
       "      <th>11</th>\n",
       "      <td>54</td>\n",
       "      <td>28.8</td>\n",
       "    </tr>\n",
       "    <tr>\n",
       "      <th>12</th>\n",
       "      <td>56</td>\n",
       "      <td>33.4</td>\n",
       "    </tr>\n",
       "    <tr>\n",
       "      <th>13</th>\n",
       "      <td>57</td>\n",
       "      <td>30.2</td>\n",
       "    </tr>\n",
       "    <tr>\n",
       "      <th>14</th>\n",
       "      <td>58</td>\n",
       "      <td>34.1</td>\n",
       "    </tr>\n",
       "    <tr>\n",
       "      <th>15</th>\n",
       "      <td>58</td>\n",
       "      <td>32.9</td>\n",
       "    </tr>\n",
       "    <tr>\n",
       "      <th>16</th>\n",
       "      <td>60</td>\n",
       "      <td>41.2</td>\n",
       "    </tr>\n",
       "    <tr>\n",
       "      <th>17</th>\n",
       "      <td>61</td>\n",
       "      <td>35.7</td>\n",
       "    </tr>\n",
       "  </tbody>\n",
       "</table>\n",
       "</div>"
      ],
      "text/plain": [
       "    Age  Fat%\n",
       "0    23   9.5\n",
       "1    23  26.5\n",
       "2    27   7.8\n",
       "3    27  17.8\n",
       "4    39  31.4\n",
       "5    41  25.9\n",
       "6    47  27.4\n",
       "7    49  27.2\n",
       "8    50  31.2\n",
       "9    52  34.6\n",
       "10   54  42.5\n",
       "11   54  28.8\n",
       "12   56  33.4\n",
       "13   57  30.2\n",
       "14   58  34.1\n",
       "15   58  32.9\n",
       "16   60  41.2\n",
       "17   61  35.7"
      ]
     },
     "execution_count": 5,
     "metadata": {},
     "output_type": "execute_result"
    }
   ],
   "source": [
    "list = {'Age':[23, 23, 27, 27, 39,41, 47, 49, 50, 52, 54, 54, 56, 57, 58, 58, 60, 61], \n",
    "        'Fat%':[9.5, 26.5, 7.8, 17.8, 31.4, 25.9, 27.4, 27.2, 31.2,34.6, 42.5, 28.8, 33.4, 30.2, 34.1, 32.9, 41.2, 35.7 ]}\n",
    "\n",
    "df = pd.DataFrame(data=list)\n",
    "\n",
    "df"
   ]
  },
  {
   "cell_type": "markdown",
   "metadata": {},
   "source": [
    "# Question 1 "
   ]
  },
  {
   "cell_type": "markdown",
   "metadata": {},
   "source": [
    "Part a - Calculate the mean, median, and standard deviation of age and %fat."
   ]
  },
  {
   "cell_type": "code",
   "execution_count": 23,
   "metadata": {},
   "outputs": [
    {
     "name": "stdout",
     "output_type": "stream",
     "text": [
      "The mean age is: 46.44\n",
      "\n",
      "The mean body fat is: 28.78% \n",
      "\n",
      "The median age is: 51.0\n",
      "\n",
      "The median body fat is: 30.7%\n",
      "\n",
      "The standard deviation for age is: 12.85\n",
      "\n",
      "The standard deviation for body fat is: 8.99\n",
      "\n"
     ]
    }
   ],
   "source": [
    "mean_age = round(df['Age'].mean(), 2)\n",
    "mean_bf = round(df['Fat%'].mean(), 2)\n",
    "\n",
    "print('The mean age is: '+ str(mean_age)+'\\n')\n",
    "print('The mean body fat is: {}% '.format(mean_bf) +'\\n' )\n",
    "\n",
    "median_age = round(df['Age'].median(), 2)\n",
    "median_bf = round(df['Fat%'].median(), 2)\n",
    "\n",
    "print('The median age is: '+ str(median_age)+'\\n')\n",
    "print('The median body fat is: {}%'.format(median_bf) +'\\n' )\n",
    "\n",
    "sd_age = round(np.std(df['Age']), 2)\n",
    "sd_bf = round(np.std(df['Fat%']), 2)\n",
    "\n",
    "print('The standard deviation for age is: '+ str(sd_age)+'\\n')\n",
    "print('The standard deviation for body fat is: '+ str(sd_bf) +'\\n' )"
   ]
  },
  {
   "cell_type": "markdown",
   "metadata": {},
   "source": [
    "Part b - Draw the boxplots for age and %fat."
   ]
  },
  {
   "cell_type": "code",
   "execution_count": 36,
   "metadata": {},
   "outputs": [
    {
     "data": {
      "image/png": "[encoded data removed]",
      "text/plain": [
       "<Figure size 640x480 with 2 Axes>"
      ]
     },
     "metadata": {},
     "output_type": "display_data"
    }
   ],
   "source": [
    "plt.subplot(1,2,1)\n",
    "plt.boxplot(df['Age'], medianprops=dict(color='green'), flierprops=dict(markerfacecolor='red', marker='o'),notch = False, orientation='horizontal', )\n",
    "plt.title('Boxplot of Age')\n",
    "plt.xlabel('Age')\n",
    "\n",
    "plt.subplot(1,2,2)\n",
    "plt.boxplot(df['Fat%'], medianprops=dict(color='green'), flierprops=dict(markerfacecolor='red', marker='o'), notch = False, orientation='horizontal', )\n",
    "plt.title('Boxplot of Fat percentage')\n",
    "plt.xlabel('Fat percentage')\n",
    "\n",
    "plt.tight_layout()\n",
    "plt.show()"
   ]
  },
  {
   "cell_type": "markdown",
   "metadata": {},
   "source": [
    "# Question 3\n"
   ]
  },
  {
   "cell_type": "code",
   "execution_count": 37,
   "metadata": {},
   "outputs": [],
   "source": [
    "obj1 = np.array([18, 3, 40, 12])\n",
    "obj2 = np.array([25, 7, 35, 9])"
   ]
  },
  {
   "cell_type": "markdown",
   "metadata": {},
   "source": [
    "(a) Compute the Euclidean distance between the two objects."
   ]
  },
  {
   "cell_type": "code",
   "execution_count": null,
   "metadata": {},
   "outputs": [
    {
     "name": "stdout",
     "output_type": "stream",
     "text": [
      "The Euclidian distance is : 9.9498743710662 \n",
      "\n"
     ]
    }
   ],
   "source": [
    "# The euclidean distance is shortest distance between two arrays\n",
    "euclidean_distance = np.linalg.norm(obj2 - obj1)\n",
    "print('The Euclidean distance is : {} \\n'.format(euclidean_distance))"
   ]
  },
  {
   "cell_type": "markdown",
   "metadata": {},
   "source": [
    "(b) Compute the Manhattan distance between the two objects."
   ]
  },
  {
   "cell_type": "code",
   "execution_count": 48,
   "metadata": {},
   "outputs": [
    {
     "name": "stdout",
     "output_type": "stream",
     "text": [
      "The Manhattan distance is : 19 \n",
      "\n"
     ]
    }
   ],
   "source": [
    "manhattan_distance = sum((abs(a-b) for a, b in zip(obj1, obj2)))\n",
    "print('The Manhattan distance is : {} \\n'.format(manhattan_distance))\n"
   ]
  },
  {
   "cell_type": "markdown",
   "metadata": {},
   "source": [
    "(c) Compute the Minkowski distance between the two objects, using q = 4.\n"
   ]
  },
  {
   "cell_type": "code",
   "execution_count": 49,
   "metadata": {},
   "outputs": [],
   "source": [
    "from scipy.spatial import distance\n"
   ]
  },
  {
   "cell_type": "code",
   "execution_count": 50,
   "metadata": {},
   "outputs": [
    {
     "name": "stdout",
     "output_type": "stream",
     "text": [
      "The Minkowski distance when p=4 is : 7.615207066757405 \n",
      "\n"
     ]
    }
   ],
   "source": [
    "p_value = 4\n",
    "\n",
    "minkowski_distance_pvalue_4 = distance.minkowski(obj1, obj2, p_value)\n",
    "print('The Minkowski distance when p=4 is : {} \\n'.format(minkowski_distance_pvalue_4))\n"
   ]
  },
  {
   "cell_type": "markdown",
   "metadata": {},
   "source": [
    "# Question 4 \n"
   ]
  },
  {
   "cell_type": "code",
   "execution_count": 61,
   "metadata": {},
   "outputs": [
    {
     "data": {
      "text/html": [
       "<div>\n",
       "<style scoped>\n",
       "    .dataframe tbody tr th:only-of-type {\n",
       "        vertical-align: middle;\n",
       "    }\n",
       "\n",
       "    .dataframe tbody tr th {\n",
       "        vertical-align: top;\n",
       "    }\n",
       "\n",
       "    .dataframe thead th {\n",
       "        text-align: right;\n",
       "    }\n",
       "</style>\n",
       "<table border=\"1\" class=\"dataframe\">\n",
       "  <thead>\n",
       "    <tr style=\"text-align: right;\">\n",
       "      <th></th>\n",
       "      <th>A1</th>\n",
       "      <th>A2</th>\n",
       "    </tr>\n",
       "  </thead>\n",
       "  <tbody>\n",
       "    <tr>\n",
       "      <th>x1</th>\n",
       "      <td>1.5</td>\n",
       "      <td>1.7</td>\n",
       "    </tr>\n",
       "    <tr>\n",
       "      <th>x2</th>\n",
       "      <td>2.0</td>\n",
       "      <td>1.9</td>\n",
       "    </tr>\n",
       "    <tr>\n",
       "      <th>x3</th>\n",
       "      <td>1.6</td>\n",
       "      <td>1.8</td>\n",
       "    </tr>\n",
       "    <tr>\n",
       "      <th>x4</th>\n",
       "      <td>1.2</td>\n",
       "      <td>1.5</td>\n",
       "    </tr>\n",
       "    <tr>\n",
       "      <th>x5</th>\n",
       "      <td>1.5</td>\n",
       "      <td>1.0</td>\n",
       "    </tr>\n",
       "  </tbody>\n",
       "</table>\n",
       "</div>"
      ],
      "text/plain": [
       "     A1   A2\n",
       "x1  1.5  1.7\n",
       "x2  2.0  1.9\n",
       "x3  1.6  1.8\n",
       "x4  1.2  1.5\n",
       "x5  1.5  1.0"
      ]
     },
     "execution_count": 61,
     "metadata": {},
     "output_type": "execute_result"
    }
   ],
   "source": [
    "data = np.array([[1.5, 1.7], [2.0, 1.9], [1.6, 1.8], [1.2, 1.5], [1.5, 1.0]])\n",
    "index_values = ['x1', 'x2', 'x3', 'x4', 'x5']\n",
    "column_values= ['A1', 'A2']\n",
    "df4 = pd.DataFrame(data= data, index=index_values, columns=column_values )\n",
    "df4"
   ]
  },
  {
   "cell_type": "markdown",
   "metadata": {},
   "source": [
    "(a) Consider the data as 2-D data points. Given a new data point, x = (1.4,1.6) as a query, rank the database points based on similarity with the query using Euclidean distance, Manhattan distance, and cosine similarity."
   ]
  },
  {
   "cell_type": "code",
   "execution_count": null,
   "metadata": {},
   "outputs": [
    {
     "data": {
      "text/html": [
       "<div>\n",
       "<style scoped>\n",
       "    .dataframe tbody tr th:only-of-type {\n",
       "        vertical-align: middle;\n",
       "    }\n",
       "\n",
       "    .dataframe tbody tr th {\n",
       "        vertical-align: top;\n",
       "    }\n",
       "\n",
       "    .dataframe thead th {\n",
       "        text-align: right;\n",
       "    }\n",
       "</style>\n",
       "<table border=\"1\" class=\"dataframe\">\n",
       "  <thead>\n",
       "    <tr style=\"text-align: right;\">\n",
       "      <th></th>\n",
       "      <th>Original point</th>\n",
       "      <th>Euclidean distance from point</th>\n",
       "    </tr>\n",
       "  </thead>\n",
       "  <tbody>\n",
       "    <tr>\n",
       "      <th>0</th>\n",
       "      <td>x1</td>\n",
       "      <td>0.141421</td>\n",
       "    </tr>\n",
       "    <tr>\n",
       "      <th>3</th>\n",
       "      <td>x4</td>\n",
       "      <td>0.223607</td>\n",
       "    </tr>\n",
       "    <tr>\n",
       "      <th>2</th>\n",
       "      <td>x3</td>\n",
       "      <td>0.282843</td>\n",
       "    </tr>\n",
       "    <tr>\n",
       "      <th>4</th>\n",
       "      <td>x5</td>\n",
       "      <td>0.608276</td>\n",
       "    </tr>\n",
       "    <tr>\n",
       "      <th>1</th>\n",
       "      <td>x2</td>\n",
       "      <td>0.670820</td>\n",
       "    </tr>\n",
       "  </tbody>\n",
       "</table>\n",
       "</div>"
      ],
      "text/plain": [
       "  Original point  Euclidean distance from point\n",
       "0             x1                       0.141421\n",
       "3             x4                       0.223607\n",
       "2             x3                       0.282843\n",
       "4             x5                       0.608276\n",
       "1             x2                       0.670820"
      ]
     },
     "execution_count": 99,
     "metadata": {},
     "output_type": "execute_result"
    }
   ],
   "source": [
    "x = [1.4, 1.6]\n",
    "df_euclidean = pd.DataFrame()\n",
    "\n",
    "for a in range(len(data)):\n",
    "    #Calculating and adding euclidean distance of each point in the original data array from point x to the newly initialized dataframe\n",
    "    new_row= pd.DataFrame({'Original point': [df4.index[a]] , 'Euclidean distance from point':[ np.linalg.norm(x - data[a])] })\n",
    "    df_euclidean = pd.concat([df_euclidean, new_row], ignore_index=True)\n",
    "\n",
    "#Sorting by values of euclidean distance in ascending order to get highest similirity\n",
    "df_euclidean_sorted = df_euclidean.sort_values(by=['Euclidean distance from point'], ascending=True)\n",
    "df_euclidean_sorted"
   ]
  },
  {
   "cell_type": "code",
   "execution_count": null,
   "metadata": {},
   "outputs": [
    {
     "data": {
      "text/html": [
       "<div>\n",
       "<style scoped>\n",
       "    .dataframe tbody tr th:only-of-type {\n",
       "        vertical-align: middle;\n",
       "    }\n",
       "\n",
       "    .dataframe tbody tr th {\n",
       "        vertical-align: top;\n",
       "    }\n",
       "\n",
       "    .dataframe thead th {\n",
       "        text-align: right;\n",
       "    }\n",
       "</style>\n",
       "<table border=\"1\" class=\"dataframe\">\n",
       "  <thead>\n",
       "    <tr style=\"text-align: right;\">\n",
       "      <th></th>\n",
       "      <th>Original point</th>\n",
       "      <th>Manhattan distance from point</th>\n",
       "    </tr>\n",
       "  </thead>\n",
       "  <tbody>\n",
       "    <tr>\n",
       "      <th>0</th>\n",
       "      <td>x1</td>\n",
       "      <td>0.2</td>\n",
       "    </tr>\n",
       "    <tr>\n",
       "      <th>3</th>\n",
       "      <td>x4</td>\n",
       "      <td>0.3</td>\n",
       "    </tr>\n",
       "    <tr>\n",
       "      <th>2</th>\n",
       "      <td>x3</td>\n",
       "      <td>0.4</td>\n",
       "    </tr>\n",
       "    <tr>\n",
       "      <th>4</th>\n",
       "      <td>x5</td>\n",
       "      <td>0.7</td>\n",
       "    </tr>\n",
       "    <tr>\n",
       "      <th>1</th>\n",
       "      <td>x2</td>\n",
       "      <td>0.9</td>\n",
       "    </tr>\n",
       "  </tbody>\n",
       "</table>\n",
       "</div>"
      ],
      "text/plain": [
       "  Original point  Manhattan distance from point\n",
       "0             x1                            0.2\n",
       "3             x4                            0.3\n",
       "2             x3                            0.4\n",
       "4             x5                            0.7\n",
       "1             x2                            0.9"
      ]
     },
     "execution_count": 102,
     "metadata": {},
     "output_type": "execute_result"
    }
   ],
   "source": [
    "\n",
    "df_manhattan = pd.DataFrame()\n",
    "for a in range(len(data)):\n",
    "    #Calculating and adding manhattan distance of each point in the original data array from point x to the newly initialized dataframe\n",
    "    new_row= pd.DataFrame({'Original point': [df4.index[a]] , 'Manhattan distance from point':[np.sum(np.abs(x - data[a]))] })\n",
    "    df_manhattan = pd.concat([df_manhattan, new_row], ignore_index=True)\n",
    "\n",
    "#Sorting by values of manhattan distance in ascending order to get highest similarity\n",
    "df_manhattan_sorted = df_manhattan.sort_values(by=['Manhattan distance from point'], ascending=True)\n",
    "df_manhattan_sorted"
   ]
  },
  {
   "cell_type": "code",
   "execution_count": 109,
   "metadata": {},
   "outputs": [
    {
     "data": {
      "text/html": [
       "<div>\n",
       "<style scoped>\n",
       "    .dataframe tbody tr th:only-of-type {\n",
       "        vertical-align: middle;\n",
       "    }\n",
       "\n",
       "    .dataframe tbody tr th {\n",
       "        vertical-align: top;\n",
       "    }\n",
       "\n",
       "    .dataframe thead th {\n",
       "        text-align: right;\n",
       "    }\n",
       "</style>\n",
       "<table border=\"1\" class=\"dataframe\">\n",
       "  <thead>\n",
       "    <tr style=\"text-align: right;\">\n",
       "      <th></th>\n",
       "      <th>Original point</th>\n",
       "      <th>Cosine similarity with point</th>\n",
       "    </tr>\n",
       "  </thead>\n",
       "  <tbody>\n",
       "    <tr>\n",
       "      <th>0</th>\n",
       "      <td>x1</td>\n",
       "      <td>0.999991</td>\n",
       "    </tr>\n",
       "    <tr>\n",
       "      <th>2</th>\n",
       "      <td>x3</td>\n",
       "      <td>0.999969</td>\n",
       "    </tr>\n",
       "    <tr>\n",
       "      <th>3</th>\n",
       "      <td>x4</td>\n",
       "      <td>0.999028</td>\n",
       "    </tr>\n",
       "    <tr>\n",
       "      <th>1</th>\n",
       "      <td>x2</td>\n",
       "      <td>0.995752</td>\n",
       "    </tr>\n",
       "    <tr>\n",
       "      <th>4</th>\n",
       "      <td>x5</td>\n",
       "      <td>0.965363</td>\n",
       "    </tr>\n",
       "  </tbody>\n",
       "</table>\n",
       "</div>"
      ],
      "text/plain": [
       "  Original point  Cosine similarity with point\n",
       "0             x1                      0.999991\n",
       "2             x3                      0.999969\n",
       "3             x4                      0.999028\n",
       "1             x2                      0.995752\n",
       "4             x5                      0.965363"
      ]
     },
     "execution_count": 109,
     "metadata": {},
     "output_type": "execute_result"
    }
   ],
   "source": [
    "df_cosine = pd.DataFrame()\n",
    "\n",
    "for a in range(len(data)):\n",
    "    #Calculating the cosine similirity by first calculating numerator ie: dot product\n",
    "    cosine_numerator = np.dot(x, data[a])\n",
    "\n",
    "    #Computing euclidean norms of both x and data[a]\n",
    "    norm_x = np.linalg.norm(x)\n",
    "    norm_data_point = np.linalg.norm(data[a])\n",
    "\n",
    "    #Calculating the denominator ie: product of both norms\n",
    "    cosine_denominator = norm_x * norm_data_point\n",
    "\n",
    "    #Calculating cosine similarity\n",
    "    cosine_similarity = cosine_numerator/cosine_denominator\n",
    "\n",
    "    #Adding values to previously initialized dataframe\n",
    "    new_row= pd.DataFrame({'Original point': [df4.index[a]] , 'Cosine similarity with point':[cosine_similarity] })\n",
    "    df_cosine= pd.concat([df_cosine, new_row], ignore_index=True)\n",
    "\n",
    "#Sorting the created datafram across the cosine similarity values setting order to descending order to get maximum similarity\n",
    "df_cosine_sorted = df_cosine.sort_values(by=['Cosine similarity with point'], ascending=False)\n",
    "df_cosine_sorted"
   ]
  },
  {
   "cell_type": "markdown",
   "metadata": {},
   "source": [
    "(b) Normalize the data set to make the norm of each data point equal to 1. Use Euclidean distance on the transformed data to rank the data points."
   ]
  },
  {
   "cell_type": "code",
   "execution_count": null,
   "metadata": {},
   "outputs": [],
   "source": []
  }
 ],
 "metadata": {
  "kernelspec": {
   "display_name": ".venv",
   "language": "python",
   "name": "python3"
  },
  "language_info": {
   "codemirror_mode": {
    "name": "ipython",
    "version": 3
   },
   "file_extension": ".py",
   "mimetype": "text/x-python",
   "name": "python",
   "nbconvert_exporter": "python",
   "pygments_lexer": "ipython3",
   "version": "3.12.4"
  }
 },
 "nbformat": 4,
 "nbformat_minor": 2
}
